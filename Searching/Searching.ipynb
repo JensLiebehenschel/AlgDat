{
 "cells": [
  {
   "cell_type": "markdown",
   "metadata": {},
   "source": [
    "### Copyright 2021 Jens Liebehenschel, Frankfurt University of Applied Sciences, FB2, Computer Science\n",
    "### No liability or warranty; only for educational and non-commercial purposes\n",
    "### See some basic hints for working with Jupyter notebooks in README.md\n",
    "## Linear and binary search"
   ]
  },
  {
   "cell_type": "code",
   "execution_count": 1,
   "metadata": {},
   "outputs": [],
   "source": [
    "# returns the index of key in a or False if not found\n",
    "def linear_search(a, key):\n",
    "    for i in range(len(a)):\n",
    "        if key == a[i]:\n",
    "            return i\n",
    "    return False"
   ]
  },
  {
   "cell_type": "code",
   "execution_count": 2,
   "metadata": {},
   "outputs": [],
   "source": [
    "# returns the index of key in a or False if not found\n",
    "def binary_search(a, key):\n",
    "    left = 0\n",
    "    right = len(a)-1\n",
    "    while (left <= right):\n",
    "        mid = (left + right) // 2\n",
    "        if key == a[mid]:\n",
    "            return mid\n",
    "        elif key < a[mid]:\n",
    "            right = mid - 1\n",
    "        else:\n",
    "            left = mid + 1\n",
    "    return False"
   ]
  },
  {
   "cell_type": "markdown",
   "metadata": {},
   "source": [
    "## Constants"
   ]
  },
  {
   "cell_type": "code",
   "execution_count": 3,
   "metadata": {},
   "outputs": [],
   "source": [
    "# The size of elements in tests can be changed here\n",
    "ARRAY_SIZE = 10"
   ]
  },
  {
   "cell_type": "code",
   "execution_count": 4,
   "metadata": {},
   "outputs": [],
   "source": [
    "# Some output text\n",
    "TEXT_BEFORE_SEARCHING = \"Searching keys in array\"\n",
    "SEARCH_KEY = \"Searching key\"\n",
    "SEARCH_RESULT = \"-> result\"\n",
    "HINT_BINARY_SEARCH = \"\\nWARNING: The following results can be wrong, since the array is not sorted!\""
   ]
  },
  {
   "cell_type": "markdown",
   "metadata": {},
   "source": [
    "## Generate test data and test algorithms"
   ]
  },
  {
   "cell_type": "code",
   "execution_count": 5,
   "metadata": {},
   "outputs": [],
   "source": [
    "# use numpy for generating random input\n",
    "import numpy\n",
    "# initialialize random number generator to obtain reproducable results\n",
    "# other values might be used or even no initialization done here\n",
    "numpy.random.seed(0)"
   ]
  },
  {
   "cell_type": "code",
   "execution_count": 6,
   "metadata": {},
   "outputs": [],
   "source": [
    "# tests for search algorithms using different arrays\n",
    "sorted_array = list(range(ARRAY_SIZE))\n",
    "reverse_sorted_array = list(range(ARRAY_SIZE-1, -1, -1))\n",
    "random_array = list(numpy.random.permutation(ARRAY_SIZE))"
   ]
  },
  {
   "cell_type": "code",
   "execution_count": 7,
   "metadata": {},
   "outputs": [
    {
     "name": "stdout",
     "output_type": "stream",
     "text": [
      "Searching keys in array [0, 1, 2, 3, 4, 5, 6, 7, 8, 9]\n",
      "Searching key 0 -> result 0\n",
      "Searching key 1 -> result 1\n",
      "Searching key 2 -> result 2\n",
      "Searching key 3 -> result 3\n",
      "Searching key 4 -> result 4\n",
      "Searching key 5 -> result 5\n",
      "Searching key 6 -> result 6\n",
      "Searching key 7 -> result 7\n",
      "Searching key 8 -> result 8\n",
      "Searching key 9 -> result 9\n",
      "Searching key 10 -> result False\n",
      "\n",
      "Searching keys in array [9, 8, 7, 6, 5, 4, 3, 2, 1, 0]\n",
      "Searching key 9 -> result 0\n",
      "Searching key 8 -> result 1\n",
      "Searching key 7 -> result 2\n",
      "Searching key 6 -> result 3\n",
      "Searching key 5 -> result 4\n",
      "Searching key 4 -> result 5\n",
      "Searching key 3 -> result 6\n",
      "Searching key 2 -> result 7\n",
      "Searching key 1 -> result 8\n",
      "Searching key 0 -> result 9\n",
      "Searching key 10 -> result False\n",
      "\n",
      "Searching keys in array [2, 8, 4, 9, 1, 6, 7, 3, 0, 5]\n",
      "Searching key 2 -> result 0\n",
      "Searching key 8 -> result 1\n",
      "Searching key 4 -> result 2\n",
      "Searching key 9 -> result 3\n",
      "Searching key 1 -> result 4\n",
      "Searching key 6 -> result 5\n",
      "Searching key 7 -> result 6\n",
      "Searching key 3 -> result 7\n",
      "Searching key 0 -> result 8\n",
      "Searching key 5 -> result 9\n",
      "Searching key 10 -> result False\n"
     ]
    }
   ],
   "source": [
    "# linear search for all values in arrays, and one non-existing key\n",
    "print(TEXT_BEFORE_SEARCHING, sorted_array)\n",
    "for key in sorted_array + [ARRAY_SIZE]:\n",
    "    print(SEARCH_KEY, key, SEARCH_RESULT, linear_search(sorted_array, key))\n",
    "\n",
    "print('\\n'+TEXT_BEFORE_SEARCHING, reverse_sorted_array)\n",
    "for key in reverse_sorted_array + [ARRAY_SIZE]:\n",
    "    print(SEARCH_KEY, key, SEARCH_RESULT, linear_search(reverse_sorted_array, key))\n",
    "\n",
    "print('\\n'+TEXT_BEFORE_SEARCHING, random_array)\n",
    "for key in random_array + [ARRAY_SIZE]:\n",
    "    print(SEARCH_KEY, key, SEARCH_RESULT, linear_search(random_array, key))"
   ]
  },
  {
   "cell_type": "code",
   "execution_count": 8,
   "metadata": {
    "scrolled": false
   },
   "outputs": [
    {
     "name": "stdout",
     "output_type": "stream",
     "text": [
      "Searching keys in array [0, 1, 2, 3, 4, 5, 6, 7, 8, 9]\n",
      "Searching key 0 -> result 0\n",
      "Searching key 1 -> result 1\n",
      "Searching key 2 -> result 2\n",
      "Searching key 3 -> result 3\n",
      "Searching key 4 -> result 4\n",
      "Searching key 5 -> result 5\n",
      "Searching key 6 -> result 6\n",
      "Searching key 7 -> result 7\n",
      "Searching key 8 -> result 8\n",
      "Searching key 9 -> result 9\n",
      "Searching key 10 -> result False\n",
      "\n",
      "WARNING: The following results can be wrong, since the array is not sorted!\n",
      "Searching keys in array [9, 8, 7, 6, 5, 4, 3, 2, 1, 0]\n",
      "Searching key 9 -> result False\n",
      "Searching key 8 -> result False\n",
      "Searching key 7 -> result False\n",
      "Searching key 6 -> result False\n",
      "Searching key 5 -> result 4\n",
      "Searching key 4 -> result False\n",
      "Searching key 3 -> result False\n",
      "Searching key 2 -> result False\n",
      "Searching key 1 -> result False\n",
      "Searching key 0 -> result False\n",
      "Searching key 10 -> result False\n",
      "\n",
      "WARNING: The following results can be wrong, since the array is not sorted!\n",
      "Searching keys in array [2, 8, 4, 9, 1, 6, 7, 3, 0, 5]\n",
      "Searching key 2 -> result False\n",
      "Searching key 8 -> result False\n",
      "Searching key 4 -> result False\n",
      "Searching key 9 -> result False\n",
      "Searching key 1 -> result 4\n",
      "Searching key 6 -> result False\n",
      "Searching key 7 -> result False\n",
      "Searching key 3 -> result 7\n",
      "Searching key 0 -> result False\n",
      "Searching key 5 -> result 9\n",
      "Searching key 10 -> result False\n"
     ]
    }
   ],
   "source": [
    "# binary search for all values in arrays, and one non-existing key\n",
    "print(TEXT_BEFORE_SEARCHING, sorted_array)\n",
    "for key in sorted_array + [ARRAY_SIZE]:\n",
    "    print(SEARCH_KEY, key, SEARCH_RESULT, binary_search(sorted_array, key))\n",
    "\n",
    "print(HINT_BINARY_SEARCH)\n",
    "print(TEXT_BEFORE_SEARCHING, reverse_sorted_array)\n",
    "for key in reverse_sorted_array + [ARRAY_SIZE]:\n",
    "    print(SEARCH_KEY, key, SEARCH_RESULT, binary_search(reverse_sorted_array, key))\n",
    "\n",
    "print(HINT_BINARY_SEARCH)\n",
    "print(TEXT_BEFORE_SEARCHING, random_array)\n",
    "for key in random_array + [ARRAY_SIZE]:\n",
    "    print(SEARCH_KEY, key, SEARCH_RESULT, binary_search(random_array, key))"
   ]
  },
  {
   "cell_type": "code",
   "execution_count": 9,
   "metadata": {},
   "outputs": [
    {
     "name": "stdout",
     "output_type": "stream",
     "text": [
      "Searching keys in array [1, 3, 5, 7] using linear search\n",
      "Searching key 1 -> result 0\n",
      "Searching key 3 -> result 1\n",
      "Searching key 5 -> result 2\n",
      "Searching key 7 -> result 3\n",
      "Searching key -1 -> result False\n",
      "\n",
      "Searching keys in array [1, 3, 5, 7] using binary search\n",
      "Searching key 1 -> result 0\n",
      "Searching key 3 -> result 1\n",
      "Searching key 5 -> result 2\n",
      "Searching key 7 -> result 3\n",
      "Searching key -1 -> result False\n"
     ]
    }
   ],
   "source": [
    "# your test here ...\n",
    "array = [1,3,5,7]\n",
    "\n",
    "print(TEXT_BEFORE_SEARCHING, array, \"using linear search\")\n",
    "for key in array + [-1]:\n",
    "    print(SEARCH_KEY, key, SEARCH_RESULT, linear_search(array, key))\n",
    "\n",
    "print('\\n'+TEXT_BEFORE_SEARCHING, array, \"using binary search\")\n",
    "for key in array + [-1]:\n",
    "    print(SEARCH_KEY, key, SEARCH_RESULT, binary_search(array, key))"
   ]
  },
  {
   "cell_type": "code",
   "execution_count": 10,
   "metadata": {},
   "outputs": [],
   "source": [
    "# ... and here ...\n"
   ]
  }
 ],
 "metadata": {
  "kernelspec": {
   "display_name": "Python 3",
   "language": "python",
   "name": "python3"
  },
  "language_info": {
   "codemirror_mode": {
    "name": "ipython",
    "version": 3
   },
   "file_extension": ".py",
   "mimetype": "text/x-python",
   "name": "python",
   "nbconvert_exporter": "python",
   "pygments_lexer": "ipython3",
   "version": "3.8.5"
  }
 },
 "nbformat": 4,
 "nbformat_minor": 4
}
