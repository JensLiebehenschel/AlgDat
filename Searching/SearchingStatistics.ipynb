{
 "cells": [
  {
   "cell_type": "markdown",
   "metadata": {},
   "source": [
    "### Copyright 2021 Jens Liebehenschel, Frankfurt University of Applied Sciences, FB2, Computer Science\n",
    "### No liability or warranty; only for educational and non-commercial purposes\n",
    "### See some basic hints for working with Jupyter notebooks in README.md\n",
    "## Linear and binary search with output of some statistics"
   ]
  },
  {
   "cell_type": "code",
   "execution_count": 1,
   "metadata": {},
   "outputs": [],
   "source": [
    "# returns the index of key in a or False if not found\n",
    "def linear_search(a, key):\n",
    "    global comparison_keys, cond_check_loop, exec_loop\n",
    "    for i in range(len(a)):\n",
    "        cond_check_loop += 1\n",
    "        exec_loop += 1\n",
    "        comparison_keys += 1\n",
    "        if key == a[i]:\n",
    "            return i\n",
    "    # this counts the last condition check\n",
    "    cond_check_loop += 1\n",
    "    return False"
   ]
  },
  {
   "cell_type": "code",
   "execution_count": 2,
   "metadata": {},
   "outputs": [],
   "source": [
    "# returns the index of key in a or False if not found\n",
    "def binary_search(a, key):\n",
    "    global comparison_keys, exec_loop, cond_check_loop\n",
    "    left = 0\n",
    "    right = len(a)-1\n",
    "    while (left <= right):\n",
    "        cond_check_loop += 1\n",
    "        exec_loop += 1\n",
    "        mid = (left + right) // 2\n",
    "        comparison_keys += 1\n",
    "        if key == a[mid]:\n",
    "            return mid\n",
    "        elif key < a[mid]:\n",
    "            right = mid - 1\n",
    "        else:\n",
    "            left = mid + 1\n",
    "        # this counts \"key < a[mid]\"\n",
    "        comparison_keys += 1\n",
    "    # this counts the last condition check\n",
    "    cond_check_loop += 1\n",
    "    return False"
   ]
  },
  {
   "cell_type": "markdown",
   "metadata": {},
   "source": [
    "## Global variables for easier information exchange between functions"
   ]
  },
  {
   "cell_type": "code",
   "execution_count": 3,
   "metadata": {},
   "outputs": [],
   "source": [
    "comparison_keys = 0\n",
    "cond_check_loop = 0\n",
    "exec_loop = 0"
   ]
  },
  {
   "cell_type": "markdown",
   "metadata": {},
   "source": [
    "## Imports"
   ]
  },
  {
   "cell_type": "code",
   "execution_count": 4,
   "metadata": {},
   "outputs": [],
   "source": [
    "# use random for generating a subset of given size and random positions for key to be searched\n",
    "import random\n",
    "\n",
    "# use numpy for generating random permutation\n",
    "import numpy\n",
    "\n",
    "# initialialize random number generators to obtain reproducable results\n",
    "# other values might be used or even no initialization done here\n",
    "random.seed(1)\n",
    "numpy.random.seed(1)"
   ]
  },
  {
   "cell_type": "markdown",
   "metadata": {},
   "source": [
    "## Constants"
   ]
  },
  {
   "cell_type": "code",
   "execution_count": 5,
   "metadata": {},
   "outputs": [],
   "source": [
    "# The size of array in tests can be changed here\n",
    "ARRAY_SIZE = 100\n",
    "NUM_SEARCHES = 100"
   ]
  },
  {
   "cell_type": "markdown",
   "metadata": {},
   "source": [
    "## Generate test data and test algorithms"
   ]
  },
  {
   "cell_type": "code",
   "execution_count": 6,
   "metadata": {},
   "outputs": [],
   "source": [
    "# test for search algorithms\n",
    "random_array_all_keys = list(numpy.random.permutation(ARRAY_SIZE))"
   ]
  },
  {
   "cell_type": "markdown",
   "metadata": {},
   "source": [
    "### Linear search"
   ]
  },
  {
   "cell_type": "code",
   "execution_count": 7,
   "metadata": {},
   "outputs": [
    {
     "name": "stdout",
     "output_type": "stream",
     "text": [
      "Successful linear search (random keys): Average number of loop executions: 51.02\n"
     ]
    }
   ],
   "source": [
    "# linear search for all keys in arrays\n",
    "# successful search of random element\n",
    "sum_exec_loop = 0\n",
    "for i in range(NUM_SEARCHES):\n",
    "    exec_loop = 0\n",
    "    linear_search(random_array_all_keys, random.randrange(ARRAY_SIZE))\n",
    "    sum_exec_loop += exec_loop\n",
    "print(\"Successful linear search (random keys): Average number of loop executions:\", sum_exec_loop / NUM_SEARCHES)"
   ]
  },
  {
   "cell_type": "code",
   "execution_count": 8,
   "metadata": {},
   "outputs": [
    {
     "name": "stdout",
     "output_type": "stream",
     "text": [
      "Successful linear search (every key once): Average number of loop executions: 50.5\n"
     ]
    }
   ],
   "source": [
    "# linear search for all keys in arrays\n",
    "# successful search of all keys\n",
    "sum_exec_loop = 0\n",
    "for i in range(NUM_SEARCHES):\n",
    "    exec_loop = 0\n",
    "    linear_search(random_array_all_keys, i)\n",
    "    sum_exec_loop += exec_loop\n",
    "print(\"Successful linear search (every key once): Average number of loop executions:\", sum_exec_loop / NUM_SEARCHES)"
   ]
  },
  {
   "cell_type": "code",
   "execution_count": 9,
   "metadata": {},
   "outputs": [
    {
     "name": "stdout",
     "output_type": "stream",
     "text": [
      "Unsuccessful linear search: Average number of loop executions: 100.0\n"
     ]
    }
   ],
   "source": [
    "# linear unsuccessful search\n",
    "sum_exec_loop = 0\n",
    "for i in range(NUM_SEARCHES):\n",
    "    exec_loop = 0\n",
    "    linear_search(random_array_all_keys, ARRAY_SIZE)\n",
    "    sum_exec_loop += exec_loop\n",
    "print(\"Unsuccessful linear search: Average number of loop executions:\", sum_exec_loop / NUM_SEARCHES)"
   ]
  },
  {
   "cell_type": "markdown",
   "metadata": {},
   "source": [
    "### Binary search"
   ]
  },
  {
   "cell_type": "code",
   "execution_count": 10,
   "metadata": {},
   "outputs": [],
   "source": [
    "# for binary search the arrays have to be sorted\n",
    "random_array_all_keys.sort()"
   ]
  },
  {
   "cell_type": "code",
   "execution_count": 11,
   "metadata": {},
   "outputs": [
    {
     "name": "stdout",
     "output_type": "stream",
     "text": [
      "Successful binary search (random keys): Average number of loop executions: 5.91\n"
     ]
    }
   ],
   "source": [
    "# binary search for all keys in arrays\n",
    "# successful search of random element\n",
    "sum_exec_loop = 0\n",
    "for i in range(NUM_SEARCHES):\n",
    "    exec_loop = 0\n",
    "    binary_search(random_array_all_keys, random.randrange(ARRAY_SIZE))\n",
    "    sum_exec_loop += exec_loop\n",
    "print(\"Successful binary search (random keys): Average number of loop executions:\", sum_exec_loop / NUM_SEARCHES)"
   ]
  },
  {
   "cell_type": "code",
   "execution_count": 12,
   "metadata": {},
   "outputs": [
    {
     "name": "stdout",
     "output_type": "stream",
     "text": [
      "Successful binary search (random keys): Average number of loop executions: 6.75\n"
     ]
    }
   ],
   "source": [
    "# binary search for all keys in arrays\n",
    "# unsuccessful search of random element\n",
    "sum_exec_loop = 0\n",
    "for i in range(NUM_SEARCHES):\n",
    "    exec_loop = 0\n",
    "    binary_search(random_array_all_keys, random.randrange(ARRAY_SIZE)+0.5) # this key does not exist\n",
    "    sum_exec_loop += exec_loop\n",
    "print(\"Successful binary search (random keys): Average number of loop executions:\", sum_exec_loop / NUM_SEARCHES)"
   ]
  },
  {
   "cell_type": "code",
   "execution_count": 13,
   "metadata": {},
   "outputs": [
    {
     "name": "stdout",
     "output_type": "stream",
     "text": [
      "Successful binary search (every key once): Average number of loop executions: 5.8\n"
     ]
    }
   ],
   "source": [
    "# binary search for all keys in arrays\n",
    "# successful search all keys\n",
    "sum_exec_loop = 0\n",
    "for i in range(NUM_SEARCHES):\n",
    "    exec_loop = 0\n",
    "    binary_search(random_array_all_keys, i)\n",
    "    sum_exec_loop += exec_loop\n",
    "print(\"Successful binary search (every key once): Average number of loop executions:\", sum_exec_loop / NUM_SEARCHES)"
   ]
  },
  {
   "cell_type": "code",
   "execution_count": 14,
   "metadata": {},
   "outputs": [
    {
     "name": "stdout",
     "output_type": "stream",
     "text": [
      "Unsuccessful binary search (every key once): Average number of loop executions: 6.74\n"
     ]
    }
   ],
   "source": [
    "# binary search for all keys in arrays\n",
    "# unsuccessful search all keys\n",
    "sum_exec_loop = 0\n",
    "for i in range(NUM_SEARCHES):\n",
    "    exec_loop = 0\n",
    "    binary_search(random_array_all_keys, i+0.5) # this key does not exist\n",
    "    sum_exec_loop += exec_loop\n",
    "print(\"Unsuccessful binary search (every key once): Average number of loop executions:\", sum_exec_loop / NUM_SEARCHES)"
   ]
  },
  {
   "cell_type": "code",
   "execution_count": 15,
   "metadata": {},
   "outputs": [],
   "source": [
    "# for mixing successful and unsuccessful binary search it is necessary to have a defined range of keys\n",
    "MIN_KEY = 0\n",
    "MAX_KEY = 2*ARRAY_SIZE-1\n",
    "random_array_sparse = random.sample(list(range(MIN_KEY, MAX_KEY+1)), ARRAY_SIZE)\n",
    "# for binary search the arrays have to be sorted\n",
    "random_array_sparse.sort()"
   ]
  },
  {
   "cell_type": "code",
   "execution_count": 16,
   "metadata": {},
   "outputs": [
    {
     "name": "stdout",
     "output_type": "stream",
     "text": [
      "Unsuccessful binary search: Average number of loop executions: 6.73\n"
     ]
    }
   ],
   "source": [
    "# binary unsuccessful search\n",
    "sum_exec_loop = 0\n",
    "for i in range(NUM_SEARCHES):\n",
    "    exec_loop = 0\n",
    "    # search for key not present in the array\n",
    "    key = random.randrange(MIN_KEY, MAX_KEY+1)\n",
    "    while key in random_array_sparse:\n",
    "        key = random.randrange(MIN_KEY, MAX_KEY+1)\n",
    "    binary_search(random_array_sparse, key)\n",
    "    sum_exec_loop += exec_loop\n",
    "print(\"Unsuccessful binary search: Average number of loop executions:\", sum_exec_loop / NUM_SEARCHES)"
   ]
  },
  {
   "cell_type": "code",
   "execution_count": 17,
   "metadata": {},
   "outputs": [
    {
     "name": "stdout",
     "output_type": "stream",
     "text": [
      "Binary search: Average number of loop executions: 6.44\n",
      "Successful: Average number of loop executions: 6.096153846153846\n",
      "Unsuccessful: Average number of loop executions: 6.8125\n"
     ]
    }
   ],
   "source": [
    "# binary search (successful or unsuccessful depending on randomly chosen key)\n",
    "sum_exec_loop = 0\n",
    "sum_exec_loop_succ = 0\n",
    "sum_exec_loop_unsucc = 0\n",
    "num_succ = 0\n",
    "num_unsucc = 0\n",
    "for i in range(NUM_SEARCHES):\n",
    "    exec_loop = 0\n",
    "    # search for random key\n",
    "    if binary_search(random_array_sparse, random.randrange(MIN_KEY, MAX_KEY+1)) != False:\n",
    "        sum_exec_loop_succ += exec_loop\n",
    "        num_succ += 1\n",
    "    else:\n",
    "        sum_exec_loop_unsucc += exec_loop\n",
    "        num_unsucc += 1\n",
    "    sum_exec_loop += exec_loop\n",
    "print(\"Binary search: Average number of loop executions:\", sum_exec_loop / NUM_SEARCHES)\n",
    "print(\"Successful: Average number of loop executions:\", sum_exec_loop_succ / num_succ)\n",
    "print(\"Unsuccessful: Average number of loop executions:\", sum_exec_loop_unsucc / num_unsucc)"
   ]
  },
  {
   "cell_type": "markdown",
   "metadata": {},
   "source": [
    "## Graphical output of some statistics to gain better insight"
   ]
  },
  {
   "cell_type": "code",
   "execution_count": 18,
   "metadata": {},
   "outputs": [],
   "source": [
    "# for visualization we make use of pyplot\n",
    "import matplotlib.pyplot as plt\n",
    "# used for calculation of y range\n",
    "import math"
   ]
  },
  {
   "cell_type": "code",
   "execution_count": 19,
   "metadata": {},
   "outputs": [
    {
     "data": {
      "image/png": "[encoded data removed]",
      "text/plain": [
       "<Figure size 1080x360 with 1 Axes>"
      ]
     },
     "metadata": {
      "needs_background": "light"
     },
     "output_type": "display_data"
    }
   ],
   "source": [
    "# linear search for all keys in array\n",
    "# plot of convergence of increasing number of successful searches of random elements against theoretical average\n",
    "sum_exec_loop = 0\n",
    "average_up_to_current_search = []\n",
    "for i in range(1, NUM_SEARCHES+1):\n",
    "    exec_loop = 0\n",
    "    linear_search(random_array_all_keys, random.randrange(ARRAY_SIZE))\n",
    "    sum_exec_loop += exec_loop\n",
    "    average_up_to_current_search.append(sum_exec_loop / i)\n",
    "# create plot with ...\n",
    "plt.figure(figsize=(15, 5))\n",
    "plt.axis([0, NUM_SEARCHES, ((1+ARRAY_SIZE)/2)*0.6, ((1+ARRAY_SIZE)/2)*1.4])\n",
    "# blue: average with search for an increasing number of random keys\n",
    "plt.plot(list(range(1,NUM_SEARCHES+1)), average_up_to_current_search, \"bo-\")\n",
    "# black: theoretical average\n",
    "plt.plot(list(range(1,NUM_SEARCHES+1)), [(1+ARRAY_SIZE)/2]*NUM_SEARCHES, \"k-\")\n",
    "plt.show()"
   ]
  },
  {
   "cell_type": "code",
   "execution_count": 20,
   "metadata": {},
   "outputs": [
    {
     "data": {
      "image/png": "[encoded data removed]",
      "text/plain": [
       "<Figure size 1080x360 with 1 Axes>"
      ]
     },
     "metadata": {
      "needs_background": "light"
     },
     "output_type": "display_data"
    }
   ],
   "source": [
    "# binary search (successful or unsuccessful depending on randomly chosen key)\n",
    "sum_exec_loop = 0\n",
    "sum_exec_loop_succ = 0\n",
    "sum_exec_loop_unsucc = 0\n",
    "num_succ = 0\n",
    "num_unsucc = 0\n",
    "average_up_to_current_search = []\n",
    "average_up_to_current_search_succ = []\n",
    "average_up_to_current_search_unsucc = []\n",
    "pos_succ_search = []\n",
    "pos_unsucc_search = []\n",
    "for i in range(1, NUM_SEARCHES+1):\n",
    "    exec_loop = 0\n",
    "    # search for random key\n",
    "    if binary_search(random_array_sparse, random.randrange(MIN_KEY, MAX_KEY+1)) != False:\n",
    "        sum_exec_loop_succ += exec_loop\n",
    "        num_succ += 1\n",
    "        average_up_to_current_search_succ.append(sum_exec_loop_succ / num_succ)\n",
    "        pos_succ_search.append(i)\n",
    "    else:\n",
    "        sum_exec_loop_unsucc += exec_loop\n",
    "        num_unsucc += 1\n",
    "        average_up_to_current_search_unsucc.append(sum_exec_loop_unsucc / num_unsucc)\n",
    "        pos_unsucc_search.append(i)\n",
    "    sum_exec_loop += exec_loop\n",
    "    average_up_to_current_search.append(sum_exec_loop / i)\n",
    "# create plot with ...\n",
    "plt.figure(figsize=(15, 5))\n",
    "plt.axis([0, NUM_SEARCHES, math.log(ARRAY_SIZE,2)-2, math.log(ARRAY_SIZE,2)+1])\n",
    "# blue: average with search for an increasing number of random keys\n",
    "plt.plot(list(range(1,NUM_SEARCHES+1)), average_up_to_current_search, \"bo-\")\n",
    "# green: successful search\n",
    "plt.plot(pos_succ_search, average_up_to_current_search_succ, \"go-\")\n",
    "# red: unsuccessful search\n",
    "plt.plot(pos_unsucc_search, average_up_to_current_search_unsucc, \"ro-\")\n",
    "plt.show()"
   ]
  },
  {
   "cell_type": "code",
   "execution_count": null,
   "metadata": {},
   "outputs": [],
   "source": []
  }
 ],
 "metadata": {
  "kernelspec": {
   "display_name": "Python 3",
   "language": "python",
   "name": "python3"
  },
  "language_info": {
   "codemirror_mode": {
    "name": "ipython",
    "version": 3
   },
   "file_extension": ".py",
   "mimetype": "text/x-python",
   "name": "python",
   "nbconvert_exporter": "python",
   "pygments_lexer": "ipython3",
   "version": "3.8.5"
  }
 },
 "nbformat": 4,
 "nbformat_minor": 4
}
