{
 "cells": [
  {
   "cell_type": "markdown",
   "metadata": {},
   "source": [
    "#### Author: Jens Liebehenschel (2021)\n",
    "#### Frankfurt University of Applied Sciences, FB2, Computer Science\n",
    "#### For educational purposes only and not necessarily very pythonic\n",
    "## Sorting an array using insertion sort\n",
    "#### Based on Cormen et. al.: Introduction to Algorithms\n",
    "## For execution of complete code click on \"Kernel\", then on \"Restart & Run All\"\n",
    "## At the end of your experiments click on \"File\", then on \"Close and Halt\""
   ]
  },
  {
   "cell_type": "code",
   "execution_count": 1,
   "metadata": {},
   "outputs": [],
   "source": [
    "def insertion_sort(a):\n",
    "    for j in range(1, len(a)):\n",
    "        # at beginning of every iteration the array consists of two parts\n",
    "        # sorted part: a[0:j]\n",
    "        # not yet sorted: a[j:len(a)]\n",
    "        key = a[j]\n",
    "        i = j-1\n",
    "        # insert key = a[j] into the right position in sorted part\n",
    "        while i >= 0 and a[i] > key:\n",
    "            a[i+1] = a[i]\n",
    "            i = i-1\n",
    "        a[i+1] = key\n",
    "    return a"
   ]
  },
  {
   "cell_type": "markdown",
   "metadata": {},
   "source": [
    "## Constants"
   ]
  },
  {
   "cell_type": "code",
   "execution_count": 2,
   "metadata": {},
   "outputs": [],
   "source": [
    "# The size of elements in tests can be changed here\n",
    "ARRAY_SIZE = 10\n",
    "# Some output text\n",
    "TEXT_BEFORE_SORTING = \"Before sorting:\"\n",
    "TEXT_AFTER_SORTING = \"After  sorting:\""
   ]
  },
  {
   "cell_type": "markdown",
   "metadata": {},
   "source": [
    "## Generate test data and test sorting algorithm"
   ]
  },
  {
   "cell_type": "code",
   "execution_count": 3,
   "metadata": {},
   "outputs": [],
   "source": [
    "# test sorting sorted array\n",
    "sorted_array = list(range(ARRAY_SIZE))\n",
    "print(TEXT_BEFORE_SORTING, sorted_array)\n",
    "print(TEXT_AFTER_SORTING, insertion_sort(sorted_array))"
   ]
  },
  {
   "cell_type": "code",
   "execution_count": 4,
   "metadata": {},
   "outputs": [],
   "source": [
    "# test sorting reversly sorted array\n",
    "reverse_sorted_array = list(range(ARRAY_SIZE-1, -1, -1))\n",
    "print(TEXT_BEFORE_SORTING, reverse_sorted_array)\n",
    "print(TEXT_AFTER_SORTING, insertion_sort(reverse_sorted_array))"
   ]
  },
  {
   "cell_type": "code",
   "execution_count": 5,
   "metadata": {},
   "outputs": [],
   "source": [
    "# test sorting random array\n",
    "# use numpy for generating a permutation\n",
    "import numpy\n",
    "# initialialize random number generator to obtain reproducable results\n",
    "# other values might be used or even no initialization done here\n",
    "numpy.random.seed(0)\n",
    "# now generate random data and test sorting\n",
    "array = list(numpy.random.permutation(ARRAY_SIZE))\n",
    "print(TEXT_BEFORE_SORTING, array)\n",
    "print(TEXT_AFTER_SORTING, insertion_sort(array))"
   ]
  },
  {
   "cell_type": "code",
   "execution_count": 6,
   "metadata": {},
   "outputs": [],
   "source": [
    "# your test here ...\n",
    "array = [1,3,2]\n",
    "print(TEXT_BEFORE_SORTING, array)\n",
    "print(TEXT_AFTER_SORTING, insertion_sort(array))"
   ]
  },
  {
   "cell_type": "code",
   "execution_count": 7,
   "metadata": {},
   "outputs": [],
   "source": [
    "# ... and here ...\n"
   ]
  }
 ],
 "metadata": {
  "kernelspec": {
   "display_name": "Python 3",
   "language": "python",
   "name": "python3"
  },
  "language_info": {
   "codemirror_mode": {
    "name": "ipython",
    "version": 3
   },
   "file_extension": ".py",
   "mimetype": "text/x-python",
   "name": "python",
   "nbconvert_exporter": "python",
   "pygments_lexer": "ipython3",
   "version": "3.8.5"
  }
 },
 "nbformat": 4,
 "nbformat_minor": 4
}
