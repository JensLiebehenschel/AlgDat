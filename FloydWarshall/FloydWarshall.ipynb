{
 "cells": [
  {
   "cell_type": "markdown",
   "metadata": {},
   "source": [
    "### Copyright 2024 Jens Liebehenschel, Frankfurt University of Applied Sciences, FB2, Computer Science\n",
    "### No liability or warranty; only for educational and non-commercial purposes\n",
    "### See some basic hints for working with Jupyter notebooks in README.md\n",
    "## Finding all shortest paths in a graph using Floyd-Warshall-Algorithm"
   ]
  },
  {
   "cell_type": "markdown",
   "metadata": {},
   "source": [
    "## No path means distance infinity - indicated by x in adjacency matrix"
   ]
  },
  {
   "cell_type": "code",
   "execution_count": 1,
   "metadata": {},
   "outputs": [],
   "source": [
    "import math\n",
    "inf = math.inf\n",
    "x = inf"
   ]
  },
  {
   "cell_type": "markdown",
   "metadata": {},
   "source": [
    "## The graph"
   ]
  },
  {
   "cell_type": "code",
   "execution_count": 2,
   "metadata": {},
   "outputs": [],
   "source": [
    "# 8x8 graph with nodes 0, ..., 7\n",
    "#     0  1  2  3  4  5  6  7\n",
    "g = [[0, 4, 7, 5, 3, 6, x, x], # node 0\n",
    "     [x, 0, x, 4, x, 3, 2, x], # node 1\n",
    "     [x, x, 0, x, 1, x, x, 2], # node 2\n",
    "     [x, x, 1, 0, 2, x,-5, x], # node 3\n",
    "     [x, x, x, x, 0, x, 1, 4], # node 4\n",
    "     [x, x, x, x, x, 0, 1, x], # node 5\n",
    "     [x, x, x, x, x, x, 0, 2], # node 6\n",
    "     [3, x, x, x, x, 1, x, 0]  # node 7\n",
    "     ]"
   ]
  },
  {
   "cell_type": "markdown",
   "metadata": {},
   "source": [
    "## Number of nodes"
   ]
  },
  {
   "cell_type": "code",
   "execution_count": 3,
   "metadata": {},
   "outputs": [],
   "source": [
    "n = len(g)"
   ]
  },
  {
   "cell_type": "markdown",
   "metadata": {},
   "source": [
    "## Required variables"
   ]
  },
  {
   "cell_type": "code",
   "execution_count": 4,
   "metadata": {},
   "outputs": [],
   "source": [
    "# distances\n",
    "dist = []\n",
    "# predecessors for finding path \"backwards\"\n",
    "pred = []"
   ]
  },
  {
   "cell_type": "markdown",
   "metadata": {},
   "source": [
    "## Floyd-Warshall-Algorithm with supporting functions"
   ]
  },
  {
   "cell_type": "code",
   "execution_count": 5,
   "metadata": {},
   "outputs": [],
   "source": [
    "def initialization():\n",
    "    global dist, pred\n",
    "    # distances\n",
    "    dist = [i[:] for i in g]\n",
    "    # predecessors\n",
    "    pred = [[-1]*n for i in g]\n",
    "    for i in range(n):\n",
    "        for j in range(n):\n",
    "            if i!=j and g[i][j] != x:\n",
    "                pred[i][j] = i"
   ]
  },
  {
   "cell_type": "code",
   "execution_count": 6,
   "metadata": {},
   "outputs": [],
   "source": [
    "# check whether there is a better path from u to v via w\n",
    "# if so, update the distance and predecessor matrices to store the better path's distance and (part of) path\n",
    "def relax(u, v, w):\n",
    "    if dist[u][v] > dist[u][w] + dist[w][v]:\n",
    "        dist[u][v] = dist[u][w] + dist[w][v]\n",
    "        pred[u][v] = pred[w][v]"
   ]
  },
  {
   "cell_type": "code",
   "execution_count": 7,
   "metadata": {},
   "outputs": [],
   "source": [
    "# the algorithm\n",
    "def floyd_warshall():\n",
    "    initialization()\n",
    "    for k in range(n):\n",
    "        for i in range(n):\n",
    "            for j in range(n):\n",
    "                relax(i,j,k)"
   ]
  },
  {
   "cell_type": "code",
   "execution_count": 8,
   "metadata": {},
   "outputs": [],
   "source": [
    "# checks whether result of algorithm can be used (cycle(s) with negative weight must not exist)\n",
    "def check():\n",
    "    for i in range(n):\n",
    "        if dist[i][i] < 0:\n",
    "            return False\n",
    "    return True"
   ]
  },
  {
   "cell_type": "code",
   "execution_count": 9,
   "metadata": {},
   "outputs": [],
   "source": [
    "# return the nodes on optimal (shortest) from u to v - determination \"backwards\"\n",
    "def get_path(u, v):\n",
    "    if pred[u][v] == -1:\n",
    "        return []\n",
    "    # start from final node and find predecessor until start node is reached\n",
    "    path = [v]\n",
    "    while u != v:\n",
    "        v = pred[u][v]\n",
    "        path.insert(0,v)\n",
    "    return path"
   ]
  },
  {
   "cell_type": "markdown",
   "metadata": {},
   "source": [
    "## Supporting functions for output"
   ]
  },
  {
   "cell_type": "code",
   "execution_count": 10,
   "metadata": {},
   "outputs": [],
   "source": [
    "# output whether result can be used\n",
    "def print_check():\n",
    "    if check():\n",
    "        print(\"Result of Floyd Warshall-Algorithm is ok.\")\n",
    "        return True\n",
    "    else:\n",
    "        print(\"Result of Floyd Warshall-Algorithm is not ok, cycle(s) with negative weight detected.\")\n",
    "        return False"
   ]
  },
  {
   "cell_type": "code",
   "execution_count": 11,
   "metadata": {},
   "outputs": [],
   "source": [
    "# output of a matrix and a heading\n",
    "def print_matrix(heading, m):\n",
    "    print(heading)\n",
    "    for i in range(len(m)):\n",
    "        print(m[i])"
   ]
  },
  {
   "cell_type": "code",
   "execution_count": 12,
   "metadata": {},
   "outputs": [],
   "source": [
    "# output nodes of path from u to v\n",
    "def print_path(u, v):\n",
    "    print(\"Path from\", u, \"to\", v, \"is:\", get_path(u, v), \", length\", dist[u][v])"
   ]
  },
  {
   "cell_type": "markdown",
   "metadata": {},
   "source": [
    "## Constants for output in tests"
   ]
  },
  {
   "cell_type": "code",
   "execution_count": 13,
   "metadata": {},
   "outputs": [],
   "source": [
    "TEXT_DISTANCES = \"Matrix with distances:\"\n",
    "TEXT_PRECECESSORS = \"Matrix with predecessors:\"\n",
    "TEXT_PATH_OUTPUT = \"Output of some paths:\""
   ]
  },
  {
   "cell_type": "markdown",
   "metadata": {},
   "source": [
    "## Test algorithm"
   ]
  },
  {
   "cell_type": "markdown",
   "metadata": {},
   "source": [
    "### Test with graph defined above"
   ]
  },
  {
   "cell_type": "code",
   "execution_count": 14,
   "metadata": {},
   "outputs": [
    {
     "name": "stdout",
     "output_type": "stream",
     "text": [
      "Matrix with distances:\n",
      "[0, 4, 6, 5, 3, 3, 0, 2]\n",
      "[4, 0, 5, 4, 6, 2, -1, 1]\n",
      "[5, 9, 0, 10, 1, 3, 2, 2]\n",
      "[0, 4, 1, 0, 2, -2, -5, -3]\n",
      "[6, 10, 12, 11, 0, 4, 1, 3]\n",
      "[6, 10, 12, 11, 9, 0, 1, 3]\n",
      "[5, 9, 11, 10, 8, 3, 0, 2]\n",
      "[3, 7, 9, 8, 6, 1, 2, 0]\n",
      "Matrix with predecessors:\n",
      "[-1, 0, 3, 0, 0, 7, 3, 6]\n",
      "[7, -1, 3, 1, 3, 7, 3, 6]\n",
      "[7, 0, -1, 0, 2, 7, 4, 2]\n",
      "[7, 0, 3, -1, 3, 7, 3, 6]\n",
      "[7, 0, 3, 0, -1, 7, 4, 6]\n",
      "[7, 0, 3, 0, 0, -1, 5, 6]\n",
      "[7, 0, 3, 0, 0, 7, -1, 6]\n",
      "[7, 0, 3, 0, 0, 7, 5, -1]\n",
      "Result of Floyd Warshall-Algorithm is ok.\n",
      "Output of some paths:\n",
      "Path from 4 to 4 is: [] , length 0\n",
      "Path from 0 to 7 is: [0, 3, 6, 7] , length 2\n",
      "Path from 2 to 5 is: [2, 7, 5] , length 3\n",
      "Path from 5 to 0 is: [5, 6, 7, 0] , length 6\n",
      "Path from 1 to 0 is: [1, 3, 6, 7, 0] , length 4\n"
     ]
    }
   ],
   "source": [
    "# run algorithm\n",
    "floyd_warshall()\n",
    "print_matrix(TEXT_DISTANCES, dist)\n",
    "print_matrix(TEXT_PRECECESSORS, pred)\n",
    "if print_check():\n",
    "    print(TEXT_PATH_OUTPUT)\n",
    "    print_path(4,4)\n",
    "    print_path(0,7)\n",
    "    print_path(2,5)\n",
    "    print_path(5,0)\n",
    "    print_path(1,0)"
   ]
  },
  {
   "cell_type": "markdown",
   "metadata": {},
   "source": [
    "### Test with graph containing cycle with negative weight"
   ]
  },
  {
   "cell_type": "code",
   "execution_count": 15,
   "metadata": {},
   "outputs": [],
   "source": [
    "# graph\n",
    "g = [[ 0,-2],\n",
    "     [ 1, 0]\n",
    "     ]"
   ]
  },
  {
   "cell_type": "code",
   "execution_count": 16,
   "metadata": {},
   "outputs": [],
   "source": [
    "# variables\n",
    "n = len(g)\n",
    "dist = []\n",
    "pred = []"
   ]
  },
  {
   "cell_type": "code",
   "execution_count": 17,
   "metadata": {},
   "outputs": [
    {
     "name": "stdout",
     "output_type": "stream",
     "text": [
      "Matrix with distances:\n",
      "[-1, -3]\n",
      "[0, -2]\n",
      "Matrix with predecessors:\n",
      "[1, 0]\n",
      "[1, 0]\n",
      "Result of Floyd Warshall-Algorithm is not ok, cycle(s) with negative weight detected.\n"
     ]
    }
   ],
   "source": [
    "# run algorithm\n",
    "floyd_warshall()\n",
    "print_matrix(TEXT_DISTANCES, dist)\n",
    "print_matrix(TEXT_PRECECESSORS, pred)\n",
    "if print_check():\n",
    "    print(TEXT_PATH_OUTPUT)\n",
    "    print_path(0,1)\n",
    "    print_path(1,0)"
   ]
  },
  {
   "cell_type": "markdown",
   "metadata": {},
   "source": [
    "### Your tests here ..."
   ]
  },
  {
   "cell_type": "code",
   "execution_count": 18,
   "metadata": {},
   "outputs": [],
   "source": [
    "# graph Cormen et al.\n",
    "g = [[0, 3, 8, x, -4],\n",
    "     [x, 0, x, 1, 7],\n",
    "     [x, 4, 0, x, x],\n",
    "     [2, x, -5, 0, x],\n",
    "     [x, x, x, 6, 0]\n",
    "     ]"
   ]
  },
  {
   "cell_type": "code",
   "execution_count": 19,
   "metadata": {},
   "outputs": [],
   "source": [
    "# variables\n",
    "n = len(g)\n",
    "dist = []\n",
    "pred = []"
   ]
  },
  {
   "cell_type": "code",
   "execution_count": 20,
   "metadata": {},
   "outputs": [
    {
     "name": "stdout",
     "output_type": "stream",
     "text": [
      "Matrix with distances:\n",
      "[0, 1, -3, 2, -4]\n",
      "[3, 0, -4, 1, -1]\n",
      "[7, 4, 0, 5, 3]\n",
      "[2, -1, -5, 0, -2]\n",
      "[8, 5, 1, 6, 0]\n",
      "Matrix with predecessors:\n",
      "[-1, 2, 3, 4, 0]\n",
      "[3, -1, 3, 1, 0]\n",
      "[3, 2, -1, 1, 0]\n",
      "[3, 2, 3, -1, 0]\n",
      "[3, 2, 3, 4, -1]\n",
      "Result of Floyd Warshall-Algorithm is ok.\n",
      "Output of some paths:\n",
      "Path from 4 to 4 is: [] , length 0\n",
      "Path from 0 to 2 is: [0, 4, 3, 2] , length -3\n",
      "Path from 2 to 4 is: [2, 1, 3, 0, 4] , length 3\n",
      "Path from 4 to 0 is: [4, 3, 0] , length 8\n",
      "Path from 1 to 0 is: [1, 3, 0] , length 3\n"
     ]
    }
   ],
   "source": [
    "# run algorithm\n",
    "floyd_warshall()\n",
    "print_matrix(TEXT_DISTANCES, dist)\n",
    "print_matrix(TEXT_PRECECESSORS, pred)\n",
    "if print_check():\n",
    "    print(TEXT_PATH_OUTPUT)\n",
    "    print_path(4,4)\n",
    "    print_path(0,2)\n",
    "    print_path(2,4)\n",
    "    print_path(4,0)\n",
    "    print_path(1,0)"
   ]
  },
  {
   "cell_type": "markdown",
   "metadata": {},
   "source": [
    "### ... and here ..."
   ]
  },
  {
   "cell_type": "code",
   "execution_count": null,
   "metadata": {},
   "outputs": [],
   "source": []
  }
 ],
 "metadata": {
  "kernelspec": {
   "display_name": "Python 3",
   "language": "python",
   "name": "python3"
  },
  "language_info": {
   "codemirror_mode": {
    "name": "ipython",
    "version": 3
   },
   "file_extension": ".py",
   "mimetype": "text/x-python",
   "name": "python",
   "nbconvert_exporter": "python",
   "pygments_lexer": "ipython3",
   "version": "3.8.5"
  }
 },
 "nbformat": 4,
 "nbformat_minor": 4
}
