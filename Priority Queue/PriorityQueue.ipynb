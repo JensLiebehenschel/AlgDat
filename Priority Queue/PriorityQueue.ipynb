{
 "cells": [
  {
   "cell_type": "markdown",
   "id": "7ad2136c-749e-4464-815b-6187813e1352",
   "metadata": {},
   "source": [
    "<font size=\"5\">Copyright 2022 Edward Späth, Frankfurt University of Applied Sciences, FB2, Computer Science  \n",
    "No liability or warranty; only for educational and non-commercial purposes     \n",
    "See some basic hints for working with Jupyter notebooks in README.md</font>"
   ]
  },
  {
   "cell_type": "markdown",
   "id": "b64fc437-51f6-48e9-bd5c-f2be4526d342",
   "metadata": {},
   "source": [
    "<font size=\"6\">Data Structure for storing Keys with their respective Priorities</font>"
   ]
  },
  {
   "cell_type": "markdown",
   "id": "939b39bf-8948-464f-aca0-a22d7c4cd483",
   "metadata": {},
   "source": [
    "<font size=\"6\">Data Structure Priority Queue</font>"
   ]
  },
  {
   "cell_type": "code",
   "execution_count": 1,
   "id": "029fe157-c16e-4838-9f08-31668e02ca8e",
   "metadata": {},
   "outputs": [],
   "source": [
    "class Node:  \n",
    "    def __init__ (self, name, prio):\n",
    "        self.Name = name\n",
    "        self.Prio = prio"
   ]
  },
  {
   "cell_type": "markdown",
   "id": "cc13b368-fcac-48be-b951-d6b5466e93c0",
   "metadata": {},
   "source": [
    "<font size=\"6\">Storage for Elements of Priority Queue</font>"
   ]
  },
  {
   "cell_type": "code",
   "execution_count": 2,
   "id": "3e0a8624-db35-44d6-adbe-95aba9fc1dbb",
   "metadata": {},
   "outputs": [],
   "source": [
    "Elements = []\n",
    "Heapsize = 0"
   ]
  },
  {
   "cell_type": "markdown",
   "id": "6c922a01-1ee0-4e2e-b399-568480904907",
   "metadata": {},
   "source": [
    "<font size=\"6\">Function to reset Priority Queue</font>"
   ]
  },
  {
   "cell_type": "code",
   "execution_count": 3,
   "id": "8683338e-70e2-44b4-9964-8d96210dad24",
   "metadata": {},
   "outputs": [],
   "source": [
    "def ResetPQ ():\n",
    "    global Elements, Heapsize\n",
    "    Elements, Heapsize = [], 0"
   ]
  },
  {
   "cell_type": "markdown",
   "id": "50d382a9-765f-4509-974f-ca77be47c508",
   "metadata": {},
   "source": [
    "<font size=\"6\">Helper Functions for easier access to Children/Parents of a given Element in Heap</font>"
   ]
  },
  {
   "cell_type": "code",
   "execution_count": 4,
   "id": "c818cbf6-42ef-4f46-8326-db9f4327f830",
   "metadata": {},
   "outputs": [],
   "source": [
    "def parent (i):\n",
    "    return (i-1)//2 # '//' means division with floor function (round down)\n",
    "\n",
    "def left (i):\n",
    "    return 2*i+1\n",
    "\n",
    "def right (i):\n",
    "    return 2*i+2"
   ]
  },
  {
   "cell_type": "markdown",
   "id": "8d2b3098-3ca5-40a1-98a7-281c18d0174c",
   "metadata": {},
   "source": [
    "<font size=\"6\">Implementation of a Priority Queue</font>"
   ]
  },
  {
   "cell_type": "code",
   "execution_count": 5,
   "id": "3f8888d3-9aff-4001-a9e0-f7577a54c7f8",
   "metadata": {},
   "outputs": [],
   "source": [
    "def Initialize (initialelements = []):\n",
    "    for name, prio in initialelements:\n",
    "        Insert_Key (name, prio)\n",
    "        \n",
    "def Insert_Key (name, prio):\n",
    "        global Elements, Heapsize\n",
    "        name_already_exists = False\n",
    "        for el in Elements:\n",
    "            if el.Name == name:\n",
    "                name_already_exists = True\n",
    "        if not name_already_exists:\n",
    "            Elements.append (Node (name, float('inf'))) # float('inf') = positive infinity\n",
    "            Heap_Decrease_Key (Heapsize, prio)\n",
    "            Heapsize += 1   \n",
    "        else:\n",
    "            print (\"\\nThere is already an element named\",name,\"Please choose a different Name.\")\n",
    "            \n",
    "def Heap_Decrease_Key (i, prio):\n",
    "    global Elements \n",
    "    if prio >= Elements [i].Prio:\n",
    "        print (\"\\nERROR: New priority must be smaller than old priority\")\n",
    "        return       \n",
    "    Elements [i].Prio = prio   \n",
    "    while i > 0 and Elements [parent (i)].Prio > Elements [i].Prio:\n",
    "        Elements [i], Elements [parent (i)] = Elements [parent (i)], Elements [i]\n",
    "        i = parent (i)\n",
    "        \n",
    "def Extract_Min ():\n",
    "    global Elements, Heapsize\n",
    "    if Heapsize < 1:\n",
    "        print (\"\\nERROR: Underflow. Cannot extract from an empty Queue\")\n",
    "        return      \n",
    "    min_element = Elements [0]\n",
    "    Heapsize -= 1\n",
    "    Elements = Elements [1:] # Deletes first Element\n",
    "    Min_Heapify (0)   \n",
    "    print (\"\\nElement\", min_element.Name, \"with Priority\", min_element.Prio, \"has been extracted\")\n",
    "        \n",
    "def Min_Heapify (i):\n",
    "    global Elements, Heapsize\n",
    "    l = left (i)\n",
    "    r = right (i)   \n",
    "    if l < Heapsize and Elements [l].Prio < Elements [i].Prio:\n",
    "        minimum = l\n",
    "    else:\n",
    "        minimum = i       \n",
    "    if r < Heapsize and Elements [r].Prio < Elements [minimum].Prio:\n",
    "        minimum = r   \n",
    "    if minimum != i:\n",
    "        Elements [i], Elements [minimum] = Elements [minimum], Elements [i]\n",
    "        Min_Heapify (minimum)\n",
    "\n",
    "        \n",
    "def Reduce_Priority (name, new_prio):\n",
    "    global Elements   \n",
    "    key_found = False  \n",
    "    for index, el in enumerate(Elements):\n",
    "        if el.Name == name:\n",
    "            key_found = True\n",
    "            at_index = index\n",
    "            break          \n",
    "    if not key_found:      \n",
    "        print (\"\\nERROR: Element whose Priority you want to decrease does not exist\")\n",
    "        return     \n",
    "    if Elements [at_index].Prio <= new_prio: \n",
    "        print (\"\\nERROR: New Priority of\",Elements [at_index].Name ,\"is not lower than old Priority! Priority may only ever decrease. Priority stays unchanged\")\n",
    "        return\n",
    "    Heap_Decrease_Key (at_index,new_prio)\n",
    "    \n",
    "def PrintPQ (show_name = True, show_prio = True):\n",
    "    global Elements, Heapsize\n",
    "    if Heapsize < 1:\n",
    "        print (\"\\nThe current Priority Queue is empty! Nothing to Print\")\n",
    "        return \n",
    "    if not show_name and not show_prio:\n",
    "        print (\"\\nYou have to atleast print the Names or the Priorities\")\n",
    "    printarray = [] \n",
    "    for el in Elements:\n",
    "        if show_name and show_prio:\n",
    "            printarray.append ( (el.Name,el.Prio) )\n",
    "        elif show_name:\n",
    "            printarray.append (el.Name)\n",
    "        else:\n",
    "            printarray.append (el.Prio)\n",
    "    print (\"\\nThe current Priority Queue of size\",Heapsize,\"is: --> Printing Names:\",show_name, \"- Printing Priorities:\",show_prio)  \n",
    "    print (printarray)"
   ]
  },
  {
   "cell_type": "markdown",
   "id": "b21b2ad0-3a07-4545-b3ff-df2464a5cc48",
   "metadata": {},
   "source": [
    "<font size=\"6\">Example with Explanations on how to use Functions</font>"
   ]
  },
  {
   "cell_type": "code",
   "execution_count": 6,
   "id": "008ceaf7-33cf-44fc-b62a-90aa8296b509",
   "metadata": {},
   "outputs": [
    {
     "name": "stdout",
     "output_type": "stream",
     "text": [
      "\n",
      "The current Priority Queue of size 4 is: --> Printing Names: True - Printing Priorities: True\n",
      "[('D', 1), ('B', 2), ('C', 6), ('A', 4)]\n",
      "\n",
      "The current Priority Queue of size 4 is: --> Printing Names: True - Printing Priorities: False\n",
      "['D', 'B', 'C', 'A']\n",
      "\n",
      "Element D with Priority 1 has been extracted\n",
      "\n",
      "The current Priority Queue of size 3 is: --> Printing Names: True - Printing Priorities: True\n",
      "[('B', 2), ('C', 6), ('A', 4)]\n",
      "\n",
      "The current Priority Queue of size 4 is: --> Printing Names: True - Printing Priorities: True\n",
      "[('B', 2), ('F', 3), ('A', 4), ('C', 6)]\n",
      "\n",
      "The current Priority Queue of size 4 is: --> Printing Names: False - Printing Priorities: True\n",
      "[2, 2, 4, 6]\n"
     ]
    }
   ],
   "source": [
    "# this list saves the initial Elements you want to Enqueue. The Name of the Key is written in Ticks ('') on the left side of each pair\n",
    "# The corresponding Priority is written on the right side of each pair\n",
    "# This example initializes the Priority Queue with a Key named 'A' with Priority 4, another Key named 'B' with Priority 2, etc\n",
    "# Note that this is a MIN-PRIORITY-QUEUE. The lower the number representing Priority, the higher the Priority (lower is better)\n",
    "\n",
    "# if you dont want to initialize anything leave the array empty --> \"initialelements = []\"\n",
    "# Alternatively remove initialelements from the Initialize-Function's Parameters --> \"Initialize ()\"\n",
    "\n",
    "initialelements = [('A', 4), ('B', 2), ('C', 6), ('D', 1)]\n",
    "\n",
    "Initialize (initialelements)\n",
    "\n",
    "# Prints the current contents of the Priority Queue aswell as size\n",
    "# The Boolean Values allow you to select what you want to be printed.\n",
    "# In the example below both Name and Priority of each Element will be printed\n",
    "# Calling PrintPQ without Parameters is the same as both Booleans being True\n",
    "PrintPQ (show_name = True, show_prio = True)\n",
    "\n",
    "# If you only want the name to be printed, have \"show_name = True\" and \"show_prio = False\":\n",
    "# And vice versa\n",
    "PrintPQ (show_name = True, show_prio = False)\n",
    "\n",
    "# Extracts the Element with the lowest Priority and Prints what its Data was\n",
    "Extract_Min ()\n",
    "\n",
    "PrintPQ (show_name = True, show_prio = True)\n",
    "\n",
    "# Same Idea as with intialelements but only one Element at a time\n",
    "Insert_Key ('F', 3)\n",
    "\n",
    "PrintPQ (show_name = True, show_prio = True)\n",
    "\n",
    "# Instead of creating a new unique name, give the name of an existing Element whose Priority you want to change (give new Priority as right value)\n",
    "Reduce_Priority ('F', 2)\n",
    "\n",
    "PrintPQ (show_name = False, show_prio = True)\n",
    "\n",
    "ResetPQ () # Resets Contents of Priority Queue (ignore)"
   ]
  },
  {
   "cell_type": "markdown",
   "id": "f57a3595-07ab-44ca-bc4c-1232fab46eb0",
   "metadata": {},
   "source": [
    "<font size=\"6\">Your Tests go here...</font>"
   ]
  },
  {
   "cell_type": "code",
   "execution_count": 7,
   "id": "6089f117-b695-4f76-94a7-ac88c3a662a5",
   "metadata": {},
   "outputs": [
    {
     "name": "stdout",
     "output_type": "stream",
     "text": [
      "\n",
      "The current Priority Queue of size 4 is: --> Printing Names: True - Printing Priorities: True\n",
      "[('D', 1), ('B', 2), ('C', 6), ('A', 4)]\n",
      "\n",
      "ERROR: Element whose Priority you want to decrease does not exist\n",
      "\n",
      "The current Priority Queue of size 4 is: --> Printing Names: True - Printing Priorities: True\n",
      "[('D', 1), ('B', 2), ('C', 6), ('A', 4)]\n"
     ]
    }
   ],
   "source": [
    "initialelements = [('A', 4), ('B', 2), ('C', 6), ('D', 1)]\n",
    "\n",
    "Initialize (initialelements)\n",
    "\n",
    "PrintPQ (show_name = True, show_prio = True)\n",
    "\n",
    "Reduce_Priority ('F', 2)\n",
    "\n",
    "PrintPQ (show_name = True, show_prio = True)\n",
    "\n",
    "ResetPQ () # Resets Contents of Priority Queue (ignore)"
   ]
  },
  {
   "cell_type": "markdown",
   "id": "a2c64b24-5ead-456c-940e-6c756fe4a95f",
   "metadata": {},
   "source": [
    "<font size=\"6\">Create your Priority Queue. It will be visualized as a Min-Heap at the very bottom</font>"
   ]
  },
  {
   "cell_type": "code",
   "execution_count": 8,
   "id": "71c144fe-9c3b-4033-a990-34543eacbe00",
   "metadata": {},
   "outputs": [],
   "source": [
    "initialelements = [('A', 4), ('B', 2), ('C', 6), ('D', 1)]\n",
    "\n",
    "Initialize (initialelements)\n",
    "\n",
    "Insert_Key ('F', 3)\n",
    "\n",
    "Reduce_Priority ('A', 3)"
   ]
  },
  {
   "cell_type": "code",
   "execution_count": 9,
   "id": "dcc621d3-b435-4c69-82b3-5ad11787404c",
   "metadata": {},
   "outputs": [
    {
     "data": {
      "image/svg+xml": [
       "<?xml version=\"1.0\" encoding=\"UTF-8\" standalone=\"no\"?>\n",
       "<!DOCTYPE svg PUBLIC \"-//W3C//DTD SVG 1.1//EN\"\n",
       " \"http://www.w3.org/Graphics/SVG/1.1/DTD/svg11.dtd\">\n",
       "<!-- Generated by graphviz version 2.43.0 (0)\n",
       " -->\n",
       "<!-- Title: %3 Pages: 1 -->\n",
       "<svg width=\"170pt\" height=\"188pt\"\n",
       " viewBox=\"0.00 0.00 170.00 188.00\" xmlns=\"http://www.w3.org/2000/svg\" xmlns:xlink=\"http://www.w3.org/1999/xlink\">\n",
       "<g id=\"graph0\" class=\"graph\" transform=\"scale(1 1) rotate(0) translate(4 184)\">\n",
       "<title>%3</title>\n",
       "<polygon fill=\"white\" stroke=\"transparent\" points=\"-4,4 -4,-184 166,-184 166,4 -4,4\"/>\n",
       "<!-- D,1 -->\n",
       "<g id=\"node1\" class=\"node\">\n",
       "<title>D,1</title>\n",
       "<ellipse fill=\"none\" stroke=\"black\" cx=\"99\" cy=\"-162\" rx=\"27\" ry=\"18\"/>\n",
       "<text text-anchor=\"middle\" x=\"99\" y=\"-158.3\" font-family=\"Times,serif\" font-size=\"14.00\">D,1</text>\n",
       "</g>\n",
       "<!-- B,2 -->\n",
       "<g id=\"node2\" class=\"node\">\n",
       "<title>B,2</title>\n",
       "<ellipse fill=\"none\" stroke=\"black\" cx=\"63\" cy=\"-90\" rx=\"27\" ry=\"18\"/>\n",
       "<text text-anchor=\"middle\" x=\"63\" y=\"-86.3\" font-family=\"Times,serif\" font-size=\"14.00\">B,2</text>\n",
       "</g>\n",
       "<!-- D,1&#45;&#45;B,2 -->\n",
       "<g id=\"edge1\" class=\"edge\">\n",
       "<title>D,1&#45;&#45;B,2</title>\n",
       "<path fill=\"none\" stroke=\"black\" d=\"M90.65,-144.76C84.83,-133.46 77.11,-118.44 71.3,-107.15\"/>\n",
       "</g>\n",
       "<!-- C,6 -->\n",
       "<g id=\"node3\" class=\"node\">\n",
       "<title>C,6</title>\n",
       "<ellipse fill=\"none\" stroke=\"black\" cx=\"135\" cy=\"-90\" rx=\"27\" ry=\"18\"/>\n",
       "<text text-anchor=\"middle\" x=\"135\" y=\"-86.3\" font-family=\"Times,serif\" font-size=\"14.00\">C,6</text>\n",
       "</g>\n",
       "<!-- D,1&#45;&#45;C,6 -->\n",
       "<g id=\"edge2\" class=\"edge\">\n",
       "<title>D,1&#45;&#45;C,6</title>\n",
       "<path fill=\"none\" stroke=\"black\" d=\"M107.35,-144.76C113.17,-133.46 120.89,-118.44 126.7,-107.15\"/>\n",
       "</g>\n",
       "<!-- A,3 -->\n",
       "<g id=\"node4\" class=\"node\">\n",
       "<title>A,3</title>\n",
       "<ellipse fill=\"none\" stroke=\"black\" cx=\"27\" cy=\"-18\" rx=\"27\" ry=\"18\"/>\n",
       "<text text-anchor=\"middle\" x=\"27\" y=\"-14.3\" font-family=\"Times,serif\" font-size=\"14.00\">A,3</text>\n",
       "</g>\n",
       "<!-- B,2&#45;&#45;A,3 -->\n",
       "<g id=\"edge3\" class=\"edge\">\n",
       "<title>B,2&#45;&#45;A,3</title>\n",
       "<path fill=\"none\" stroke=\"black\" d=\"M54.65,-72.76C48.83,-61.46 41.11,-46.44 35.3,-35.15\"/>\n",
       "</g>\n",
       "<!-- F,3 -->\n",
       "<g id=\"node5\" class=\"node\">\n",
       "<title>F,3</title>\n",
       "<ellipse fill=\"none\" stroke=\"black\" cx=\"99\" cy=\"-18\" rx=\"27\" ry=\"18\"/>\n",
       "<text text-anchor=\"middle\" x=\"99\" y=\"-14.3\" font-family=\"Times,serif\" font-size=\"14.00\">F,3</text>\n",
       "</g>\n",
       "<!-- B,2&#45;&#45;F,3 -->\n",
       "<g id=\"edge4\" class=\"edge\">\n",
       "<title>B,2&#45;&#45;F,3</title>\n",
       "<path fill=\"none\" stroke=\"black\" d=\"M71.35,-72.76C77.17,-61.46 84.89,-46.44 90.7,-35.15\"/>\n",
       "</g>\n",
       "</g>\n",
       "</svg>\n"
      ],
      "text/plain": [
       "<graphviz.graphs.Graph at 0x7f26c4427b50>"
      ]
     },
     "execution_count": 9,
     "metadata": {},
     "output_type": "execute_result"
    }
   ],
   "source": [
    "from graphviz import Graph  \n",
    "global Elements, Heapsize\n",
    "dot = Graph ()\n",
    "for index in range (len (Elements)):       \n",
    "    if left (index) < Heapsize:    \n",
    "        start = Elements [index].Name + \",\" + str(Elements [index].Prio) # Concatinating the Name of each Element together with its Priority into a single string\n",
    "        dest = Elements [left(index)].Name + \",\" + str(Elements [left(index)].Prio)\n",
    "        dot.edge (start,dest)\n",
    "    if right (index) < Heapsize:\n",
    "        start = Elements [index].Name + \",\" + str(Elements [index].Prio)\n",
    "        dest = Elements [right(index)].Name + \",\" + str(Elements [right(index)].Prio)\n",
    "        dot.edge (start,dest)\n",
    "dot"
   ]
  }
 ],
 "metadata": {
  "kernelspec": {
   "display_name": "Python 3 (ipykernel)",
   "language": "python",
   "name": "python3"
  },
  "language_info": {
   "codemirror_mode": {
    "name": "ipython",
    "version": 3
   },
   "file_extension": ".py",
   "mimetype": "text/x-python",
   "name": "python",
   "nbconvert_exporter": "python",
   "pygments_lexer": "ipython3",
   "version": "3.9.12"
  }
 },
 "nbformat": 4,
 "nbformat_minor": 5
}
