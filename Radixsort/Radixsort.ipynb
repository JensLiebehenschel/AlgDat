{
 "cells": [
  {
   "cell_type": "markdown",
   "metadata": {},
   "source": [
    "### Copyright 2021 Jens Liebehenschel, Frankfurt University of Applied Sciences, FB2, Computer Science\n",
    "### No liability or warranty; only for educational and non-commercial purposes\n",
    "### See some basic hints for working with Jupyter notebooks in README.md\n",
    "## Sorting an array using radixsort (which uses countingsort internally)"
   ]
  },
  {
   "cell_type": "code",
   "execution_count": 1,
   "metadata": {},
   "outputs": [],
   "source": [
    "# necessary module\n",
    "import math"
   ]
  },
  {
   "cell_type": "code",
   "execution_count": 2,
   "metadata": {},
   "outputs": [],
   "source": [
    "def radixsort(A):\n",
    "    for d in range(int(math.log10(max(A)))+1):\n",
    "        A=countingsort(A,d)\n",
    "    return A"
   ]
  },
  {
   "cell_type": "code",
   "execution_count": 3,
   "metadata": {},
   "outputs": [],
   "source": [
    "def countingsort(A,d):\n",
    "    if output_sorting_step:\n",
    "        print(\"Sorting\", A, \"using digit\", d, \"from right.\")\n",
    "        \n",
    "    # create temporary array C for counting\n",
    "    C=[0 for x in range(10)]\n",
    "    print_array_C(C)\n",
    "\n",
    "    # count number of elements = i in C[i]\n",
    "    for j in range(len(A)):\n",
    "        C[get_int_pos(A[j],d)] = C[get_int_pos(A[j],d)] + 1\n",
    "    print_array_C(C)\n",
    "    \n",
    "    # calculate number of elements <= i in C[i]\n",
    "    for i in range(1,len(C)):\n",
    "        C[i] = C[i] + C[i-1]\n",
    "    print_array_C(C)\n",
    "\n",
    "    # create (empty) output array B\n",
    "    B=[-1 for x in range(len(A))]\n",
    "\n",
    "    # create sorted output\n",
    "    for j in range(len(A)-1,-1,-1):\n",
    "        B[C[get_int_pos(A[j],d)]-1] = A[j]\n",
    "        C[get_int_pos(A[j],d)] = C[get_int_pos(A[j],d)] - 1\n",
    "    print_array_C(C)\n",
    "    \n",
    "    return B"
   ]
  },
  {
   "cell_type": "code",
   "execution_count": 4,
   "metadata": {},
   "outputs": [],
   "source": [
    "# returns value of j-th digit of i, where j=0 returns the rightmost digit, j=1 the second from right, ...\n",
    "def get_int_pos(i, j):\n",
    "    return (i // 10**j) % 10"
   ]
  },
  {
   "cell_type": "code",
   "execution_count": 5,
   "metadata": {},
   "outputs": [],
   "source": [
    "# checks whether array is sorted correctly, this also works with identical keys in the array\n",
    "def check_sorting(a):\n",
    "    return all(a[i] <= a[i+1] for i in range(len(a)-1))"
   ]
  },
  {
   "cell_type": "code",
   "execution_count": 6,
   "metadata": {},
   "outputs": [],
   "source": [
    "def print_array_C(C):\n",
    "    if output_temp_array:\n",
    "        print (\"C:\",C)"
   ]
  },
  {
   "cell_type": "markdown",
   "metadata": {},
   "source": [
    "## Constants"
   ]
  },
  {
   "cell_type": "code",
   "execution_count": 7,
   "metadata": {},
   "outputs": [],
   "source": [
    "# The size of elements in tests can be changed here\n",
    "ARRAY_SIZE = 10\n",
    "# Some output text\n",
    "TEXT_BEFORE_SORTING = \"Before sorting:\"\n",
    "TEXT_AFTER_SORTING = \"After  sorting:\"\n",
    "TEXT_CHECK_SORTING = \"Sorting correct? -\""
   ]
  },
  {
   "cell_type": "markdown",
   "metadata": {},
   "source": [
    "## Configuration of output "
   ]
  },
  {
   "cell_type": "code",
   "execution_count": 8,
   "metadata": {},
   "outputs": [],
   "source": [
    "# change output settings here\n",
    "output_temp_array = False\n",
    "output_temp_array = True\n",
    "output_sorting_step = False\n",
    "output_sorting_step = True"
   ]
  },
  {
   "cell_type": "markdown",
   "metadata": {},
   "source": [
    "## Generate test data and test algorithm"
   ]
  },
  {
   "cell_type": "code",
   "execution_count": 9,
   "metadata": {},
   "outputs": [
    {
     "name": "stdout",
     "output_type": "stream",
     "text": [
      "Before sorting: [0, 1, 2, 3, 4, 5, 6, 7, 8, 9]\n",
      "Sorting [0, 1, 2, 3, 4, 5, 6, 7, 8, 9] using digit 0 from right.\n",
      "C: [0, 0, 0, 0, 0, 0, 0, 0, 0, 0]\n",
      "C: [1, 1, 1, 1, 1, 1, 1, 1, 1, 1]\n",
      "C: [1, 2, 3, 4, 5, 6, 7, 8, 9, 10]\n",
      "C: [0, 1, 2, 3, 4, 5, 6, 7, 8, 9]\n",
      "After  sorting: [0, 1, 2, 3, 4, 5, 6, 7, 8, 9]\n",
      "Sorting correct? - True\n"
     ]
    }
   ],
   "source": [
    "# test sorting sorted array\n",
    "sorted_array = list(range(ARRAY_SIZE))\n",
    "print(TEXT_BEFORE_SORTING, sorted_array)\n",
    "a = radixsort(sorted_array)\n",
    "print(TEXT_AFTER_SORTING, a)\n",
    "print(TEXT_CHECK_SORTING, check_sorting(a))"
   ]
  },
  {
   "cell_type": "code",
   "execution_count": 10,
   "metadata": {},
   "outputs": [
    {
     "name": "stdout",
     "output_type": "stream",
     "text": [
      "Before sorting: [9, 8, 7, 6, 5, 4, 3, 2, 1, 0]\n",
      "Sorting [9, 8, 7, 6, 5, 4, 3, 2, 1, 0] using digit 0 from right.\n",
      "C: [0, 0, 0, 0, 0, 0, 0, 0, 0, 0]\n",
      "C: [1, 1, 1, 1, 1, 1, 1, 1, 1, 1]\n",
      "C: [1, 2, 3, 4, 5, 6, 7, 8, 9, 10]\n",
      "C: [0, 1, 2, 3, 4, 5, 6, 7, 8, 9]\n",
      "After  sorting: [0, 1, 2, 3, 4, 5, 6, 7, 8, 9]\n",
      "Sorting correct? - True\n"
     ]
    }
   ],
   "source": [
    "# test sorting reversly sorted array\n",
    "reverse_sorted_array = list(range(ARRAY_SIZE-1, -1, -1))\n",
    "print(TEXT_BEFORE_SORTING, reverse_sorted_array)\n",
    "a = radixsort(reverse_sorted_array)\n",
    "print(TEXT_AFTER_SORTING, a)\n",
    "print(TEXT_CHECK_SORTING, check_sorting(a))"
   ]
  },
  {
   "cell_type": "code",
   "execution_count": 11,
   "metadata": {},
   "outputs": [
    {
     "name": "stdout",
     "output_type": "stream",
     "text": [
      "Before sorting: [839, 657, 457, 329, 436, 720, 355]\n",
      "Sorting [839, 657, 457, 329, 436, 720, 355] using digit 0 from right.\n",
      "C: [0, 0, 0, 0, 0, 0, 0, 0, 0, 0]\n",
      "C: [1, 0, 0, 0, 0, 1, 1, 2, 0, 2]\n",
      "C: [1, 1, 1, 1, 1, 2, 3, 5, 5, 7]\n",
      "C: [0, 1, 1, 1, 1, 1, 2, 3, 5, 5]\n",
      "Sorting [720, 355, 436, 657, 457, 839, 329] using digit 1 from right.\n",
      "C: [0, 0, 0, 0, 0, 0, 0, 0, 0, 0]\n",
      "C: [0, 0, 2, 2, 0, 3, 0, 0, 0, 0]\n",
      "C: [0, 0, 2, 4, 4, 7, 7, 7, 7, 7]\n",
      "C: [0, 0, 0, 2, 4, 4, 7, 7, 7, 7]\n",
      "Sorting [720, 329, 436, 839, 355, 657, 457] using digit 2 from right.\n",
      "C: [0, 0, 0, 0, 0, 0, 0, 0, 0, 0]\n",
      "C: [0, 0, 0, 2, 2, 0, 1, 1, 1, 0]\n",
      "C: [0, 0, 0, 2, 4, 4, 5, 6, 7, 7]\n",
      "C: [0, 0, 0, 0, 2, 4, 4, 5, 6, 7]\n",
      "After  sorting: [329, 355, 436, 457, 657, 720, 839]\n",
      "Sorting correct? - True\n"
     ]
    }
   ],
   "source": [
    "# test some three-digit numbers\n",
    "array = [839,657,457,329,436,720,355]\n",
    "print(TEXT_BEFORE_SORTING, array)\n",
    "a = radixsort(array)\n",
    "print(TEXT_AFTER_SORTING, a)\n",
    "print(TEXT_CHECK_SORTING, check_sorting(a))"
   ]
  },
  {
   "cell_type": "code",
   "execution_count": 12,
   "metadata": {
    "scrolled": true
   },
   "outputs": [
    {
     "name": "stdout",
     "output_type": "stream",
     "text": [
      "Before sorting: [2, 8, 4, 9, 1, 6, 7, 3, 0, 5]\n",
      "Sorting [2, 8, 4, 9, 1, 6, 7, 3, 0, 5] using digit 0 from right.\n",
      "C: [0, 0, 0, 0, 0, 0, 0, 0, 0, 0]\n",
      "C: [1, 1, 1, 1, 1, 1, 1, 1, 1, 1]\n",
      "C: [1, 2, 3, 4, 5, 6, 7, 8, 9, 10]\n",
      "C: [0, 1, 2, 3, 4, 5, 6, 7, 8, 9]\n",
      "After  sorting: [0, 1, 2, 3, 4, 5, 6, 7, 8, 9]\n",
      "Sorting correct? - True\n"
     ]
    }
   ],
   "source": [
    "# test sorting random array\n",
    "# use numpy for generating a permutation\n",
    "import numpy\n",
    "# initialialize random number generator to obtain reproducable results\n",
    "# other values might be used or even no initialization done here\n",
    "numpy.random.seed(0)\n",
    "# now generate random data and test sorting\n",
    "array = list(numpy.random.permutation(ARRAY_SIZE))\n",
    "print(TEXT_BEFORE_SORTING, array)\n",
    "a = radixsort(array)\n",
    "print(TEXT_AFTER_SORTING, a)\n",
    "print(TEXT_CHECK_SORTING, check_sorting(a))"
   ]
  },
  {
   "cell_type": "code",
   "execution_count": 13,
   "metadata": {},
   "outputs": [],
   "source": [
    "output_temp_array_last_state = output_temp_array\n",
    "output_temp_array = False"
   ]
  },
  {
   "cell_type": "code",
   "execution_count": 14,
   "metadata": {},
   "outputs": [
    {
     "name": "stdout",
     "output_type": "stream",
     "text": [
      "Before sorting: [36, 87, 70, 88, 140, 58, 193, 39, 87, 174, 88, 81, 165, 25, 77, 72, 9, 148, 115, 197]\n",
      "Sorting [36, 87, 70, 88, 140, 58, 193, 39, 87, 174, 88, 81, 165, 25, 77, 72, 9, 148, 115, 197] using digit 0 from right.\n",
      "Sorting [70, 140, 81, 72, 193, 174, 165, 25, 115, 36, 87, 87, 77, 197, 88, 58, 88, 148, 39, 9] using digit 1 from right.\n",
      "Sorting [9, 115, 25, 36, 39, 140, 148, 58, 165, 70, 72, 174, 77, 81, 87, 87, 88, 88, 193, 197] using digit 2 from right.\n",
      "After  sorting: [9, 25, 36, 39, 58, 70, 72, 77, 81, 87, 87, 88, 88, 115, 140, 148, 165, 174, 193, 197]\n",
      "Sorting correct? - True\n"
     ]
    }
   ],
   "source": [
    "# now generate more random data and test sorting\n",
    "MAX_VALUE = 200\n",
    "ARRAY_SIZE = 20\n",
    "array = [numpy.random.randint(MAX_VALUE) for x in range(ARRAY_SIZE)]\n",
    "print(TEXT_BEFORE_SORTING, array)\n",
    "a = radixsort(array)\n",
    "print(TEXT_AFTER_SORTING, a)\n",
    "print(TEXT_CHECK_SORTING, check_sorting(a))"
   ]
  },
  {
   "cell_type": "code",
   "execution_count": 15,
   "metadata": {},
   "outputs": [],
   "source": [
    "output_temp_array = output_temp_array_last_state"
   ]
  },
  {
   "cell_type": "markdown",
   "metadata": {},
   "source": [
    "### your tests here ..."
   ]
  },
  {
   "cell_type": "code",
   "execution_count": 16,
   "metadata": {},
   "outputs": [
    {
     "name": "stdout",
     "output_type": "stream",
     "text": [
      "Before sorting: [11, 33, 22]\n",
      "Sorting [11, 33, 22] using digit 0 from right.\n",
      "C: [0, 0, 0, 0, 0, 0, 0, 0, 0, 0]\n",
      "C: [0, 1, 1, 1, 0, 0, 0, 0, 0, 0]\n",
      "C: [0, 1, 2, 3, 3, 3, 3, 3, 3, 3]\n",
      "C: [0, 0, 1, 2, 3, 3, 3, 3, 3, 3]\n",
      "Sorting [11, 22, 33] using digit 1 from right.\n",
      "C: [0, 0, 0, 0, 0, 0, 0, 0, 0, 0]\n",
      "C: [0, 1, 1, 1, 0, 0, 0, 0, 0, 0]\n",
      "C: [0, 1, 2, 3, 3, 3, 3, 3, 3, 3]\n",
      "C: [0, 0, 1, 2, 3, 3, 3, 3, 3, 3]\n",
      "After  sorting: [11, 22, 33]\n",
      "Sorting correct? - True\n"
     ]
    }
   ],
   "source": [
    "array = [11,33,22]\n",
    "print(TEXT_BEFORE_SORTING, array)\n",
    "a = radixsort(array)\n",
    "print(TEXT_AFTER_SORTING, a)\n",
    "print(TEXT_CHECK_SORTING, check_sorting(a))"
   ]
  },
  {
   "cell_type": "code",
   "execution_count": 17,
   "metadata": {},
   "outputs": [],
   "source": [
    "# ... and here ..."
   ]
  }
 ],
 "metadata": {
  "kernelspec": {
   "display_name": "Python 3",
   "language": "python",
   "name": "python3"
  },
  "language_info": {
   "codemirror_mode": {
    "name": "ipython",
    "version": 3
   },
   "file_extension": ".py",
   "mimetype": "text/x-python",
   "name": "python",
   "nbconvert_exporter": "python",
   "pygments_lexer": "ipython3",
   "version": "3.8.5"
  }
 },
 "nbformat": 4,
 "nbformat_minor": 4
}
