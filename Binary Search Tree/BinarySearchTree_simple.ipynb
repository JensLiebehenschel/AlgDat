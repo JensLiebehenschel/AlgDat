{
 "cells": [
  {
   "cell_type": "markdown",
   "id": "3370fde0-0f58-4e32-aedb-79c5722b3fe9",
   "metadata": {},
   "source": [
    "### Copyright 2022 Edward Späth, Frankfurt University of Applied Sciences, FB2, Computer Science\n",
    "### No liability or warranty; only for educational and non-commercial purposes\n",
    "### See some basic hints for working with Jupyter notebooks in README.md"
   ]
  },
  {
   "cell_type": "markdown",
   "id": "1437c7e0-e19d-4231-a615-20ff12fc3a3b",
   "metadata": {},
   "source": [
    "## Binary Search Tree data structure without visualization"
   ]
  },
  {
   "cell_type": "markdown",
   "id": "44745492-759a-4977-9202-9db676c638b5",
   "metadata": {},
   "source": [
    "## Data strcture for storing nodes of a binary tree"
   ]
  },
  {
   "cell_type": "code",
   "execution_count": 1,
   "id": "f5b2b79f-200c-42f1-b5e8-e9fe94972fc5",
   "metadata": {},
   "outputs": [],
   "source": [
    "root = 'NIL'\n",
    "class Node():\n",
    "    def __init__(self, value):\n",
    "        self.key = value\n",
    "        self.parent = 'NIL'\n",
    "        self.left = 'NIL'\n",
    "        self.right = 'NIL'"
   ]
  },
  {
   "cell_type": "markdown",
   "id": "6af5aec2-0e51-444b-b609-0b881b01ee66",
   "metadata": {
    "tags": []
   },
   "source": [
    "## Insertion and search algorithms"
   ]
  },
  {
   "cell_type": "code",
   "execution_count": 2,
   "id": "32c38efd-4fa1-4ff1-a82d-79efd0d70f75",
   "metadata": {},
   "outputs": [],
   "source": [
    "def insertion_algorithm(user_input):\n",
    "    global root\n",
    "    for value in user_input:\n",
    "        y = 'NIL'\n",
    "        x = root\n",
    "        while x != 'NIL':\n",
    "            y = x\n",
    "            if value < x.key:\n",
    "                x = x.left\n",
    "            else:\n",
    "                x = x.right\n",
    "        if y == 'NIL':\n",
    "            root = Node(value)\n",
    "        elif value < y.key:\n",
    "            y.left = Node(value)\n",
    "        else:\n",
    "            y.right = Node(value)"
   ]
  },
  {
   "cell_type": "code",
   "execution_count": 3,
   "id": "7895a0e5-e30e-42e7-afb3-ac04fb6ac858",
   "metadata": {
    "tags": []
   },
   "outputs": [],
   "source": [
    "def tree_search(x, target):\n",
    "    key_comparisons = 0\n",
    "    while x != 'NIL' and target != x.key:\n",
    "        if target < x.key:\n",
    "            x = x.left\n",
    "        else:\n",
    "            x = x.right\n",
    "        key_comparisons += 1\n",
    "    if x == 'NIL':\n",
    "        return False, key_comparisons\n",
    "    else:\n",
    "        return True, key_comparisons+1 # +1 since the final key comparison is in while condition: \"target != tree[index]\""
   ]
  },
  {
   "cell_type": "markdown",
   "id": "e24c7425-03ec-4315-a863-0d7a4121748e",
   "metadata": {},
   "source": [
    "## Funtion to generate a random list (see \"Randomly generated tree\" below)"
   ]
  },
  {
   "cell_type": "code",
   "execution_count": 4,
   "id": "dc693216-44b3-4437-a5bd-79fca6726df1",
   "metadata": {
    "tags": []
   },
   "outputs": [],
   "source": [
    "import random\n",
    "def generate_random_list(amount_of_values, min_max, tree_elements=[], amount_of_successful_searches=None):\n",
    "    # A list of all possible values (restricted by min_max)\n",
    "    values_min_to_max = list(range(min_max[0], min_max[1]+1))\n",
    "    if len(values_min_to_max) < amount_of_values:\n",
    "        print(\"\\nERROR: The range of possible values is too small for the amount of values supposed to be generated\")\n",
    "        return None\n",
    "    if amount_of_successful_searches != None and amount_of_successful_searches > amount_of_values:\n",
    "        print(\"\\nERROR: You cannot have more successful searches than you have searches themselves\")\n",
    "        return None\n",
    "    # \n",
    "    if amount_of_successful_searches == None:\n",
    "        random_list = []\n",
    "        forbidden_values = []\n",
    "    else:\n",
    "        # Select amount_of_successful_searches nodes out of tree_elements to be found successfully\n",
    "        guranteed_successful = []\n",
    "        for j in range(amount_of_successful_searches):\n",
    "            available_options = list(set(tree_elements) - set(guranteed_successful))\n",
    "            random_value = random.choice(available_options)\n",
    "            guranteed_successful.append(random_value)\n",
    "        random_list = guranteed_successful\n",
    "        # Were it not for  forbidden_values = tree_elements, it would be possible for saying there should be 2 successful searches but by luck a third one occurs randomly\n",
    "        forbidden_values = tree_elements\n",
    "    # Search\n",
    "    if amount_of_successful_searches == None: \n",
    "        amount_values_to_add = amount_of_values\n",
    "    else:\n",
    "        amount_values_to_add = amount_of_values - amount_of_successful_searches\n",
    "    for j in range(amount_values_to_add):\n",
    "        # No duplicate values allowed, therefore only allowing options which are not present in list already and are not forbidden for another reason\n",
    "        available_options = list(set(values_min_to_max) - set(random_list) - set(forbidden_values))\n",
    "        # Chooses a random element of this list\n",
    "        random_value = random.choice(available_options)\n",
    "        random_list.append(random_value)\n",
    "    # shuffle the list so that the successful searches are not guranteed to be the first ones if amount_of_successful_searches is given\n",
    "    if amount_of_successful_searches != None:\n",
    "        random.shuffle(random_list)\n",
    "    return random_list"
   ]
  },
  {
   "cell_type": "markdown",
   "id": "edc2208f-4e70-499c-8b93-8a7f056f42fc",
   "metadata": {},
   "source": [
    "## Function which calls algorithms, displays results and resets the tree"
   ]
  },
  {
   "cell_type": "code",
   "execution_count": 5,
   "id": "bbd2a803-0d65-4c61-9dd4-541d6213eb41",
   "metadata": {
    "tags": []
   },
   "outputs": [],
   "source": [
    "def show_output(input_values, search_values):\n",
    "    global root\n",
    "    # Insert values into tree\n",
    "    insertion_algorithm(input_values)\n",
    "    # Calculate and print statistics\n",
    "    if len(search_values) > 0:\n",
    "        for value in search_values:\n",
    "            key_found, key_comparisons = tree_search(root, value)\n",
    "            if key_found:\n",
    "                print(\"Successfully found value\", value, \"in\", key_comparisons, \"key comparisons\\n\")\n",
    "            else:\n",
    "                print(\"Failed to find value\", value, \"and it took\", key_comparisons, \"key comparisons\\n\")\n",
    "    # Reset tree\n",
    "    root = 'NIL'"
   ]
  },
  {
   "cell_type": "markdown",
   "id": "6e23fd64-013d-486a-a874-acc14aab3ebc",
   "metadata": {},
   "source": [
    "## Example with explanation"
   ]
  },
  {
   "cell_type": "code",
   "execution_count": 6,
   "id": "c47461d6-b673-43e4-8327-5d389fcf8101",
   "metadata": {
    "tags": []
   },
   "outputs": [
    {
     "name": "stdout",
     "output_type": "stream",
     "text": [
      "Successfully found value 35 in 3 key comparisons\n",
      "\n",
      "Failed to find value 16 and it took 4 key comparisons\n",
      "\n",
      "Failed to find value 123 and it took 4 key comparisons\n",
      "\n",
      "Successfully found value 64 in 3 key comparisons\n",
      "\n",
      "Failed to find value 31 and it took 4 key comparisons\n",
      "\n",
      "Successfully found value 3 in 3 key comparisons\n",
      "\n"
     ]
    }
   ],
   "source": [
    "# If you want a visualized version, see \"BinarySearchTree.ipynb\" in the same GitHub folder\n",
    "\n",
    "# Input the values you want to store in the binary search tree\n",
    "input_values = [5, 62, 4, 35, 7, 45, 3, 64, 63, 68]\n",
    "\n",
    "# Input the values you want to search\n",
    "search_values = [35, 16, 123, 64, 31, 3]\n",
    "\n",
    "show_output(input_values, search_values)"
   ]
  },
  {
   "cell_type": "markdown",
   "id": "e12dc2fc-cf2b-4d53-b000-ba343bd1c095",
   "metadata": {},
   "source": [
    "## Yet another example"
   ]
  },
  {
   "cell_type": "code",
   "execution_count": 7,
   "id": "dee7f7b1-5cae-46f5-995f-3e7ca0d71e94",
   "metadata": {},
   "outputs": [
    {
     "name": "stdout",
     "output_type": "stream",
     "text": [
      "Failed to find value 21 and it took 3 key comparisons\n",
      "\n",
      "Failed to find value 6 and it took 2 key comparisons\n",
      "\n",
      "Successfully found value 20 in 3 key comparisons\n",
      "\n",
      "Successfully found value 17 in 4 key comparisons\n",
      "\n"
     ]
    }
   ],
   "source": [
    "input_values = [50, 7, 20, 17, 75]\n",
    "\n",
    "search_values=[21, 6, 20, 17]\n",
    "\n",
    "show_output(input_values, search_values)"
   ]
  },
  {
   "cell_type": "markdown",
   "id": "f8df5df5-dfb7-4805-a890-94d6498eb947",
   "metadata": {},
   "source": [
    "## Randomly generated tree"
   ]
  },
  {
   "cell_type": "code",
   "execution_count": 8,
   "id": "cd9f4656-d49e-4d13-97c9-a3ae268bbc0b",
   "metadata": {},
   "outputs": [
    {
     "name": "stdout",
     "output_type": "stream",
     "text": [
      "The randomly generated list of size 6 \n",
      " [45, 81, 52, 7, 89, 92] \n",
      "is turned into a Binary Search Tree\n",
      "\n",
      "The following 6 values are being searched in said tree:\n",
      " [20, 7, 80, 45, 29, 88] \n",
      "\n",
      "Failed to find value 20 and it took 2 key comparisons\n",
      "\n",
      "Successfully found value 7 in 2 key comparisons\n",
      "\n",
      "Failed to find value 80 and it took 3 key comparisons\n",
      "\n",
      "Successfully found value 45 in 1 key comparisons\n",
      "\n",
      "Failed to find value 29 and it took 2 key comparisons\n",
      "\n",
      "Failed to find value 88 and it took 3 key comparisons\n",
      "\n"
     ]
    }
   ],
   "source": [
    "# Adjust how many values the randomly generated tree is supposed to have\n",
    "amount_of_values = 6\n",
    "min_max = [1, 100] # The minimum possible navlue and maximum possible value\n",
    "random_input = generate_random_list(amount_of_values, min_max)\n",
    "\n",
    "# Input how many random values you want to be searched\n",
    "amount_of_search_values = 6\n",
    "# Input how many of those searches are supposed to be successful. Set it to \"amount_of_successful_searches = None\" if you want it to be entirely random. \n",
    "# Note that None and 0 are not the same! None would make it entirely random and 0 would make it impossible to successfully find a value\n",
    "amount_of_successful_searches = 2\n",
    "search_values = generate_random_list(amount_of_search_values, min_max, random_input, amount_of_successful_searches)\n",
    "\n",
    "if random_input != None:\n",
    "    print(\"The randomly generated list of size\", amount_of_values, \"\\n\", random_input, \"\\nis turned into a Binary Search Tree\\n\")\n",
    "    print(\"The following\", amount_of_search_values, \"values are being searched in said tree:\\n\", search_values, '\\n')\n",
    "    show_output(random_input, search_values)"
   ]
  },
  {
   "cell_type": "markdown",
   "id": "ae704a49-c8de-41ec-a477-6141a4516548",
   "metadata": {},
   "source": [
    "## Your tests go here..."
   ]
  },
  {
   "cell_type": "code",
   "execution_count": 9,
   "id": "843ad52f-0e16-4dc0-9dc0-f8239e177e84",
   "metadata": {},
   "outputs": [
    {
     "name": "stdout",
     "output_type": "stream",
     "text": [
      "Successfully found value 1 in 2 key comparisons\n",
      "\n",
      "Failed to find value 8 and it took 3 key comparisons\n",
      "\n",
      "Failed to find value 4 and it took 4 key comparisons\n",
      "\n",
      "Successfully found value 6 in 2 key comparisons\n",
      "\n"
     ]
    }
   ],
   "source": [
    "user_input = [5, 1, 2, 6, 7, 3]\n",
    "\n",
    "search_values = [1, 8, 4, 6]\n",
    "\n",
    "show_output(user_input, search_values)"
   ]
  }
 ],
 "metadata": {
  "kernelspec": {
   "display_name": "Python 3 (ipykernel)",
   "language": "python",
   "name": "python3"
  },
  "language_info": {
   "codemirror_mode": {
    "name": "ipython",
    "version": 3
   },
   "file_extension": ".py",
   "mimetype": "text/x-python",
   "name": "python",
   "nbconvert_exporter": "python",
   "pygments_lexer": "ipython3",
   "version": "3.9.12"
  }
 },
 "nbformat": 4,
 "nbformat_minor": 5
}
