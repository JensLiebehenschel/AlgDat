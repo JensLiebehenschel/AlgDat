{
 "cells": [
  {
   "cell_type": "markdown",
   "metadata": {},
   "source": [
    "### Copyright 2024 Jens Liebehenschel, Frankfurt University of Applied Sciences, FB2, Computer Science\n",
    "### No liability or warranty; only for educational and non-commercial purposes\n",
    "### See some basic hints for working with Jupyter notebooks in README.md\n",
    "## Red Black Trees without visualization"
   ]
  },
  {
   "cell_type": "markdown",
   "metadata": {},
   "source": [
    "## The implementation follows C. Okasaki: Red-black trees in a functional setting "
   ]
  },
  {
   "cell_type": "markdown",
   "metadata": {},
   "source": [
    "## Data structure for storing nodes of a red black tree"
   ]
  },
  {
   "cell_type": "code",
   "execution_count": 1,
   "metadata": {},
   "outputs": [],
   "source": [
    "class Node:\n",
    "    def __init__(self, data, red=True):\n",
    "        self.data = data\n",
    "        self.left = None\n",
    "        self.right = None\n",
    "        self.parent = None\n",
    "        self.red = red # True -> node is red, False -> black"
   ]
  },
  {
   "cell_type": "markdown",
   "metadata": {
    "tags": []
   },
   "source": [
    "## Balancing operation"
   ]
  },
  {
   "cell_type": "code",
   "execution_count": 2,
   "metadata": {},
   "outputs": [],
   "source": [
    "def balance(node):\n",
    "    global root\n",
    "    if not node.parent:\n",
    "        root = node\n",
    "        node.red = False # node is root of tree\n",
    "        return\n",
    "    if node.red and node.parent.red:\n",
    "        if node.parent.data < node.parent.parent.data:\n",
    "            if node.data < node.parent.data: # double right rotation\n",
    "                x, y, z = node, node.parent, node.parent.parent\n",
    "                y.right, z.left = z, y.right\n",
    "                y.parent, z.parent = z.parent, y\n",
    "                if z.left: # subtree c\n",
    "                    z.left.parent = z\n",
    "            else: # node.data >= node.parent.data, left-right rotation\n",
    "                x, y, z = node.parent, node, node.parent.parent\n",
    "                x.right, y.left, y.right, z.left = y.left, x, z, y.right\n",
    "                x.parent, y.parent, z.parent = y, z.parent, y\n",
    "                if x.right: # subtree b\n",
    "                    x.right.parent = x\n",
    "                if z.left: # subtree c\n",
    "                    z.left.parent = z\n",
    "        else: # node.parent.data >= node.parent.parent.data\n",
    "            if node.data < node.parent.data: # right-left rotation\n",
    "                x, y, z = node.parent.parent, node, node.parent\n",
    "                x.right, y.left, y.right, z.left = y.left, x, z, y.right\n",
    "                x.parent, y.parent, z.parent = y, x.parent, y\n",
    "                if x.right: # subtree b\n",
    "                    x.right.parent = x\n",
    "                if z.left: # subtree c\n",
    "                    z.left.parent = z\n",
    "            else: # node.data >= node.parent.data, double left rotation\n",
    "                x, y, z = node.parent.parent, node.parent, node\n",
    "                x.right, y.left = y.left, x\n",
    "                x.parent, y.parent = y, x.parent\n",
    "                if x.right: # subtree b\n",
    "                    x.right.parent = x\n",
    "        # for all cases\n",
    "        x.red = False\n",
    "        y.red = True\n",
    "        z.red = False\n",
    "        if y.parent:\n",
    "            if y.data < y.parent.data:\n",
    "                y.parent.left = y\n",
    "            else:\n",
    "                y.parent.right = y\n",
    "        balance(y)"
   ]
  },
  {
   "cell_type": "markdown",
   "metadata": {
    "tags": []
   },
   "source": [
    "## Insert and search functions"
   ]
  },
  {
   "cell_type": "code",
   "execution_count": 3,
   "metadata": {},
   "outputs": [],
   "source": [
    "def insert(data):\n",
    "    global root\n",
    "    if not root:\n",
    "        root = Node(data, red=False) # root is always black, no rebalancing required\n",
    "    else:\n",
    "        node = root\n",
    "        predecessor = None\n",
    "        while (node):\n",
    "            predecessor = node\n",
    "            if data < node.data:\n",
    "                node = node.left\n",
    "            else: # data >= node.data\n",
    "                node = node.right\n",
    "        new_node = Node(data)\n",
    "        if data < predecessor.data:\n",
    "            predecessor.left = new_node\n",
    "        else: # data >= predecessor.data\n",
    "            predecessor.right = new_node\n",
    "        new_node.parent = predecessor\n",
    "        balance(new_node)"
   ]
  },
  {
   "cell_type": "code",
   "execution_count": 4,
   "metadata": {},
   "outputs": [],
   "source": [
    "def search(data):\n",
    "    node = root\n",
    "    while (node and data != node.data): # not found\n",
    "        if data < node.data:\n",
    "            node = node.left\n",
    "        else: # data >= node.data\n",
    "            node = node.right\n",
    "    return node "
   ]
  },
  {
   "cell_type": "markdown",
   "metadata": {},
   "source": [
    "## Supporting function for test"
   ]
  },
  {
   "cell_type": "code",
   "execution_count": 5,
   "metadata": {},
   "outputs": [],
   "source": [
    "def inorder(node, level=0):\n",
    "    if node:\n",
    "        inorder(node.left, level+1)\n",
    "        print(level, \"  \"*level, \"%s%s\"%(node.data,\"r\" if node.red else \"b\"))\n",
    "        inorder(node.right, level+1)"
   ]
  },
  {
   "cell_type": "markdown",
   "metadata": {},
   "source": [
    "## Test"
   ]
  },
  {
   "cell_type": "code",
   "execution_count": 6,
   "metadata": {},
   "outputs": [],
   "source": [
    "# keys to be inserted\n",
    "keys = [3,6,4,2,5,8,7,1,9]\n",
    "# this is the resulting tree\n",
    "#     4\n",
    "#  2      7\n",
    "# 1 3   6   8\n",
    "#      5     9\n",
    "# additional keys not in the tree\n",
    "keys_ext = keys + [0,10,11]"
   ]
  },
  {
   "cell_type": "code",
   "execution_count": 7,
   "metadata": {
    "tags": []
   },
   "outputs": [
    {
     "name": "stdout",
     "output_type": "stream",
     "text": [
      "Inserted keys: [1, 2, 3, 4, 5, 6, 7, 8, 9]\n"
     ]
    }
   ],
   "source": [
    "# create empty red black tree\n",
    "root = None\n",
    "\n",
    "# insert keys\n",
    "for k in keys:\n",
    "    insert(k)\n",
    "keys.sort()\n",
    "print(\"Inserted keys:\", keys)"
   ]
  },
  {
   "cell_type": "code",
   "execution_count": 8,
   "metadata": {},
   "outputs": [
    {
     "name": "stdout",
     "output_type": "stream",
     "text": [
      "Inorder of tree:\n",
      "2      1b\n",
      "1    2r\n",
      "2      3b\n",
      "0  4b\n",
      "3        5r\n",
      "2      6b\n",
      "1    7r\n",
      "2      8b\n",
      "3        9r\n"
     ]
    }
   ],
   "source": [
    "# output the inorder of the tree\n",
    "print(\"Inorder of tree:\")\n",
    "inorder(root)"
   ]
  },
  {
   "cell_type": "code",
   "execution_count": 9,
   "metadata": {},
   "outputs": [
    {
     "name": "stdout",
     "output_type": "stream",
     "text": [
      "0 not found\n",
      "1 found: 1\n",
      "2 found: 2\n",
      "3 found: 3\n",
      "4 found: 4\n",
      "5 found: 5\n",
      "6 found: 6\n",
      "7 found: 7\n",
      "8 found: 8\n",
      "9 found: 9\n",
      "10 not found\n",
      "11 not found\n"
     ]
    }
   ],
   "source": [
    "# search values\n",
    "keys_ext.sort()\n",
    "for k in keys_ext:\n",
    "    res = search(k)\n",
    "    if res:\n",
    "        print(k, \"found:\", res.data)\n",
    "    else:\n",
    "        print(k, \"not found\")"
   ]
  },
  {
   "cell_type": "markdown",
   "metadata": {},
   "source": [
    "## Your tests go here..."
   ]
  },
  {
   "cell_type": "code",
   "execution_count": 10,
   "metadata": {},
   "outputs": [],
   "source": [
    "root = None\n",
    "keys = [1,3,5,7]\n",
    "keys_ext = keys + [0,2,4,6,8]"
   ]
  },
  {
   "cell_type": "code",
   "execution_count": 11,
   "metadata": {},
   "outputs": [
    {
     "name": "stdout",
     "output_type": "stream",
     "text": [
      "Inserted 1\n",
      "Inorder of tree:\n",
      "0  1b\n",
      "\n",
      "Inserted 3\n",
      "Inorder of tree:\n",
      "0  1b\n",
      "1    3r\n",
      "\n",
      "Inserted 5\n",
      "Inorder of tree:\n",
      "1    1b\n",
      "0  3b\n",
      "1    5b\n",
      "\n",
      "Inserted 7\n",
      "Inorder of tree:\n",
      "1    1b\n",
      "0  3b\n",
      "1    5b\n",
      "2      7r\n",
      "\n",
      "Inserted keys: [1, 3, 5, 7]\n"
     ]
    }
   ],
   "source": [
    "for k in keys:\n",
    "    insert(k)\n",
    "    print(\"Inserted\", k)\n",
    "    print(\"Inorder of tree:\")\n",
    "    inorder(root)\n",
    "    print()\n",
    "keys.sort()\n",
    "print(\"Inserted keys:\", keys)"
   ]
  },
  {
   "cell_type": "code",
   "execution_count": 12,
   "metadata": {},
   "outputs": [
    {
     "name": "stdout",
     "output_type": "stream",
     "text": [
      "0 not found\n",
      "1 found: 1\n",
      "2 not found\n",
      "3 found: 3\n",
      "4 not found\n",
      "5 found: 5\n",
      "6 not found\n",
      "7 found: 7\n",
      "8 not found\n"
     ]
    }
   ],
   "source": [
    "keys_ext.sort()\n",
    "for k in keys_ext:\n",
    "    res = search(k)\n",
    "    if res:\n",
    "        print(k, \"found:\", res.data)\n",
    "    else:\n",
    "        print(k, \"not found\")"
   ]
  },
  {
   "cell_type": "markdown",
   "metadata": {},
   "source": [
    "## ... and here..."
   ]
  },
  {
   "cell_type": "code",
   "execution_count": null,
   "metadata": {},
   "outputs": [],
   "source": []
  }
 ],
 "metadata": {
  "kernelspec": {
   "display_name": "Python 3",
   "language": "python",
   "name": "python3"
  },
  "language_info": {
   "codemirror_mode": {
    "name": "ipython",
    "version": 3
   },
   "file_extension": ".py",
   "mimetype": "text/x-python",
   "name": "python",
   "nbconvert_exporter": "python",
   "pygments_lexer": "ipython3",
   "version": "3.8.5"
  }
 },
 "nbformat": 4,
 "nbformat_minor": 5
}
