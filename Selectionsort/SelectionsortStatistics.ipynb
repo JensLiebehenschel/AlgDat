{
 "cells": [
  {
   "cell_type": "markdown",
   "metadata": {},
   "source": [
    "### Copyright 2021 Jens Liebehenschel, Frankfurt University of Applied Sciences, FB2, Computer Science\n",
    "### No liability or warranty; only for educational and non-commercial purposes\n",
    "### See some basic hints for working with Jupyter notebooks in README.md\n",
    "## Sorting an array using selectionsort and output of some statistics"
   ]
  },
  {
   "cell_type": "code",
   "execution_count": 1,
   "metadata": {},
   "outputs": [],
   "source": [
    "# this code contains counters for outputting statistics\n",
    "# the counters are incremented after the action to be counted happened\n",
    "def selectionsort(a, outputStats=True):\n",
    "    # initialization of counters\n",
    "    exec_outer_loop = 0\n",
    "    exec_inner_loop = 0\n",
    "    comparison_keys = 0\n",
    "    exchange_keys = 0\n",
    "    # sorting begins here\n",
    "    for i in range(len(a)-1):\n",
    "        exec_outer_loop += 1\n",
    "        pos_min = i\n",
    "        for j in range(i+1,len(a)):\n",
    "            exec_inner_loop += 1\n",
    "            if a[j] < a[pos_min]:\n",
    "                pos_min = j\n",
    "            comparison_keys += 1\n",
    "        a[pos_min],a[i] = a[i],a[pos_min]\n",
    "        exchange_keys += 1\n",
    "    if outputStats:\n",
    "        # output of counters, \"# ...\" means \"number of ...\"\n",
    "        print(TEXT_SPACING, \"# elements in array =\", len(a))\n",
    "        print(TEXT_SPACING, \"# executions outer loop =\", exec_outer_loop)\n",
    "        print(TEXT_SPACING, \"# executions inner loop =\", exec_inner_loop)\n",
    "        print(TEXT_SPACING, \"# key comparisons =\", comparison_keys)\n",
    "        print(TEXT_SPACING, \"# key exchanges =\", exchange_keys)\n",
    "    return a, exec_outer_loop, exec_inner_loop, comparison_keys, exchange_keys"
   ]
  },
  {
   "cell_type": "markdown",
   "metadata": {},
   "source": [
    "## Constants"
   ]
  },
  {
   "cell_type": "code",
   "execution_count": 2,
   "metadata": {},
   "outputs": [],
   "source": [
    "# The size of elements in tests can be changed here\n",
    "ARRAY_SIZE = 10\n",
    "# Some output text\n",
    "TEXT_BEFORE_SORTING = \"Before sorting:\"\n",
    "TEXT_AFTER_SORTING = \"After  sorting:\"\n",
    "TEXT_SPACING = \" \"*len(TEXT_BEFORE_SORTING)"
   ]
  },
  {
   "cell_type": "markdown",
   "metadata": {},
   "source": [
    "## Generate test data and test algorithm"
   ]
  },
  {
   "cell_type": "code",
   "execution_count": 3,
   "metadata": {},
   "outputs": [
    {
     "name": "stdout",
     "output_type": "stream",
     "text": [
      "Before sorting: [0, 1, 2, 3, 4, 5, 6, 7, 8, 9]\n",
      "                # elements in array = 10\n",
      "                # executions outer loop = 9\n",
      "                # executions inner loop = 45\n",
      "                # key comparisons = 45\n",
      "                # key exchanges = 9\n",
      "After  sorting: [0, 1, 2, 3, 4, 5, 6, 7, 8, 9]\n"
     ]
    }
   ],
   "source": [
    "# test sorting sorted array\n",
    "sorted_array = list(range(ARRAY_SIZE))\n",
    "print(TEXT_BEFORE_SORTING, sorted_array)\n",
    "print(TEXT_AFTER_SORTING, selectionsort(sorted_array)[0])"
   ]
  },
  {
   "cell_type": "code",
   "execution_count": 4,
   "metadata": {},
   "outputs": [
    {
     "name": "stdout",
     "output_type": "stream",
     "text": [
      "Before sorting: [9, 8, 7, 6, 5, 4, 3, 2, 1, 0]\n",
      "                # elements in array = 10\n",
      "                # executions outer loop = 9\n",
      "                # executions inner loop = 45\n",
      "                # key comparisons = 45\n",
      "                # key exchanges = 9\n",
      "After  sorting: [0, 1, 2, 3, 4, 5, 6, 7, 8, 9]\n"
     ]
    }
   ],
   "source": [
    "# test sorting reversly sorted array\n",
    "reverse_sorted_array = list(range(ARRAY_SIZE-1, -1, -1))\n",
    "print(TEXT_BEFORE_SORTING, reverse_sorted_array)\n",
    "print(TEXT_AFTER_SORTING, selectionsort(reverse_sorted_array)[0])"
   ]
  },
  {
   "cell_type": "code",
   "execution_count": 5,
   "metadata": {},
   "outputs": [
    {
     "name": "stdout",
     "output_type": "stream",
     "text": [
      "Before sorting: [2, 8, 4, 9, 1, 6, 7, 3, 0, 5]\n",
      "                # elements in array = 10\n",
      "                # executions outer loop = 9\n",
      "                # executions inner loop = 45\n",
      "                # key comparisons = 45\n",
      "                # key exchanges = 9\n",
      "After  sorting: [0, 1, 2, 3, 4, 5, 6, 7, 8, 9]\n"
     ]
    }
   ],
   "source": [
    "# test sorting random array\n",
    "# use numpy for generating a permutation\n",
    "import numpy\n",
    "# initialialize random number generator to obtain reproducable results\n",
    "# other values might be used or even no initialization done here\n",
    "numpy.random.seed(0)\n",
    "# now generate random data and test sorting\n",
    "array = list(numpy.random.permutation(ARRAY_SIZE))\n",
    "print(TEXT_BEFORE_SORTING, array)\n",
    "print(TEXT_AFTER_SORTING, selectionsort(array)[0])"
   ]
  },
  {
   "cell_type": "code",
   "execution_count": 6,
   "metadata": {},
   "outputs": [
    {
     "name": "stdout",
     "output_type": "stream",
     "text": [
      "Before sorting: [1, 3, 2]\n",
      "                # elements in array = 3\n",
      "                # executions outer loop = 2\n",
      "                # executions inner loop = 3\n",
      "                # key comparisons = 3\n",
      "                # key exchanges = 2\n",
      "After  sorting: [1, 2, 3]\n"
     ]
    }
   ],
   "source": [
    "# your test here ...\n",
    "array = [1,3,2]\n",
    "print(TEXT_BEFORE_SORTING, array)\n",
    "print(TEXT_AFTER_SORTING, selectionsort(array)[0])"
   ]
  },
  {
   "cell_type": "code",
   "execution_count": 7,
   "metadata": {},
   "outputs": [],
   "source": [
    "# ... and here ...\n"
   ]
  },
  {
   "cell_type": "markdown",
   "metadata": {},
   "source": [
    "## Output of statistics to understand the behavior of algorithm"
   ]
  },
  {
   "cell_type": "code",
   "execution_count": 8,
   "metadata": {},
   "outputs": [],
   "source": [
    "# for visualization we make use of pyplot\n",
    "import matplotlib.pyplot as plt"
   ]
  },
  {
   "cell_type": "markdown",
   "metadata": {},
   "source": [
    "## Constants"
   ]
  },
  {
   "cell_type": "code",
   "execution_count": 9,
   "metadata": {},
   "outputs": [],
   "source": [
    "# The size of the arrays in tests can be changed here\n",
    "MIN_ARRAY_SIZE = 1\n",
    "MAX_ARRAY_SIZE = 10"
   ]
  },
  {
   "cell_type": "markdown",
   "metadata": {},
   "source": [
    "## Tests"
   ]
  },
  {
   "cell_type": "code",
   "execution_count": 10,
   "metadata": {},
   "outputs": [
    {
     "data": {
      "image/png": "[encoded data removed]",
      "text/plain": [
       "<Figure size 432x288 with 1 Axes>"
      ]
     },
     "metadata": {
      "needs_background": "light"
     },
     "output_type": "display_data"
    }
   ],
   "source": [
    "# test sorting sorted arrays\n",
    "results = []\n",
    "for i in range(MIN_ARRAY_SIZE, MAX_ARRAY_SIZE+1):\n",
    "    sorted_array = list(range(i))\n",
    "    results.append(selectionsort(sorted_array, outputStats=False))\n",
    "# create plot of number of elements and number of key comparisons and key exchanges\n",
    "plt.plot([len(r[0]) for r in results],[r[3] for r in results], \"bo-\") # blue dot\n",
    "plt.plot([len(r[0]) for r in results],[r[4] for r in results], \"co-\") # cyan dot\n",
    "plt.xticks(range(MIN_ARRAY_SIZE, MAX_ARRAY_SIZE+1))\n",
    "plt.grid(True)\n",
    "plt.show()"
   ]
  },
  {
   "cell_type": "code",
   "execution_count": 11,
   "metadata": {},
   "outputs": [
    {
     "data": {
      "image/png": "[encoded data removed]",
      "text/plain": [
       "<Figure size 432x288 with 1 Axes>"
      ]
     },
     "metadata": {
      "needs_background": "light"
     },
     "output_type": "display_data"
    }
   ],
   "source": [
    "# test sorting reversly sorted arrays\n",
    "results = []\n",
    "for i in range(MIN_ARRAY_SIZE, MAX_ARRAY_SIZE+1):\n",
    "    reverse_sorted_array = list(range(i-1, -1, -1))\n",
    "    results.append(selectionsort(reverse_sorted_array, outputStats=False))\n",
    "# create plot of number of elements and number of key comparisons and key exchanges\n",
    "plt.plot([len(r[0]) for r in results],[r[3] for r in results], \"bo-\") # blue dot\n",
    "plt.plot([len(r[0]) for r in results],[r[4] for r in results], \"co-\") # cyan dot\n",
    "plt.xticks(range(MIN_ARRAY_SIZE, MAX_ARRAY_SIZE+1))\n",
    "plt.grid(True)\n",
    "plt.show()"
   ]
  }
 ],
 "metadata": {
  "kernelspec": {
   "display_name": "Python 3",
   "language": "python",
   "name": "python3"
  },
  "language_info": {
   "codemirror_mode": {
    "name": "ipython",
    "version": 3
   },
   "file_extension": ".py",
   "mimetype": "text/x-python",
   "name": "python",
   "nbconvert_exporter": "python",
   "pygments_lexer": "ipython3",
   "version": "3.8.5"
  }
 },
 "nbformat": 4,
 "nbformat_minor": 4
}
