{
 "cells": [
  {
   "cell_type": "markdown",
   "metadata": {},
   "source": [
    "### Copyright 2021 Jens Liebehenschel, Frankfurt University of Applied Sciences, FB2, Computer Science\n",
    "### No liability or warranty; only for educational and non-commercial purposes\n",
    "### See some basic hints for working with Jupyter notebooks in README.md\n",
    "## Data structure stack"
   ]
  },
  {
   "cell_type": "markdown",
   "metadata": {},
   "source": [
    "## Constants and global variables"
   ]
  },
  {
   "cell_type": "code",
   "execution_count": 1,
   "metadata": {},
   "outputs": [],
   "source": [
    "# maximal size of the stack\n",
    "MAX_NUM_ELEMENTS = 10\n",
    "# the stack and the index of the topmost element\n",
    "# top element of stack is rightmost element in the list s, if stack is not empty\n",
    "s = [-1]*MAX_NUM_ELEMENTS\n",
    "top = -1"
   ]
  },
  {
   "cell_type": "markdown",
   "metadata": {},
   "source": [
    "## Functions"
   ]
  },
  {
   "cell_type": "code",
   "execution_count": 2,
   "metadata": {},
   "outputs": [],
   "source": [
    "def is_empty():\n",
    "    global top\n",
    "    return top == -1"
   ]
  },
  {
   "cell_type": "code",
   "execution_count": 3,
   "metadata": {},
   "outputs": [],
   "source": [
    "def is_full():\n",
    "    global top\n",
    "    return top == MAX_NUM_ELEMENTS-1"
   ]
  },
  {
   "cell_type": "code",
   "execution_count": 4,
   "metadata": {},
   "outputs": [],
   "source": [
    "def push(element):\n",
    "    global s, top\n",
    "    if is_full():\n",
    "        print(\"Stack is full, push not possible.\")\n",
    "    else:\n",
    "        top += 1\n",
    "        s[top] = element"
   ]
  },
  {
   "cell_type": "code",
   "execution_count": 5,
   "metadata": {},
   "outputs": [],
   "source": [
    "def pop():\n",
    "    global s, top\n",
    "    if is_empty():\n",
    "        print(\"Stack is empty, pop not possible.\")\n",
    "        return None\n",
    "    else:\n",
    "        top -= 1\n",
    "        return s[top+1] # can be done only when we have the memory under control"
   ]
  },
  {
   "cell_type": "code",
   "execution_count": 6,
   "metadata": {},
   "outputs": [],
   "source": [
    "# helper functions\n",
    "def init_stack():\n",
    "    global s, top\n",
    "    s = [-1]*MAX_NUM_ELEMENTS\n",
    "    top = -1\n",
    "def print_stack():\n",
    "    global s, top\n",
    "    print(s[:top+1])\n",
    "def print_stack_details():\n",
    "    global s, top\n",
    "    # this functions discloses implementation details\n",
    "    print(\"### s =\", s)\n",
    "    print(\"### top =\", top)"
   ]
  },
  {
   "cell_type": "markdown",
   "metadata": {},
   "source": [
    "## Test data structure"
   ]
  },
  {
   "cell_type": "code",
   "execution_count": 7,
   "metadata": {},
   "outputs": [
    {
     "name": "stdout",
     "output_type": "stream",
     "text": [
      "[100, 101, 102, 103, 104, 105, 106, 107, 108]\n",
      "is_empty() = False\n",
      "is_full() = False\n",
      "[100, 101, 102, 103, 104, 105, 106, 107, 108, 109]\n",
      "is_empty() = False\n",
      "is_full() = True\n",
      "[100]\n",
      "is_empty() = False\n",
      "is_full() = False\n",
      "[]\n",
      "is_empty() = True\n",
      "is_full() = False\n"
     ]
    }
   ],
   "source": [
    "# add and remove elements and check is_empty and is_full\n",
    "init_stack()\n",
    "for i in range(100,100+MAX_NUM_ELEMENTS-1):\n",
    "    push(i)\n",
    "print_stack()\n",
    "print(\"is_empty() =\", is_empty())\n",
    "print(\"is_full() =\", is_full())\n",
    "push(100+MAX_NUM_ELEMENTS-1)\n",
    "print_stack()\n",
    "print(\"is_empty() =\", is_empty())\n",
    "print(\"is_full() =\", is_full())\n",
    "for i in range(MAX_NUM_ELEMENTS-1):\n",
    "    pop()\n",
    "print_stack()\n",
    "print(\"is_empty() =\", is_empty())\n",
    "print(\"is_full() =\", is_full())\n",
    "pop()\n",
    "print_stack()\n",
    "print(\"is_empty() =\", is_empty())\n",
    "print(\"is_full() =\", is_full())"
   ]
  },
  {
   "cell_type": "code",
   "execution_count": 8,
   "metadata": {},
   "outputs": [
    {
     "name": "stdout",
     "output_type": "stream",
     "text": [
      "[]\n",
      "Command: push 100\n",
      "[100]\n",
      "Command: push 101\n",
      "[100, 101]\n",
      "Command: push 102\n",
      "[100, 101, 102]\n",
      "Command: push 103\n",
      "[100, 101, 102, 103]\n",
      "Command: push 104\n",
      "[100, 101, 102, 103, 104]\n",
      "Command: push 105\n",
      "[100, 101, 102, 103, 104, 105]\n",
      "Command: push 106\n",
      "[100, 101, 102, 103, 104, 105, 106]\n",
      "Command: push 107\n",
      "[100, 101, 102, 103, 104, 105, 106, 107]\n",
      "Command: push 108\n",
      "[100, 101, 102, 103, 104, 105, 106, 107, 108]\n",
      "Command: push 109\n",
      "[100, 101, 102, 103, 104, 105, 106, 107, 108, 109]\n",
      "Command: push 110\n",
      "Stack is full, push not possible.\n",
      "[100, 101, 102, 103, 104, 105, 106, 107, 108, 109]\n",
      "Command: pop, result 109\n",
      "[100, 101, 102, 103, 104, 105, 106, 107, 108]\n",
      "Command: pop, result 108\n",
      "[100, 101, 102, 103, 104, 105, 106, 107]\n",
      "Command: pop, result 107\n",
      "[100, 101, 102, 103, 104, 105, 106]\n",
      "Command: pop, result 106\n",
      "[100, 101, 102, 103, 104, 105]\n",
      "Command: pop, result 105\n",
      "[100, 101, 102, 103, 104]\n",
      "Command: pop, result 104\n",
      "[100, 101, 102, 103]\n",
      "Command: pop, result 103\n",
      "[100, 101, 102]\n",
      "Command: pop, result 102\n",
      "[100, 101]\n",
      "Command: pop, result 101\n",
      "[100]\n",
      "Command: pop, result 100\n",
      "[]\n",
      "Stack is empty, pop not possible.\n",
      "Command: pop, result None\n",
      "[]\n"
     ]
    }
   ],
   "source": [
    "init_stack()\n",
    "print_stack()\n",
    "for i in range(100,100+MAX_NUM_ELEMENTS+1):\n",
    "    print(\"Command: push\", i)\n",
    "    push(i)\n",
    "    print_stack()\n",
    "for i in range(MAX_NUM_ELEMENTS+1):\n",
    "    print( \"Command: pop, result\", pop())\n",
    "    print_stack()"
   ]
  },
  {
   "cell_type": "code",
   "execution_count": 9,
   "metadata": {},
   "outputs": [
    {
     "name": "stdout",
     "output_type": "stream",
     "text": [
      "[]\n",
      "Command: push 0\n",
      "[0]\n",
      "### s = [0, -1, -1, -1, -1, -1, -1, -1, -1, -1]\n",
      "### top = 0\n",
      "Command: push 1\n",
      "[0, 1]\n",
      "### s = [0, 1, -1, -1, -1, -1, -1, -1, -1, -1]\n",
      "### top = 1\n",
      "Command: push 2\n",
      "[0, 1, 2]\n",
      "### s = [0, 1, 2, -1, -1, -1, -1, -1, -1, -1]\n",
      "### top = 2\n",
      "Command: pop, result 2\n",
      "[0, 1]\n",
      "### s = [0, 1, 2, -1, -1, -1, -1, -1, -1, -1]\n",
      "### top = 1\n",
      "Command: pop, result 1\n",
      "[0]\n",
      "### s = [0, 1, 2, -1, -1, -1, -1, -1, -1, -1]\n",
      "### top = 0\n",
      "Command: pop, result 0\n",
      "[]\n",
      "### s = [0, 1, 2, -1, -1, -1, -1, -1, -1, -1]\n",
      "### top = -1\n"
     ]
    }
   ],
   "source": [
    "init_stack()\n",
    "print_stack()\n",
    "for i in range(3):\n",
    "    print(\"Command: push\", i)\n",
    "    push(i)\n",
    "    print_stack()\n",
    "    print_stack_details()\n",
    "for i in range(3):\n",
    "    print( \"Command: pop, result\", pop())\n",
    "    print_stack()\n",
    "    print_stack_details()"
   ]
  },
  {
   "cell_type": "markdown",
   "metadata": {},
   "source": [
    "### Your tests here ..."
   ]
  },
  {
   "cell_type": "code",
   "execution_count": 10,
   "metadata": {},
   "outputs": [
    {
     "name": "stdout",
     "output_type": "stream",
     "text": [
      "[]\n",
      "[15]\n",
      "[15, 1]\n",
      "[15, 1, 5]\n",
      "[15, 1, 5, 9]\n",
      "[15, 1, 5, 9, 17]\n",
      "[15, 1, 5, 9, 17, 3]\n",
      "[15, 1, 5, 9, 17]\n",
      "[15, 1, 5, 9, 17, 4]\n"
     ]
    }
   ],
   "source": [
    "init_stack()\n",
    "print_stack()\n",
    "push(15)\n",
    "print_stack()\n",
    "push(1)\n",
    "print_stack()\n",
    "push(5)\n",
    "print_stack()\n",
    "push(9)\n",
    "print_stack()\n",
    "push(17)\n",
    "print_stack()\n",
    "push(3)\n",
    "print_stack()\n",
    "pop()\n",
    "print_stack()\n",
    "push(4)\n",
    "print_stack()"
   ]
  },
  {
   "cell_type": "code",
   "execution_count": 11,
   "metadata": {},
   "outputs": [],
   "source": [
    "# ... and here ..."
   ]
  }
 ],
 "metadata": {
  "kernelspec": {
   "display_name": "Python 3",
   "language": "python",
   "name": "python3"
  },
  "language_info": {
   "codemirror_mode": {
    "name": "ipython",
    "version": 3
   },
   "file_extension": ".py",
   "mimetype": "text/x-python",
   "name": "python",
   "nbconvert_exporter": "python",
   "pygments_lexer": "ipython3",
   "version": "3.8.5"
  }
 },
 "nbformat": 4,
 "nbformat_minor": 4
}
