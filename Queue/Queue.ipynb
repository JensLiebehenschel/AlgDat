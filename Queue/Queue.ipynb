{
 "cells": [
  {
   "cell_type": "markdown",
   "metadata": {},
   "source": [
    "### Copyright 2021 Jens Liebehenschel, Frankfurt University of Applied Sciences, FB2, Computer Science\n",
    "### No liability or warranty; only for educational and non-commercial purposes\n",
    "### See some basic hints for working with Jupyter notebooks in README.md\n",
    "## Data structure queue"
   ]
  },
  {
   "cell_type": "markdown",
   "metadata": {},
   "source": [
    "## Constants and global variables"
   ]
  },
  {
   "cell_type": "code",
   "execution_count": 1,
   "metadata": {},
   "outputs": [],
   "source": [
    "# maximal size of the queue\n",
    "MAX_NUM_ELEMENTS = 10\n",
    "# the queue and the index of the head and next tail elements, if not empty\n",
    "# head: next element to dequeue\n",
    "# tail: next free space for element to enqueue\n",
    "# q contains the elements using a circulary implementation\n",
    "# it is necessary to have space for one more element, otherwise distinction between empty and full is not possible\n",
    "q = [-1]*(MAX_NUM_ELEMENTS+1)\n",
    "head = 0\n",
    "tail = 0"
   ]
  },
  {
   "cell_type": "markdown",
   "metadata": {},
   "source": [
    "## Functions"
   ]
  },
  {
   "cell_type": "code",
   "execution_count": 2,
   "metadata": {},
   "outputs": [],
   "source": [
    "def is_empty():\n",
    "    global head, tail\n",
    "    return head == tail"
   ]
  },
  {
   "cell_type": "code",
   "execution_count": 3,
   "metadata": {},
   "outputs": [],
   "source": [
    "def is_full():\n",
    "    global head, tail\n",
    "    return head == (tail+1) % (MAX_NUM_ELEMENTS+1)"
   ]
  },
  {
   "cell_type": "code",
   "execution_count": 4,
   "metadata": {},
   "outputs": [],
   "source": [
    "def enqueue(element):\n",
    "    global q, head, tail\n",
    "    if is_full():\n",
    "        print(\"Queue is full, enqueue not possible.\")\n",
    "    else:\n",
    "        q[tail] = element\n",
    "        tail = (tail+1) % (MAX_NUM_ELEMENTS+1)"
   ]
  },
  {
   "cell_type": "code",
   "execution_count": 5,
   "metadata": {},
   "outputs": [],
   "source": [
    "def dequeue():\n",
    "    global q, head, tail\n",
    "    if is_empty():\n",
    "        print(\"Queue is empty, dequeue not possible.\")\n",
    "        return None\n",
    "    else:\n",
    "        head = (head+1) % (MAX_NUM_ELEMENTS+1)\n",
    "        return q[(head+MAX_NUM_ELEMENTS) % (MAX_NUM_ELEMENTS+1)] # can be done only when we have the memory under control"
   ]
  },
  {
   "cell_type": "code",
   "execution_count": 6,
   "metadata": {},
   "outputs": [],
   "source": [
    "# helper functions\n",
    "def init_queue():\n",
    "    global q, head, tail\n",
    "    q = [-1]*(MAX_NUM_ELEMENTS+1)\n",
    "    head = 0\n",
    "    tail = 0\n",
    "def print_queue():\n",
    "    global q, head, tail\n",
    "    if tail >= head:\n",
    "        print(q[head:tail])\n",
    "    else:\n",
    "        print(q[head:]+q[:tail])\n",
    "def print_queue_details():\n",
    "    global q, head, tail\n",
    "    # this functions discloses implementation details\n",
    "    print(\"### q =\", q)\n",
    "    print(\"### head , tail =\", head, \",\", tail)"
   ]
  },
  {
   "cell_type": "markdown",
   "metadata": {},
   "source": [
    "## Test data structure"
   ]
  },
  {
   "cell_type": "code",
   "execution_count": 7,
   "metadata": {},
   "outputs": [
    {
     "name": "stdout",
     "output_type": "stream",
     "text": [
      "[100, 101, 102, 103, 104, 105, 106, 107, 108]\n",
      "is_empty() = False\n",
      "is_full() = False\n",
      "[100, 101, 102, 103, 104, 105, 106, 107, 108, 109]\n",
      "is_empty() = False\n",
      "is_full() = True\n",
      "[109]\n",
      "is_empty() = False\n",
      "is_full() = False\n",
      "[]\n",
      "is_empty() = True\n",
      "is_full() = False\n"
     ]
    }
   ],
   "source": [
    "# add and remove elements and check is_empty and is_full\n",
    "init_queue()\n",
    "for i in range(100,100+MAX_NUM_ELEMENTS-1):\n",
    "    enqueue(i)\n",
    "print_queue()\n",
    "print(\"is_empty() =\", is_empty())\n",
    "print(\"is_full() =\", is_full())\n",
    "enqueue(100+MAX_NUM_ELEMENTS-1)\n",
    "print_queue()\n",
    "print(\"is_empty() =\", is_empty())\n",
    "print(\"is_full() =\", is_full())\n",
    "for i in range(MAX_NUM_ELEMENTS-1):\n",
    "    dequeue()\n",
    "print_queue()\n",
    "print(\"is_empty() =\", is_empty())\n",
    "print(\"is_full() =\", is_full())\n",
    "dequeue()\n",
    "print_queue()\n",
    "print(\"is_empty() =\", is_empty())\n",
    "print(\"is_full() =\", is_full())"
   ]
  },
  {
   "cell_type": "code",
   "execution_count": 8,
   "metadata": {},
   "outputs": [
    {
     "name": "stdout",
     "output_type": "stream",
     "text": [
      "[]\n",
      "Command: enqueue 100\n",
      "[100]\n",
      "Command: enqueue 101\n",
      "[100, 101]\n",
      "Command: enqueue 102\n",
      "[100, 101, 102]\n",
      "Command: enqueue 103\n",
      "[100, 101, 102, 103]\n",
      "Command: enqueue 104\n",
      "[100, 101, 102, 103, 104]\n",
      "Command: enqueue 105\n",
      "[100, 101, 102, 103, 104, 105]\n",
      "Command: enqueue 106\n",
      "[100, 101, 102, 103, 104, 105, 106]\n",
      "Command: enqueue 107\n",
      "[100, 101, 102, 103, 104, 105, 106, 107]\n",
      "Command: enqueue 108\n",
      "[100, 101, 102, 103, 104, 105, 106, 107, 108]\n",
      "Command: enqueue 109\n",
      "[100, 101, 102, 103, 104, 105, 106, 107, 108, 109]\n",
      "Command: enqueue 110\n",
      "Queue is full, enqueue not possible.\n",
      "[100, 101, 102, 103, 104, 105, 106, 107, 108, 109]\n",
      "Command: dequeue, result 100\n",
      "[101, 102, 103, 104, 105, 106, 107, 108, 109]\n",
      "Command: dequeue, result 101\n",
      "[102, 103, 104, 105, 106, 107, 108, 109]\n",
      "Command: dequeue, result 102\n",
      "[103, 104, 105, 106, 107, 108, 109]\n",
      "Command: dequeue, result 103\n",
      "[104, 105, 106, 107, 108, 109]\n",
      "Command: dequeue, result 104\n",
      "[105, 106, 107, 108, 109]\n",
      "Command: dequeue, result 105\n",
      "[106, 107, 108, 109]\n",
      "Command: dequeue, result 106\n",
      "[107, 108, 109]\n",
      "Command: dequeue, result 107\n",
      "[108, 109]\n",
      "Command: dequeue, result 108\n",
      "[109]\n",
      "Command: dequeue, result 109\n",
      "[]\n",
      "Queue is empty, dequeue not possible.\n",
      "Command: dequeue, result None\n",
      "[]\n"
     ]
    }
   ],
   "source": [
    "init_queue()\n",
    "print_queue()\n",
    "for i in range(100,100+MAX_NUM_ELEMENTS+1):\n",
    "    print(\"Command: enqueue\", i)\n",
    "    enqueue(i)\n",
    "    print_queue()\n",
    "for i in range(MAX_NUM_ELEMENTS+1):\n",
    "    print( \"Command: dequeue, result\", dequeue())\n",
    "    print_queue()"
   ]
  },
  {
   "cell_type": "code",
   "execution_count": 9,
   "metadata": {},
   "outputs": [
    {
     "name": "stdout",
     "output_type": "stream",
     "text": [
      "[]\n",
      "### q = [-1, -1, -1, -1, -1, -1, -1, -1, -1, -1, -1]\n",
      "### head , tail = 0 , 0\n",
      "Command: enqueue 0\n",
      "[0]\n",
      "### q = [0, -1, -1, -1, -1, -1, -1, -1, -1, -1, -1]\n",
      "### head , tail = 0 , 1\n",
      "Command: enqueue 1\n",
      "[0, 1]\n",
      "### q = [0, 1, -1, -1, -1, -1, -1, -1, -1, -1, -1]\n",
      "### head , tail = 0 , 2\n",
      "Command: enqueue 2\n",
      "[0, 1, 2]\n",
      "### q = [0, 1, 2, -1, -1, -1, -1, -1, -1, -1, -1]\n",
      "### head , tail = 0 , 3\n",
      "Command: dequeue, result 0\n",
      "[1, 2]\n",
      "### q = [0, 1, 2, -1, -1, -1, -1, -1, -1, -1, -1]\n",
      "### head , tail = 1 , 3\n",
      "Command: dequeue, result 1\n",
      "[2]\n",
      "### q = [0, 1, 2, -1, -1, -1, -1, -1, -1, -1, -1]\n",
      "### head , tail = 2 , 3\n",
      "Command: dequeue, result 2\n",
      "[]\n",
      "### q = [0, 1, 2, -1, -1, -1, -1, -1, -1, -1, -1]\n",
      "### head , tail = 3 , 3\n"
     ]
    }
   ],
   "source": [
    "init_queue()\n",
    "print_queue()\n",
    "print_queue_details()\n",
    "for i in range(3):\n",
    "    print(\"Command: enqueue\", i)\n",
    "    enqueue(i)\n",
    "    print_queue()\n",
    "    print_queue_details()\n",
    "for i in range(3):\n",
    "    print( \"Command: dequeue, result\", dequeue())\n",
    "    print_queue()\n",
    "    print_queue_details()"
   ]
  },
  {
   "cell_type": "code",
   "execution_count": 10,
   "metadata": {},
   "outputs": [
    {
     "name": "stdout",
     "output_type": "stream",
     "text": [
      "[]\n",
      "### q = [0, 0, 0, 0, 0, 0, 0, 0, 0, 0, -1]\n",
      "### head , tail = 10 , 10\n",
      "[1]\n",
      "### q = [0, 0, 0, 0, 0, 0, 0, 0, 0, 0, 1]\n",
      "### head , tail = 10 , 0\n",
      "[1, 2]\n",
      "### q = [2, 0, 0, 0, 0, 0, 0, 0, 0, 0, 1]\n",
      "### head , tail = 10 , 1\n",
      "[2]\n",
      "### q = [2, 0, 0, 0, 0, 0, 0, 0, 0, 0, 1]\n",
      "### head , tail = 0 , 1\n"
     ]
    }
   ],
   "source": [
    "# test for output function\n",
    "init_queue()\n",
    "for i in range(MAX_NUM_ELEMENTS):\n",
    "    enqueue(0)\n",
    "for i in range(MAX_NUM_ELEMENTS):\n",
    "    dequeue()\n",
    "print_queue()\n",
    "print_queue_details()\n",
    "enqueue(1)\n",
    "print_queue()\n",
    "print_queue_details()\n",
    "enqueue(2)\n",
    "print_queue()\n",
    "print_queue_details()\n",
    "dequeue()\n",
    "print_queue()\n",
    "print_queue_details()"
   ]
  },
  {
   "cell_type": "markdown",
   "metadata": {},
   "source": [
    "### your test here ..."
   ]
  },
  {
   "cell_type": "code",
   "execution_count": 11,
   "metadata": {},
   "outputs": [
    {
     "name": "stdout",
     "output_type": "stream",
     "text": [
      "[]\n",
      "[0, 0, 0, 0, 0]\n",
      "### q = [0, 0, 0, 0, 0, -1, -1, -1, -1, -1, -1]\n",
      "### head , tail = 0 , 5\n",
      "[]\n",
      "### q = [0, 0, 0, 0, 0, -1, -1, -1, -1, -1, -1]\n",
      "### head , tail = 5 , 5\n",
      "[15]\n",
      "[15, 6]\n",
      "[15, 6, 9]\n",
      "[15, 6, 9, 8]\n",
      "[15, 6, 9, 8, 4]\n",
      "[15, 6, 9, 8, 4, 17]\n",
      "[15, 6, 9, 8, 4, 17, 3]\n",
      "[15, 6, 9, 8, 4, 17, 3, 5]\n",
      "### q = [3, 5, 0, 0, 0, 15, 6, 9, 8, 4, 17]\n",
      "### head , tail = 5 , 2\n",
      "[6, 9, 8, 4, 17, 3, 5]\n",
      "### q = [3, 5, 0, 0, 0, 15, 6, 9, 8, 4, 17]\n",
      "### head , tail = 6 , 2\n"
     ]
    }
   ],
   "source": [
    "init_queue()\n",
    "print_queue()\n",
    "for i in range(5):\n",
    "    enqueue(0)\n",
    "print_queue()\n",
    "print_queue_details()\n",
    "for i in range(5):\n",
    "    dequeue()\n",
    "print_queue()\n",
    "print_queue_details()\n",
    "for i in [15,6,9,8,4,17,3,5]:\n",
    "    enqueue(i)\n",
    "    print_queue()\n",
    "print_queue_details()\n",
    "dequeue()\n",
    "print_queue()\n",
    "print_queue_details()"
   ]
  },
  {
   "cell_type": "code",
   "execution_count": 12,
   "metadata": {},
   "outputs": [],
   "source": [
    "# ... and here ...\n"
   ]
  }
 ],
 "metadata": {
  "kernelspec": {
   "display_name": "Python 3",
   "language": "python",
   "name": "python3"
  },
  "language_info": {
   "codemirror_mode": {
    "name": "ipython",
    "version": 3
   },
   "file_extension": ".py",
   "mimetype": "text/x-python",
   "name": "python",
   "nbconvert_exporter": "python",
   "pygments_lexer": "ipython3",
   "version": "3.8.5"
  }
 },
 "nbformat": 4,
 "nbformat_minor": 4
}
