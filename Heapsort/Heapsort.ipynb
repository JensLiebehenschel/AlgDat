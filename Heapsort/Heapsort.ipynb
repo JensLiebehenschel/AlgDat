{
 "cells": [
  {
   "cell_type": "markdown",
   "metadata": {},
   "source": [
    "### Copyright 2021 Jens Liebehenschel, Frankfurt University of Applied Sciences, FB2, Computer Science\n",
    "### No liability or warranty; only for educational and non-commercial purposes\n",
    "### See some basic hints for working with Jupyter notebooks in README.md\n",
    "## Sorting an array using heapsort"
   ]
  },
  {
   "cell_type": "code",
   "execution_count": 1,
   "metadata": {},
   "outputs": [],
   "source": [
    "def heapsort(a):\n",
    "    build_max_heap(a)\n",
    "    for i in range(len(a)-1, 0, -1):\n",
    "        a[0], a[i] = a[i], a[0]\n",
    "        max_heapify(a, i, 0)\n",
    "    return a"
   ]
  },
  {
   "cell_type": "code",
   "execution_count": 2,
   "metadata": {},
   "outputs": [],
   "source": [
    "def build_max_heap(a):\n",
    "    for i in range(len(a)//2, 0, -1):\n",
    "        max_heapify(a, len(a), i-1)"
   ]
  },
  {
   "cell_type": "code",
   "execution_count": 3,
   "metadata": {},
   "outputs": [],
   "source": [
    "def max_heapify(a, heapsize, i):\n",
    "    left_child = 2*i + 1\n",
    "    right_child = 2*i + 2\n",
    "    if left_child < heapsize and a[left_child] > a[i]:\n",
    "        maximum = left_child\n",
    "    else:\n",
    "        maximum = i\n",
    "    if right_child < heapsize and a[right_child] > a[maximum]:\n",
    "        maximum = right_child\n",
    "    if maximum != i:\n",
    "        a[i], a[maximum] = a[maximum], a[i]\n",
    "        max_heapify(a, heapsize, maximum)"
   ]
  },
  {
   "cell_type": "code",
   "execution_count": 4,
   "metadata": {},
   "outputs": [],
   "source": [
    "# checks whether array is sorted correctly, this also works with identical keys in the array\n",
    "def check_sorting(a):\n",
    "    return all(a[i] <= a[i+1] for i in range(len(a)-1))"
   ]
  },
  {
   "cell_type": "markdown",
   "metadata": {},
   "source": [
    "## Constants"
   ]
  },
  {
   "cell_type": "code",
   "execution_count": 5,
   "metadata": {},
   "outputs": [],
   "source": [
    "# The size of array in tests can be changed here\n",
    "ARRAY_SIZE = 10\n",
    "# Some output text\n",
    "TEXT_BEFORE_SORTING = \"Before sorting:\"\n",
    "TEXT_AFTER_SORTING = \"After  sorting:\"\n",
    "TEXT_CHECK_SORTING = \"Sorting correct? -\""
   ]
  },
  {
   "cell_type": "markdown",
   "metadata": {},
   "source": [
    "## Generate test data and test algorithm"
   ]
  },
  {
   "cell_type": "code",
   "execution_count": 6,
   "metadata": {},
   "outputs": [
    {
     "name": "stdout",
     "output_type": "stream",
     "text": [
      "Before sorting: [0, 1, 2, 3, 4, 5, 6, 7, 8, 9]\n",
      "After  sorting: [0, 1, 2, 3, 4, 5, 6, 7, 8, 9]\n",
      "Sorting correct? - True\n"
     ]
    }
   ],
   "source": [
    "# test sorting sorted array\n",
    "sorted_array = list(range(ARRAY_SIZE))\n",
    "print(TEXT_BEFORE_SORTING, sorted_array)\n",
    "a = heapsort(sorted_array)\n",
    "print(TEXT_AFTER_SORTING, a)\n",
    "print(TEXT_CHECK_SORTING, check_sorting(a))"
   ]
  },
  {
   "cell_type": "code",
   "execution_count": 7,
   "metadata": {},
   "outputs": [
    {
     "name": "stdout",
     "output_type": "stream",
     "text": [
      "Before sorting: [9, 8, 7, 6, 5, 4, 3, 2, 1, 0]\n",
      "After  sorting: [0, 1, 2, 3, 4, 5, 6, 7, 8, 9]\n",
      "Sorting correct? - True\n"
     ]
    }
   ],
   "source": [
    "# test sorting reversly sorted array\n",
    "reverse_sorted_array = list(range(ARRAY_SIZE-1, -1, -1))\n",
    "print(TEXT_BEFORE_SORTING, reverse_sorted_array)\n",
    "a = heapsort(reverse_sorted_array)\n",
    "print(TEXT_AFTER_SORTING, a)\n",
    "print(TEXT_CHECK_SORTING, check_sorting(a))"
   ]
  },
  {
   "cell_type": "code",
   "execution_count": 8,
   "metadata": {},
   "outputs": [
    {
     "name": "stdout",
     "output_type": "stream",
     "text": [
      "Before sorting: [2, 8, 4, 9, 1, 6, 7, 3, 0, 5]\n",
      "After  sorting: [0, 1, 2, 3, 4, 5, 6, 7, 8, 9]\n",
      "Sorting correct? - True\n"
     ]
    }
   ],
   "source": [
    "# test sorting random array\n",
    "# use numpy for generating a permutation\n",
    "import numpy\n",
    "# initialialize random number generator to obtain reproducable results\n",
    "# other values might be used or even no initialization done here\n",
    "numpy.random.seed(0)\n",
    "# now generate random data and test sorting\n",
    "array = list(numpy.random.permutation(ARRAY_SIZE))\n",
    "print(TEXT_BEFORE_SORTING, array)\n",
    "a = heapsort(array)\n",
    "print(TEXT_AFTER_SORTING, a)\n",
    "print(TEXT_CHECK_SORTING, check_sorting(a))"
   ]
  },
  {
   "cell_type": "markdown",
   "metadata": {},
   "source": [
    "### Your tests here ..."
   ]
  },
  {
   "cell_type": "code",
   "execution_count": 9,
   "metadata": {},
   "outputs": [
    {
     "name": "stdout",
     "output_type": "stream",
     "text": [
      "Before sorting: [1, 3, 2]\n",
      "After  sorting: [1, 2, 3]\n",
      "Sorting correct? - True\n"
     ]
    }
   ],
   "source": [
    "array = [1,3,2]\n",
    "print(TEXT_BEFORE_SORTING, array)\n",
    "a = heapsort(array)\n",
    "print(TEXT_AFTER_SORTING, a)\n",
    "print(TEXT_CHECK_SORTING, check_sorting(a))"
   ]
  },
  {
   "cell_type": "code",
   "execution_count": 10,
   "metadata": {},
   "outputs": [],
   "source": [
    "# ... and here ..."
   ]
  }
 ],
 "metadata": {
  "kernelspec": {
   "display_name": "Python 3",
   "language": "python",
   "name": "python3"
  },
  "language_info": {
   "codemirror_mode": {
    "name": "ipython",
    "version": 3
   },
   "file_extension": ".py",
   "mimetype": "text/x-python",
   "name": "python",
   "nbconvert_exporter": "python",
   "pygments_lexer": "ipython3",
   "version": "3.8.5"
  }
 },
 "nbformat": 4,
 "nbformat_minor": 4
}
