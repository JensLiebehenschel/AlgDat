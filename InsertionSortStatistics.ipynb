{
 "cells": [
  {
   "cell_type": "markdown",
   "metadata": {},
   "source": [
    "#### Author: Jens Liebehenschel (2021)\n",
    "#### Frankfurt University of Applied Sciences, FB2, Computer Science\n",
    "#### For educational purposes only and not necessarily very pythonic\n",
    "## Sorting an array using insertion sort and output of some statistics\n",
    "#### Based on Cormen et. al.: Introduction to Algorithms\n",
    "## For execution of complete code click on \"Kernel\", then on \"Restart & Run All\""
   ]
  },
  {
   "cell_type": "code",
   "execution_count": 1,
   "metadata": {},
   "outputs": [],
   "source": [
    "# this code contains counters for outputting statistics\n",
    "# the counters are incremented after the action to be counted happened\n",
    "def insertion_sort(a, outputStats=True):\n",
    "    # initialization of counters\n",
    "    condCheckForLoop = 0\n",
    "    execForLoop = 0\n",
    "    condCheckWhileLoop = 0\n",
    "    execWhileLoop = 0\n",
    "    assignmentKey = 0\n",
    "    # sorting begins here\n",
    "    for j in range(1, len(a)):\n",
    "        # at beginning of every iteration the array consists of two parts\n",
    "        # sorted part: a[0:j]\n",
    "        # not yet sorted: a[j:len(a)]\n",
    "        condCheckForLoop += 1\n",
    "        execForLoop += 1\n",
    "        key = a[j]\n",
    "        assignmentKey += 1\n",
    "        i = j-1\n",
    "        # insert key = a[j] into the right position in sorted part\n",
    "        while i >= 0 and a[i] > key:\n",
    "            condCheckWhileLoop += 1\n",
    "            execWhileLoop += 1\n",
    "            a[i+1] = a[i]\n",
    "            assignmentKey += 1\n",
    "            i = i-1\n",
    "        condCheckWhileLoop += 1\n",
    "        a[i+1] = key\n",
    "        assignmentKey += 1\n",
    "    condCheckForLoop += 1\n",
    "    if outputStats:\n",
    "        # output of counters, \"# ...\" means \"number of ...\"\n",
    "        print(TEXT_SPACING, \"# elements in array =\", len(a))\n",
    "        print(TEXT_SPACING, \"# condition checks for-loop =\", condCheckForLoop)\n",
    "        print(TEXT_SPACING, \"# executions for-loop =\", execForLoop)\n",
    "        print(TEXT_SPACING, \"# condition checks while-loop =\", condCheckWhileLoop)\n",
    "        print(TEXT_SPACING, \"# executions while-loop =\", execWhileLoop)\n",
    "        print(TEXT_SPACING, \"# key assignments =\", assignmentKey)\n",
    "    return a, condCheckForLoop, execForLoop, condCheckWhileLoop, execWhileLoop, assignmentKey\n"
   ]
  },
  {
   "cell_type": "markdown",
   "metadata": {},
   "source": [
    "## Constants"
   ]
  },
  {
   "cell_type": "code",
   "execution_count": 2,
   "metadata": {},
   "outputs": [],
   "source": [
    "# The size of elements in tests can be changed here\n",
    "ARRAY_SIZE = 10\n",
    "# Some output text\n",
    "TEXT_BEFORE_SORTING = \"Before sorting:\"\n",
    "TEXT_AFTER_SORTING = \"After  sorting:\"\n",
    "TEXT_SPACING = \" \"*len(TEXT_BEFORE_SORTING)"
   ]
  },
  {
   "cell_type": "markdown",
   "metadata": {},
   "source": [
    "## Generate test data and test sorting algorithm"
   ]
  },
  {
   "cell_type": "code",
   "execution_count": 3,
   "metadata": {},
   "outputs": [
    {
     "name": "stdout",
     "output_type": "stream",
     "text": [
      "Before sorting: [0, 1, 2, 3, 4, 5, 6, 7, 8, 9]\n",
      "                # elements in array = 10\n",
      "                # condition checks for-loop = 10\n",
      "                # executions for-loop = 9\n",
      "                # condition checks while-loop = 9\n",
      "                # executions while-loop = 0\n",
      "                # key assignments = 18\n",
      "After  sorting: [0, 1, 2, 3, 4, 5, 6, 7, 8, 9]\n"
     ]
    }
   ],
   "source": [
    "# test sorting sorted array\n",
    "sorted_array = list(range(ARRAY_SIZE))\n",
    "print(TEXT_BEFORE_SORTING, sorted_array)\n",
    "print(TEXT_AFTER_SORTING, insertion_sort(sorted_array)[0])"
   ]
  },
  {
   "cell_type": "code",
   "execution_count": 4,
   "metadata": {},
   "outputs": [
    {
     "name": "stdout",
     "output_type": "stream",
     "text": [
      "Before sorting: [9, 8, 7, 6, 5, 4, 3, 2, 1, 0]\n",
      "                # elements in array = 10\n",
      "                # condition checks for-loop = 10\n",
      "                # executions for-loop = 9\n",
      "                # condition checks while-loop = 54\n",
      "                # executions while-loop = 45\n",
      "                # key assignments = 63\n",
      "After  sorting: [0, 1, 2, 3, 4, 5, 6, 7, 8, 9]\n"
     ]
    }
   ],
   "source": [
    "# test sorting reversly sorted array\n",
    "reverse_sorted_array = list(range(ARRAY_SIZE-1, -1, -1))\n",
    "print(TEXT_BEFORE_SORTING, reverse_sorted_array)\n",
    "print(TEXT_AFTER_SORTING, insertion_sort(reverse_sorted_array)[0])"
   ]
  },
  {
   "cell_type": "code",
   "execution_count": 5,
   "metadata": {},
   "outputs": [
    {
     "name": "stdout",
     "output_type": "stream",
     "text": [
      "Before sorting: [2, 8, 4, 9, 1, 6, 7, 3, 0, 5]\n",
      "                # elements in array = 10\n",
      "                # condition checks for-loop = 10\n",
      "                # executions for-loop = 9\n",
      "                # condition checks while-loop = 35\n",
      "                # executions while-loop = 26\n",
      "                # key assignments = 44\n",
      "After  sorting: [0, 1, 2, 3, 4, 5, 6, 7, 8, 9]\n"
     ]
    }
   ],
   "source": [
    "# test sorting random array\n",
    "# use numpy for generating a permutation\n",
    "import numpy\n",
    "# initialialize random number generator to obtain reproducable results\n",
    "# other values might be used or even no initialization done here\n",
    "numpy.random.seed(0)\n",
    "# now generate random data and test sorting\n",
    "array = list(numpy.random.permutation(ARRAY_SIZE))\n",
    "print(TEXT_BEFORE_SORTING, array)\n",
    "print(TEXT_AFTER_SORTING, insertion_sort(array)[0])"
   ]
  },
  {
   "cell_type": "code",
   "execution_count": 6,
   "metadata": {},
   "outputs": [
    {
     "name": "stdout",
     "output_type": "stream",
     "text": [
      "Before sorting: [1, 3, 2]\n",
      "                # elements in array = 3\n",
      "                # condition checks for-loop = 3\n",
      "                # executions for-loop = 2\n",
      "                # condition checks while-loop = 3\n",
      "                # executions while-loop = 1\n",
      "                # key assignments = 5\n",
      "After  sorting: [1, 2, 3]\n"
     ]
    }
   ],
   "source": [
    "# your test here ...\n",
    "array = [1,3,2]\n",
    "print(TEXT_BEFORE_SORTING, array)\n",
    "print(TEXT_AFTER_SORTING, insertion_sort(array)[0])"
   ]
  },
  {
   "cell_type": "code",
   "execution_count": 7,
   "metadata": {},
   "outputs": [],
   "source": [
    "# ... and here ...\n"
   ]
  },
  {
   "cell_type": "markdown",
   "metadata": {},
   "source": [
    "## Output of statistics to understand the behavior of insertion sort"
   ]
  },
  {
   "cell_type": "code",
   "execution_count": 8,
   "metadata": {},
   "outputs": [],
   "source": [
    "# for visualization we make use of pyplot\n",
    "import matplotlib.pyplot as plt"
   ]
  },
  {
   "cell_type": "markdown",
   "metadata": {},
   "source": [
    "## Constants"
   ]
  },
  {
   "cell_type": "code",
   "execution_count": 9,
   "metadata": {},
   "outputs": [],
   "source": [
    "# The size of the arrays in tests can be changed here\n",
    "MIN_ARRAY_SIZE = 1\n",
    "MAX_ARRAY_SIZE = 10"
   ]
  },
  {
   "cell_type": "markdown",
   "metadata": {},
   "source": [
    "## Tests"
   ]
  },
  {
   "cell_type": "code",
   "execution_count": 10,
   "metadata": {},
   "outputs": [
    {
     "data": {
      "image/png": "[encoded data removed]",
      "text/plain": [
       "<Figure size 432x288 with 1 Axes>"
      ]
     },
     "metadata": {
      "needs_background": "light"
     },
     "output_type": "display_data"
    }
   ],
   "source": [
    "# test sorting sorted arrays\n",
    "results = []\n",
    "for i in range(MIN_ARRAY_SIZE, MAX_ARRAY_SIZE+1):\n",
    "    sorted_array = list(range(i))\n",
    "    results.append(insertion_sort(sorted_array, outputStats=False))\n",
    "# create plot of number of elements and number of checks of conditions while-loop\n",
    "plt.plot([len(r[0]) for r in results],[r[3] for r in results], \"o-\")\n",
    "plt.xticks(range(MIN_ARRAY_SIZE, MAX_ARRAY_SIZE+1))\n",
    "plt.grid(True)\n",
    "plt.show()"
   ]
  },
  {
   "cell_type": "code",
   "execution_count": 11,
   "metadata": {},
   "outputs": [
    {
     "data": {
      "image/png": "[encoded data removed]",
      "text/plain": [
       "<Figure size 432x288 with 1 Axes>"
      ]
     },
     "metadata": {
      "needs_background": "light"
     },
     "output_type": "display_data"
    }
   ],
   "source": [
    "# test sorting reversly sorted arrays\n",
    "results = []\n",
    "for i in range(MIN_ARRAY_SIZE, MAX_ARRAY_SIZE+1):\n",
    "    reverse_sorted_array = list(range(i-1, -1, -1))\n",
    "    results.append(insertion_sort(reverse_sorted_array, outputStats=False))\n",
    "# create plot of number of elements and number of checks of conditions while-loop\n",
    "plt.plot([len(r[0]) for r in results],[r[3] for r in results], \"o-\")\n",
    "plt.xticks(range(MIN_ARRAY_SIZE, MAX_ARRAY_SIZE+1))\n",
    "plt.grid(True)\n",
    "plt.show()"
   ]
  }
 ],
 "metadata": {
  "kernelspec": {
   "display_name": "Python 3",
   "language": "python",
   "name": "python3"
  },
  "language_info": {
   "codemirror_mode": {
    "name": "ipython",
    "version": 3
   },
   "file_extension": ".py",
   "mimetype": "text/x-python",
   "name": "python",
   "nbconvert_exporter": "python",
   "pygments_lexer": "ipython3",
   "version": "3.8.5"
  }
 },
 "nbformat": 4,
 "nbformat_minor": 4
}
