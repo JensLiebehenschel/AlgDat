{
 "cells": [
  {
   "cell_type": "markdown",
   "metadata": {},
   "source": [
    "### Copyright 2024 Jens Liebehenschel, Frankfurt University of Applied Sciences, FB2, Computer Science\n",
    "### No liability or warranty; only for educational and non-commercial purposes\n",
    "### See some basic hints for working with Jupyter notebooks in README.md\n",
    "## Tower of Hanoi - output of every movement of a disk"
   ]
  },
  {
   "cell_type": "markdown",
   "metadata": {},
   "source": [
    "### Move n disks from f to t using u and output every step\n",
    "### f, t, u are the names of the stacks and must be strings"
   ]
  },
  {
   "cell_type": "code",
   "execution_count": 1,
   "metadata": {},
   "outputs": [],
   "source": [
    "def tower_of_hanoi(n, f, t, u):\n",
    "    if n > 0:\n",
    "        tower_of_hanoi(n-1, f, u, t)\n",
    "        print(\"move disk from \" + f + \" to \" + t)\n",
    "        tower_of_hanoi(n-1, u, t, f)"
   ]
  },
  {
   "cell_type": "markdown",
   "metadata": {},
   "source": [
    "### Test version with simple output"
   ]
  },
  {
   "cell_type": "code",
   "execution_count": 2,
   "metadata": {
    "scrolled": false
   },
   "outputs": [
    {
     "name": "stdout",
     "output_type": "stream",
     "text": [
      "Tower of Hanoi for 0 disk(s)\n",
      "\n",
      "Tower of Hanoi for 1 disk(s)\n",
      "move disk from A to B\n",
      "\n",
      "Tower of Hanoi for 2 disk(s)\n",
      "move disk from A to C\n",
      "move disk from A to B\n",
      "move disk from C to B\n",
      "\n",
      "Tower of Hanoi for 3 disk(s)\n",
      "move disk from A to B\n",
      "move disk from A to C\n",
      "move disk from B to C\n",
      "move disk from A to B\n",
      "move disk from C to A\n",
      "move disk from C to B\n",
      "move disk from A to B\n",
      "\n"
     ]
    }
   ],
   "source": [
    "for i in range(4):\n",
    "    print(\"Tower of Hanoi for\", i, \"disk(s)\")\n",
    "    tower_of_hanoi(i, \"A\", \"B\", \"C\")\n",
    "    print()"
   ]
  },
  {
   "cell_type": "markdown",
   "metadata": {},
   "source": [
    "### Your tests here ..."
   ]
  },
  {
   "cell_type": "code",
   "execution_count": null,
   "metadata": {},
   "outputs": [],
   "source": []
  }
 ],
 "metadata": {
  "kernelspec": {
   "display_name": "Python 3",
   "language": "python",
   "name": "python3"
  },
  "language_info": {
   "codemirror_mode": {
    "name": "ipython",
    "version": 3
   },
   "file_extension": ".py",
   "mimetype": "text/x-python",
   "name": "python",
   "nbconvert_exporter": "python",
   "pygments_lexer": "ipython3",
   "version": "3.8.5"
  }
 },
 "nbformat": 4,
 "nbformat_minor": 4
}
