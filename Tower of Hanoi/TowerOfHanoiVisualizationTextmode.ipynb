{
 "cells": [
  {
   "cell_type": "markdown",
   "metadata": {},
   "source": [
    "### Copyright 2024 Jens Liebehenschel, Frankfurt University of Applied Sciences, FB2, Computer Science\n",
    "### No liability or warranty; only for educational and non-commercial purposes\n",
    "### See some basic hints for working with Jupyter notebooks in README.md\n",
    "## Tower of Hanoi - textual visualization"
   ]
  },
  {
   "cell_type": "markdown",
   "metadata": {},
   "source": [
    "### Note: The textual output is only nice for up to 9 disks"
   ]
  },
  {
   "cell_type": "code",
   "execution_count": 1,
   "metadata": {},
   "outputs": [],
   "source": [
    "# As the stacks move their positions, we need some identification for the output \n",
    "STACK1 = \"A\"\n",
    "STACK2 = \"B\"\n",
    "STACK3 = \"C\""
   ]
  },
  {
   "cell_type": "code",
   "execution_count": 2,
   "metadata": {},
   "outputs": [],
   "source": [
    "def get(stack, x, y, z):\n",
    "    for l in [x, y, z]:\n",
    "        if stack == l[0]:\n",
    "            return l"
   ]
  },
  {
   "cell_type": "code",
   "execution_count": 3,
   "metadata": {},
   "outputs": [],
   "source": [
    "def output(x, y, z):\n",
    "    a = get(STACK1, x, y, z)\n",
    "    b = get(STACK2, x, y, z)\n",
    "    c = get(STACK3, x, y, z)\n",
    "    height = max(len(a),len(b),len(c)) - 1\n",
    "    for i in range(height, 0, -1):\n",
    "        print(\" %s %s %s\" % tuple(str(l[i]) if i < len(l) else \" \" for l in [a,b,c]))\n",
    "    print(\"-^-^-^-\\n\")"
   ]
  },
  {
   "cell_type": "code",
   "execution_count": 4,
   "metadata": {},
   "outputs": [],
   "source": [
    "def tower_of_hanoi(i, f, t, u):\n",
    "    if i > 0:\n",
    "        tower_of_hanoi(i-1, f, u, t)\n",
    "        t.append(f.pop())\n",
    "        output(f, t, u)\n",
    "        tower_of_hanoi(i-1, u, t, f)"
   ]
  },
  {
   "cell_type": "markdown",
   "metadata": {},
   "source": [
    "### Test version with textual output of the stacks"
   ]
  },
  {
   "cell_type": "code",
   "execution_count": 5,
   "metadata": {},
   "outputs": [],
   "source": [
    "def test_tower_of_hanoi(i):\n",
    "    # initialization of the stacks\n",
    "    a = [STACK1] + [i-j for j in range(i)]\n",
    "    b = [STACK2]\n",
    "    c = [STACK3]\n",
    "    print(\"Tower of Hanoi for\", i, \"disks\")\n",
    "    # here we go\n",
    "    output(a, b, c)\n",
    "    tower_of_hanoi(i, a, b, c)"
   ]
  },
  {
   "cell_type": "code",
   "execution_count": 6,
   "metadata": {},
   "outputs": [
    {
     "name": "stdout",
     "output_type": "stream",
     "text": [
      "Tower of Hanoi for 0 disks\n",
      "-^-^-^-\n",
      "\n",
      "\n",
      "Tower of Hanoi for 1 disks\n",
      " 1    \n",
      "-^-^-^-\n",
      "\n",
      "   1  \n",
      "-^-^-^-\n",
      "\n",
      "\n",
      "Tower of Hanoi for 2 disks\n",
      " 1    \n",
      " 2    \n",
      "-^-^-^-\n",
      "\n",
      " 2   1\n",
      "-^-^-^-\n",
      "\n",
      "   2 1\n",
      "-^-^-^-\n",
      "\n",
      "   1  \n",
      "   2  \n",
      "-^-^-^-\n",
      "\n",
      "\n",
      "Tower of Hanoi for 3 disks\n",
      " 1    \n",
      " 2    \n",
      " 3    \n",
      "-^-^-^-\n",
      "\n",
      " 2    \n",
      " 3 1  \n",
      "-^-^-^-\n",
      "\n",
      " 3 1 2\n",
      "-^-^-^-\n",
      "\n",
      "     1\n",
      " 3   2\n",
      "-^-^-^-\n",
      "\n",
      "     1\n",
      "   3 2\n",
      "-^-^-^-\n",
      "\n",
      " 1 3 2\n",
      "-^-^-^-\n",
      "\n",
      "   2  \n",
      " 1 3  \n",
      "-^-^-^-\n",
      "\n",
      "   1  \n",
      "   2  \n",
      "   3  \n",
      "-^-^-^-\n",
      "\n",
      "\n"
     ]
    }
   ],
   "source": [
    "for i in range (4):\n",
    "    test_tower_of_hanoi(i)\n",
    "    print()"
   ]
  },
  {
   "cell_type": "markdown",
   "metadata": {},
   "source": [
    "### Your tests here ..."
   ]
  },
  {
   "cell_type": "code",
   "execution_count": null,
   "metadata": {},
   "outputs": [],
   "source": []
  }
 ],
 "metadata": {
  "kernelspec": {
   "display_name": "Python 3",
   "language": "python",
   "name": "python3"
  },
  "language_info": {
   "codemirror_mode": {
    "name": "ipython",
    "version": 3
   },
   "file_extension": ".py",
   "mimetype": "text/x-python",
   "name": "python",
   "nbconvert_exporter": "python",
   "pygments_lexer": "ipython3",
   "version": "3.8.5"
  }
 },
 "nbformat": 4,
 "nbformat_minor": 4
}
