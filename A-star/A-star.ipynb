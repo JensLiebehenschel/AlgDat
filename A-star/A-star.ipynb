{
 "cells": [
  {
   "cell_type": "markdown",
   "metadata": {},
   "source": [
    "### Copyright 2024 Jens Liebehenschel, Frankfurt University of Applied Sciences, FB2, Computer Science\n",
    "### No liability or warranty; only for educational and non-commercial purposes\n",
    "### See some basic hints for working with Jupyter notebooks in README.md\n",
    "## A* algorithm for finding a path between two nodes of a graph"
   ]
  },
  {
   "cell_type": "markdown",
   "metadata": {},
   "source": [
    "### Important remarks before we begin\n",
    "#### In many educational resources A* works on graphs that are based on grid-like graphs. Here is a generic algorithm that is able to work with \"any\" kind of graph, also the grid-like graphs. They need to be provided as any other graph as adjacency matrix.\n",
    "#### There are several potential pitfalls when defining the graphs, e.g. the used node numbers do not fit to the number of rows and columns of the grid-like graphs. This is not tested here, in case of errors, the program will crash (hopefully in any such case)."
   ]
  },
  {
   "cell_type": "markdown",
   "metadata": {},
   "source": [
    "## Import math module for using infinity and define a constant x for making input of graphs as adjacency matrix more readable"
   ]
  },
  {
   "cell_type": "code",
   "execution_count": 1,
   "metadata": {},
   "outputs": [],
   "source": [
    "import math\n",
    "inf = math.inf\n",
    "x = -inf # no path from ... to ... in adjacency matrix"
   ]
  },
  {
   "cell_type": "markdown",
   "metadata": {},
   "source": [
    "## Graph and heuristic distance as n x n adjacency matrices"
   ]
  },
  {
   "cell_type": "code",
   "execution_count": 2,
   "metadata": {},
   "outputs": [],
   "source": [
    "# graph as adjacency matrix\n",
    "# the algorithm works with node numbers starting at 0, certainly then can be assigned to names like S, T, ...\n",
    "#     0  1  2  3  4  5  6  7\n",
    "#     S  T  U  V  W  X  Y  Z\n",
    "g = [[0, 4, 7, 5, 3, 6, x, x], # node S\n",
    "     [x, 0, x, 4, x, 3, 2, x], # node T\n",
    "     [x, x, 0, x, 1, x, x, 2], # node U\n",
    "     [x, x, 1, 0, 2, x, 1, x], # node V\n",
    "     [x, x, x, x, 0, x, 1, 4], # node W\n",
    "     [x, x, x, x, x, 0, 1, x], # node X\n",
    "     [x, x, x, x, x, x, 0, 2], # node Y\n",
    "     [3, x, x, x, x, 1, x, 0]  # node Z\n",
    "     ]"
   ]
  },
  {
   "cell_type": "code",
   "execution_count": 3,
   "metadata": {},
   "outputs": [],
   "source": [
    "# n x n adjacency matrix\n",
    "n = len(g)"
   ]
  },
  {
   "cell_type": "code",
   "execution_count": 4,
   "metadata": {},
   "outputs": [],
   "source": [
    "# optimal path lengths in g, calculated by Floyd-Warshall algorithm, necessary for heuristics\n",
    "opt = [[0, 4, 6, 5, 3, 6, 4, 6],\n",
    "       [7, 0, 5, 4, 6, 3, 2, 4],\n",
    "       [5, 9, 0,10, 1, 3, 2, 2],\n",
    "       [6,10, 1, 0, 2, 4, 1, 3],\n",
    "       [6,10,12,11, 0, 4, 1, 3],\n",
    "       [6,10,12,11, 9, 0, 1, 3],\n",
    "       [5, 9,11,10, 8, 3, 0, 2],\n",
    "       [3, 7, 9, 8, 6, 1, 2, 0]\n",
    "      ]"
   ]
  },
  {
   "cell_type": "code",
   "execution_count": 5,
   "metadata": {},
   "outputs": [],
   "source": [
    "# easy to generate heuristics for graph g, also as an adjacency matrix\n",
    "# just make one smaller than the optimal solution for all paths with higeher cost than 1\n",
    "h = [x[:] for x in opt] # deepcopy of matrix opt\n",
    "# now modify values\n",
    "for i in range(n):\n",
    "    for j in range(n):\n",
    "        if h[i][j] > 1:\n",
    "            h[i][j] -= 1"
   ]
  },
  {
   "cell_type": "markdown",
   "metadata": {},
   "source": [
    "## Supporting function for priority queue"
   ]
  },
  {
   "cell_type": "code",
   "execution_count": 6,
   "metadata": {},
   "outputs": [],
   "source": [
    "# implementation as list is not efficient, but easy to understand and simple to implement, good enough here\n",
    "# much better in practice: priority queue using a heap\n",
    "def extract_min(q):\n",
    "    min_index = 0\n",
    "    for i in range(1, len(q)):\n",
    "        if heur[q[i]] < heur[q[min_index]]:\n",
    "            min_index = i\n",
    "    min_index = q.pop(min_index)\n",
    "    return min_index"
   ]
  },
  {
   "cell_type": "markdown",
   "metadata": {},
   "source": [
    "## Variables used be A* algorithm"
   ]
  },
  {
   "cell_type": "code",
   "execution_count": 7,
   "metadata": {},
   "outputs": [],
   "source": [
    "# predecessor of discovered node\n",
    "pred = []\n",
    "# cost to starting node s\n",
    "cost = []\n",
    "# heuristics to destination node d\n",
    "heur = []\n",
    "# set of finished nodes\n",
    "f = []\n",
    "# Queue\n",
    "q = []"
   ]
  },
  {
   "cell_type": "markdown",
   "metadata": {},
   "source": [
    "## A* algorithm"
   ]
  },
  {
   "cell_type": "code",
   "execution_count": 8,
   "metadata": {},
   "outputs": [],
   "source": [
    "def initialization(s, d):\n",
    "    global pred, cost, heur, f, q\n",
    "    # predecessor of discovered node\n",
    "    pred = [-1]*n\n",
    "    # cost to starting node s\n",
    "    cost = [inf]*n\n",
    "    cost[s] = 0\n",
    "    # cost to destination node d\n",
    "    heur = [inf]*n\n",
    "    heur[s] = 0\n",
    "    # set of finished nodes, none at beginning\n",
    "    f = []\n",
    "    # queue with all node at beginning\n",
    "    q = [i for i in range(n)]"
   ]
  },
  {
   "cell_type": "code",
   "execution_count": 9,
   "metadata": {},
   "outputs": [],
   "source": [
    "def relax(u, v, d):\n",
    "    if cost[v] > cost[u] + g[u][v]:\n",
    "        cost[v] = cost[u] + g[u][v]\n",
    "        heur[v] = cost[v] + h[v][d]\n",
    "        pred[v] = u"
   ]
  },
  {
   "cell_type": "code",
   "execution_count": 10,
   "metadata": {},
   "outputs": [],
   "source": [
    "# construct the path from node u to node v (starting at the destination v, moving towards u)\n",
    "def get_path(u, v):\n",
    "    if pred[v] == -1:\n",
    "        return []\n",
    "    # start from last node\n",
    "    path = [v]\n",
    "    while u != v:\n",
    "        v = pred[v]\n",
    "        path.insert(0,v)\n",
    "    return path"
   ]
  },
  {
   "cell_type": "code",
   "execution_count": 11,
   "metadata": {},
   "outputs": [],
   "source": [
    "def a_star(s, d):\n",
    "    initialization(s,d)\n",
    "    while len(q) > 0:\n",
    "        u = extract_min(q)\n",
    "        if u == d:\n",
    "            return cost[d]\n",
    "        else:\n",
    "            f.append(u)\n",
    "            for v in range(n):\n",
    "                if g[u][v] > 0:\n",
    "                    relax(u,v,d)"
   ]
  },
  {
   "cell_type": "markdown",
   "metadata": {},
   "source": [
    "## Test correctness of algorithm be determination of all distances and compare with optimal solution calculated by Floyd-Warshall algorithm"
   ]
  },
  {
   "cell_type": "code",
   "execution_count": 12,
   "metadata": {},
   "outputs": [
    {
     "name": "stdout",
     "output_type": "stream",
     "text": [
      "Results ok? -> True\n"
     ]
    }
   ],
   "source": [
    "# empty matrix for storing the paths with lowest cost\n",
    "result = [[-1]*n for _ in range(n)]\n",
    "\n",
    "for i in range(n):\n",
    "    for j in range(n):\n",
    "        result[i][j] = a_star(i,j)\n",
    "        #print(get_path(i,j))\n",
    "print (\"Results ok? ->\", opt == result)"
   ]
  },
  {
   "cell_type": "markdown",
   "metadata": {},
   "source": [
    "## Generate test data as grid like graphs and test algorithm"
   ]
  },
  {
   "cell_type": "markdown",
   "metadata": {},
   "source": [
    "## First test: First graph in A-starVisualization.ipynb as of 20.04.2024 (section \"Example\")"
   ]
  },
  {
   "cell_type": "markdown",
   "metadata": {},
   "source": [
    "### Generate the graph"
   ]
  },
  {
   "cell_type": "code",
   "execution_count": 13,
   "metadata": {},
   "outputs": [],
   "source": [
    "# notation\n",
    "# this is an undirected graph\n",
    "# 7x7 Matrix with node numbers below, 49 nodes in total\n",
    "# [ 0 ...  6]\n",
    "# [ 7 ... 13]\n",
    "# [14 ... 20]\n",
    "# [21 ... 27]\n",
    "# [28 ... 34]\n",
    "# [35 ... 41]\n",
    "# [42 ... 48]"
   ]
  },
  {
   "cell_type": "code",
   "execution_count": 14,
   "metadata": {},
   "outputs": [],
   "source": [
    "# dimensions of grid-based graph\n",
    "m = 7   # square matrix with m cells per row and column\n",
    "n = m*m # number of nodes in graph"
   ]
  },
  {
   "cell_type": "code",
   "execution_count": 15,
   "metadata": {},
   "outputs": [],
   "source": [
    "# supporting functions for better understandability of the code\n",
    "# m is the number of rows of the graph!\n",
    "def get_row(node_nr):\n",
    "    return node_nr // m\n",
    "def get_col(node_nr):\n",
    "    return node_nr % m\n",
    "def get_node_nr(row, col):\n",
    "    return m * row + col"
   ]
  },
  {
   "cell_type": "code",
   "execution_count": 16,
   "metadata": {},
   "outputs": [],
   "source": [
    "# step 1: initialize empty graph (no connection between nodes)\n",
    "g = [[inf]*n for _ in range(n)]"
   ]
  },
  {
   "cell_type": "code",
   "execution_count": 17,
   "metadata": {},
   "outputs": [],
   "source": [
    "# step 2: add horizontal and vertical connections, the cost is always identical\n",
    "unit_cost = 1\n",
    "def add_all_connections():\n",
    "    for i in range(m):\n",
    "        for j in range(m):\n",
    "            # horizontal, except for last column (since there is no \"next\" column)\n",
    "            if j < m-1:\n",
    "                g[get_node_nr(i,j)][get_node_nr(i,j+1)] = unit_cost\n",
    "                g[get_node_nr(i,j+1)][get_node_nr(i,j)] = unit_cost\n",
    "            # vertical, except for last row (since there is no \"next\" row)\n",
    "            if i < m-1:\n",
    "                g[get_node_nr(i,j)][get_node_nr(i+1,j)] = unit_cost\n",
    "                g[get_node_nr(i+1,j)][get_node_nr(i,j)] = unit_cost\n",
    "add_all_connections()"
   ]
  },
  {
   "cell_type": "code",
   "execution_count": 18,
   "metadata": {},
   "outputs": [],
   "source": [
    "# nodes -- are not existing in the graph and need to be removed now\n",
    "# [ 0  1  2  3  4  5  6]\n",
    "# [ 7  8  9 10 -- 12 13]\n",
    "# [14 15 16 -- 18 19 20]\n",
    "# [ s 22 23 -- 25 26 27]\n",
    "# [28 29 30 -- 32 33  d]\n",
    "# [35 36 37 38 39 -- 41]\n",
    "# [-- -- -- -- 46 47 48]"
   ]
  },
  {
   "cell_type": "code",
   "execution_count": 19,
   "metadata": {},
   "outputs": [],
   "source": [
    "# step 3: remove added connections from and to non-existing nodes\n",
    "def remove_nodes(nodes_to_be_removed):\n",
    "    for node in nodes_to_be_removed:\n",
    "        # remove the connections from and to this node\n",
    "        # iterate over four neighbor cells\n",
    "        # set initial inf value, if the neighbor exists in the graph (matrix)\n",
    "        for i in [-1, 1]: # first up and down (row) ...\n",
    "            if get_row(node)+i >= 0 and get_row(node)+i < m:\n",
    "                g[node][get_node_nr(get_row(node)+i,get_col(node))] = inf\n",
    "                g[get_node_nr(get_row(node)+i,get_col(node))][node] = inf\n",
    "        for j in [-1, 1]: # ... then left and right (column)\n",
    "            if get_col(node)+j >= 0 and get_col(node)+j < m:\n",
    "                g[node][get_node_nr(get_row(node),get_col(node)+j)] = inf\n",
    "                g[get_node_nr(get_row(node),get_col(node)+j)][node] = inf\n",
    "remove_nodes([11, 17, 24, 31, 40, 42, 43, 44, 45])"
   ]
  },
  {
   "cell_type": "code",
   "execution_count": 20,
   "metadata": {},
   "outputs": [],
   "source": [
    "# step 4: 0's on diagonal, i. e. no cost to get to the node itself\n",
    "def set_diag_to_0():\n",
    "    for i in range(n):\n",
    "        g[i][i] = 0\n",
    "set_diag_to_0()"
   ]
  },
  {
   "cell_type": "code",
   "execution_count": 21,
   "metadata": {},
   "outputs": [],
   "source": [
    "# initialize heuristics matrix\n",
    "# instead of the euclidian distance we use the number of nodes in a grid without missing nodes\n",
    "h = [[inf]*n for _ in range(n)]\n",
    "for i in range(n):\n",
    "    for j in range(n):\n",
    "        h[i][j] = abs(get_row(i)-get_row(j)) + abs(get_col(i)-get_col(j))"
   ]
  },
  {
   "cell_type": "code",
   "execution_count": 22,
   "metadata": {},
   "outputs": [],
   "source": [
    "# set start s and destination node d\n",
    "s = 21\n",
    "d = 34"
   ]
  },
  {
   "cell_type": "code",
   "execution_count": 23,
   "metadata": {},
   "outputs": [
    {
     "name": "stdout",
     "output_type": "stream",
     "text": [
      "cost: 9\n",
      "Note: start s and destination d are first and last elements in the lists\n",
      "[21, 22, 23, 30, 37, 38, 39, 32, 33, 34]\n",
      "[(3, 0), (3, 1), (3, 2), (4, 2), (5, 2), (5, 3), (5, 4), (4, 4), (4, 5), (4, 6)]\n"
     ]
    }
   ],
   "source": [
    "# run the A* algorithm and output cost and path\n",
    "print(\"cost:\", a_star(s,d))\n",
    "path = get_path(s,d)\n",
    "print(\"Note: start s and destination d are first and last elements in the lists\")\n",
    "print(path)\n",
    "print([(get_row(node),get_col(node)) for node in path])"
   ]
  },
  {
   "cell_type": "markdown",
   "metadata": {},
   "source": [
    "### Your tests here ..."
   ]
  },
  {
   "cell_type": "markdown",
   "metadata": {},
   "source": [
    "## Second test, based on graph size of first test, only other non-existing cells, reuse the data and perform only necessary changes, m and n are unchanged here!"
   ]
  },
  {
   "cell_type": "code",
   "execution_count": 24,
   "metadata": {},
   "outputs": [],
   "source": [
    "# nodes -- are not existing in the graph\n",
    "# [ 0  1  2  3  4  5  6]\n",
    "# [ 7 -- -- -- -- -- 13]\n",
    "# [14 15 -- 17 18 19 20]\n",
    "# [ s 22 -- 24 -- 26 27]\n",
    "# [28 29 -- 31 32 -- 34]\n",
    "# [35 36 37 --  d -- 41]\n",
    "# [42 43 44 45 -- 47 48]"
   ]
  },
  {
   "cell_type": "code",
   "execution_count": 25,
   "metadata": {},
   "outputs": [],
   "source": [
    "# reinitialize g\n",
    "# reuse g\n",
    "# only steps 2 to 4 necessary\n",
    "add_all_connections()\n",
    "remove_nodes([8, 9, 10, 11, 12, 16, 23, 25, 30, 33, 38, 40, 46])\n",
    "set_diag_to_0()"
   ]
  },
  {
   "cell_type": "code",
   "execution_count": 26,
   "metadata": {},
   "outputs": [],
   "source": [
    "# set start s and destination node d\n",
    "s = 21\n",
    "d = 39"
   ]
  },
  {
   "cell_type": "code",
   "execution_count": 27,
   "metadata": {},
   "outputs": [
    {
     "name": "stdout",
     "output_type": "stream",
     "text": [
      "cost: 18\n",
      "Note: start s and destination d are first and last elements in the lists\n",
      "[21, 14, 7, 0, 1, 2, 3, 4, 5, 6, 13, 20, 19, 18, 17, 24, 31, 32, 39]\n",
      "[(3, 0), (2, 0), (1, 0), (0, 0), (0, 1), (0, 2), (0, 3), (0, 4), (0, 5), (0, 6), (1, 6), (2, 6), (2, 5), (2, 4), (2, 3), (3, 3), (4, 3), (4, 4), (5, 4)]\n"
     ]
    }
   ],
   "source": [
    "# run the A* algorithm and output cost and path\n",
    "print(\"cost:\", a_star(s,d))\n",
    "path = get_path(s,d)\n",
    "print(\"Note: start s and destination d are first and last elements in the lists\")\n",
    "print(path)\n",
    "print([(get_row(node),get_col(node)) for node in path])"
   ]
  },
  {
   "cell_type": "markdown",
   "metadata": {},
   "source": [
    "### ... and here ..."
   ]
  },
  {
   "cell_type": "code",
   "execution_count": null,
   "metadata": {},
   "outputs": [],
   "source": []
  }
 ],
 "metadata": {
  "kernelspec": {
   "display_name": "Python 3",
   "language": "python",
   "name": "python3"
  },
  "language_info": {
   "codemirror_mode": {
    "name": "ipython",
    "version": 3
   },
   "file_extension": ".py",
   "mimetype": "text/x-python",
   "name": "python",
   "nbconvert_exporter": "python",
   "pygments_lexer": "ipython3",
   "version": "3.8.5"
  }
 },
 "nbformat": 4,
 "nbformat_minor": 4
}
