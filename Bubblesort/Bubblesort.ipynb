{
 "cells": [
  {
   "cell_type": "markdown",
   "metadata": {},
   "source": [
    "### Copyright 2021 Jens Liebehenschel, Frankfurt University of Applied Sciences, FB2, Computer Science\n",
    "### No liability or warranty; only for educational and non-commercial purposes\n",
    "### See some basic hints for working with Jupyter notebooks in README.md\n",
    "## Sorting an array using bubblesort"
   ]
  },
  {
   "cell_type": "code",
   "execution_count": 1,
   "metadata": {},
   "outputs": [],
   "source": [
    "def bubblesort(a):\n",
    "    for i in range(len(a)-1):\n",
    "        for j in range(len(a)-1,i,-1):\n",
    "            # if keys are not in correct order, swap them\n",
    "            if a[j] < a[j-1]:\n",
    "                a[j],a[j-1] = a[j-1],a[j]\n",
    "    return a"
   ]
  },
  {
   "cell_type": "code",
   "execution_count": 2,
   "metadata": {},
   "outputs": [],
   "source": [
    "def bubblesort_with_termination_condition(a):\n",
    "    for i in range(len(a)-1):\n",
    "        swapped = False\n",
    "        for j in range(len(a)-1,i,-1):\n",
    "             # if keys are not in correct order, swap them\n",
    "            if a[j] < a[j-1]:\n",
    "                a[j],a[j-1] = a[j-1],a[j]\n",
    "                swapped = True\n",
    "        # no more swaps necessary, a is sorted\n",
    "        if not swapped:\n",
    "            break\n",
    "    return a"
   ]
  },
  {
   "cell_type": "code",
   "execution_count": 3,
   "metadata": {},
   "outputs": [],
   "source": [
    "# checks whether array is sorted correctly, this also works with identical keys in the array\n",
    "def check_sorting(a):\n",
    "    return all(a[i] <= a[i+1] for i in range(len(a)-1))"
   ]
  },
  {
   "cell_type": "markdown",
   "metadata": {},
   "source": [
    "## Constants"
   ]
  },
  {
   "cell_type": "code",
   "execution_count": 4,
   "metadata": {},
   "outputs": [],
   "source": [
    "# The size of array in tests can be changed here\n",
    "ARRAY_SIZE = 10\n",
    "# Some output text\n",
    "TEXT_BEFORE_SORTING = \"Before sorting:\"\n",
    "TEXT_AFTER_SORTING = \"After  sorting:\"\n",
    "TEXT_CHECK_SORTING = \"Sorting correct? -\""
   ]
  },
  {
   "cell_type": "markdown",
   "metadata": {},
   "source": [
    "## Generate test data and test algorithm"
   ]
  },
  {
   "cell_type": "markdown",
   "metadata": {},
   "source": [
    "### Bubblesort without termination condition"
   ]
  },
  {
   "cell_type": "code",
   "execution_count": 5,
   "metadata": {},
   "outputs": [
    {
     "name": "stdout",
     "output_type": "stream",
     "text": [
      "Before sorting: [0, 1, 2, 3, 4, 5, 6, 7, 8, 9]\n",
      "After  sorting: [0, 1, 2, 3, 4, 5, 6, 7, 8, 9]\n",
      "Sorting correct? - True\n"
     ]
    }
   ],
   "source": [
    "# test sorting sorted array\n",
    "sorted_array = list(range(ARRAY_SIZE))\n",
    "print(TEXT_BEFORE_SORTING, sorted_array)\n",
    "a = bubblesort(sorted_array)\n",
    "print(TEXT_AFTER_SORTING, a)\n",
    "print(TEXT_CHECK_SORTING, check_sorting(a))"
   ]
  },
  {
   "cell_type": "code",
   "execution_count": 6,
   "metadata": {},
   "outputs": [
    {
     "name": "stdout",
     "output_type": "stream",
     "text": [
      "Before sorting: [9, 8, 7, 6, 5, 4, 3, 2, 1, 0]\n",
      "After  sorting: [0, 1, 2, 3, 4, 5, 6, 7, 8, 9]\n",
      "Sorting correct? - True\n"
     ]
    }
   ],
   "source": [
    "# test sorting reversly sorted array\n",
    "reverse_sorted_array = list(range(ARRAY_SIZE-1, -1, -1))\n",
    "print(TEXT_BEFORE_SORTING, reverse_sorted_array)\n",
    "a = bubblesort(reverse_sorted_array)\n",
    "print(TEXT_AFTER_SORTING, a)\n",
    "print(TEXT_CHECK_SORTING, check_sorting(a))"
   ]
  },
  {
   "cell_type": "code",
   "execution_count": 7,
   "metadata": {},
   "outputs": [
    {
     "name": "stdout",
     "output_type": "stream",
     "text": [
      "Before sorting: [2, 8, 4, 9, 1, 6, 7, 3, 0, 5]\n",
      "After  sorting: [0, 1, 2, 3, 4, 5, 6, 7, 8, 9]\n",
      "Sorting correct? - True\n"
     ]
    }
   ],
   "source": [
    "# test sorting random array\n",
    "# use numpy for generating a permutation\n",
    "import numpy\n",
    "# initialialize random number generator to obtain reproducable results\n",
    "# other values might be used or even no initialization done here\n",
    "numpy.random.seed(0)\n",
    "# now generate random data and test sorting\n",
    "array = list(numpy.random.permutation(ARRAY_SIZE))\n",
    "print(TEXT_BEFORE_SORTING, array)\n",
    "a = bubblesort(array)\n",
    "print(TEXT_AFTER_SORTING, a)\n",
    "print(TEXT_CHECK_SORTING, check_sorting(a))"
   ]
  },
  {
   "cell_type": "markdown",
   "metadata": {},
   "source": [
    "### Bubblesort with termination condition"
   ]
  },
  {
   "cell_type": "code",
   "execution_count": 8,
   "metadata": {},
   "outputs": [
    {
     "name": "stdout",
     "output_type": "stream",
     "text": [
      "Before sorting: [0, 1, 2, 3, 4, 5, 6, 7, 8, 9]\n",
      "After  sorting: [0, 1, 2, 3, 4, 5, 6, 7, 8, 9]\n",
      "Sorting correct? - True\n"
     ]
    }
   ],
   "source": [
    "# test sorting sorted array\n",
    "sorted_array = list(range(ARRAY_SIZE))\n",
    "print(TEXT_BEFORE_SORTING, sorted_array)\n",
    "a = bubblesort_with_termination_condition(sorted_array)\n",
    "print(TEXT_AFTER_SORTING, a)\n",
    "print(TEXT_CHECK_SORTING, check_sorting(a))"
   ]
  },
  {
   "cell_type": "code",
   "execution_count": 9,
   "metadata": {},
   "outputs": [
    {
     "name": "stdout",
     "output_type": "stream",
     "text": [
      "Before sorting: [9, 8, 7, 6, 5, 4, 3, 2, 1, 0]\n",
      "After  sorting: [0, 1, 2, 3, 4, 5, 6, 7, 8, 9]\n",
      "Sorting correct? - True\n"
     ]
    }
   ],
   "source": [
    "# test sorting reversly sorted array\n",
    "reverse_sorted_array = list(range(ARRAY_SIZE-1, -1, -1))\n",
    "print(TEXT_BEFORE_SORTING, reverse_sorted_array)\n",
    "a = bubblesort_with_termination_condition(reverse_sorted_array)\n",
    "print(TEXT_AFTER_SORTING, a)\n",
    "print(TEXT_CHECK_SORTING, check_sorting(a))"
   ]
  },
  {
   "cell_type": "code",
   "execution_count": 10,
   "metadata": {},
   "outputs": [
    {
     "name": "stdout",
     "output_type": "stream",
     "text": [
      "Before sorting: [2, 8, 4, 9, 1, 6, 7, 3, 0, 5]\n",
      "After  sorting: [0, 1, 2, 3, 4, 5, 6, 7, 8, 9]\n",
      "Sorting correct? - True\n"
     ]
    }
   ],
   "source": [
    "# initialialize random number generator to obtain reproducable results\n",
    "# other values might be used or even no initialization done here\n",
    "numpy.random.seed(0)\n",
    "# now generate random data and test sorting\n",
    "array = list(numpy.random.permutation(ARRAY_SIZE))\n",
    "print(TEXT_BEFORE_SORTING, array)\n",
    "a = bubblesort_with_termination_condition(array)\n",
    "print(TEXT_AFTER_SORTING, a)\n",
    "print(TEXT_CHECK_SORTING, check_sorting(a))"
   ]
  },
  {
   "cell_type": "markdown",
   "metadata": {},
   "source": [
    "### Your tests here ..."
   ]
  },
  {
   "cell_type": "code",
   "execution_count": 11,
   "metadata": {},
   "outputs": [
    {
     "name": "stdout",
     "output_type": "stream",
     "text": [
      "Before sorting: [1, 3, 2]\n",
      "After  sorting: [1, 2, 3]\n",
      "Sorting correct? - True\n"
     ]
    }
   ],
   "source": [
    "array = [1,3,2]\n",
    "print(TEXT_BEFORE_SORTING, array)\n",
    "a = bubblesort(array)\n",
    "print(TEXT_AFTER_SORTING, a)\n",
    "print(TEXT_CHECK_SORTING, check_sorting(a))"
   ]
  },
  {
   "cell_type": "code",
   "execution_count": 12,
   "metadata": {},
   "outputs": [
    {
     "name": "stdout",
     "output_type": "stream",
     "text": [
      "Before sorting: [1, 3, 2]\n",
      "After  sorting: [1, 2, 3]\n",
      "Sorting correct? - True\n"
     ]
    }
   ],
   "source": [
    "array = [1,3,2]\n",
    "print(TEXT_BEFORE_SORTING, array)\n",
    "a = bubblesort_with_termination_condition(array)\n",
    "print(TEXT_AFTER_SORTING, a)\n",
    "print(TEXT_CHECK_SORTING, check_sorting(a))"
   ]
  },
  {
   "cell_type": "code",
   "execution_count": 13,
   "metadata": {},
   "outputs": [],
   "source": [
    "# ... and here ..."
   ]
  }
 ],
 "metadata": {
  "kernelspec": {
   "display_name": "Python 3",
   "language": "python",
   "name": "python3"
  },
  "language_info": {
   "codemirror_mode": {
    "name": "ipython",
    "version": 3
   },
   "file_extension": ".py",
   "mimetype": "text/x-python",
   "name": "python",
   "nbconvert_exporter": "python",
   "pygments_lexer": "ipython3",
   "version": "3.8.5"
  }
 },
 "nbformat": 4,
 "nbformat_minor": 4
}
