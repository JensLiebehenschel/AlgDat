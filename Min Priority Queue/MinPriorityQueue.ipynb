{
 "cells": [
  {
   "cell_type": "markdown",
   "id": "dc264796-8850-41c0-b997-dc6a48007557",
   "metadata": {},
   "source": [
    "### Copyright 2022 Edward Späth, Frankfurt University of Applied Sciences, FB2, Computer Science\n",
    "### No liability or warranty; only for educational and non-commercial purposes\n",
    "### See some basic hints for working with Jupyter notebooks in README.md"
   ]
  },
  {
   "cell_type": "markdown",
   "id": "939b39bf-8948-464f-aca0-a22d7c4cd483",
   "metadata": {},
   "source": [
    "## Data structure min priority queue"
   ]
  },
  {
   "cell_type": "markdown",
   "id": "b64fc437-51f6-48e9-bd5c-f2be4526d342",
   "metadata": {},
   "source": [
    "## Data structure for storing keys with their respective priorities"
   ]
  },
  {
   "cell_type": "code",
   "execution_count": 1,
   "id": "029fe157-c16e-4838-9f08-31668e02ca8e",
   "metadata": {},
   "outputs": [],
   "source": [
    "class Node:\n",
    "    def __init__(self, name_input, prio_input):\n",
    "        self.name = name_input\n",
    "        self.prio = prio_input"
   ]
  },
  {
   "cell_type": "markdown",
   "id": "cc13b368-fcac-48be-b951-d6b5466e93c0",
   "metadata": {},
   "source": [
    "## Storage for elements of min priority queue"
   ]
  },
  {
   "cell_type": "code",
   "execution_count": 2,
   "id": "3e0a8624-db35-44d6-adbe-95aba9fc1dbb",
   "metadata": {},
   "outputs": [],
   "source": [
    "elements = []\n",
    "heapsize = 0"
   ]
  },
  {
   "cell_type": "markdown",
   "id": "6c922a01-1ee0-4e2e-b399-568480904907",
   "metadata": {},
   "source": [
    "## Function to reset min priority queue"
   ]
  },
  {
   "cell_type": "code",
   "execution_count": 3,
   "id": "8683338e-70e2-44b4-9964-8d96210dad24",
   "metadata": {},
   "outputs": [],
   "source": [
    "def reset_pq():\n",
    "    global elements, heapsize\n",
    "    elements, heapsize = [], 0"
   ]
  },
  {
   "cell_type": "markdown",
   "id": "50d382a9-765f-4509-974f-ca77be47c508",
   "metadata": {},
   "source": [
    "## Helper functions for easier access to children/parents of a given element in heap"
   ]
  },
  {
   "cell_type": "code",
   "execution_count": 4,
   "id": "c818cbf6-42ef-4f46-8326-db9f4327f830",
   "metadata": {},
   "outputs": [],
   "source": [
    "def parent(i):\n",
    "    return (i-1)//2 # '//' means division with floor function (round down)\n",
    "\n",
    "def left(i):\n",
    "    return 2*i+1\n",
    "\n",
    "def right(i):\n",
    "    return 2*i+2"
   ]
  },
  {
   "cell_type": "markdown",
   "id": "8d2b3098-3ca5-40a1-98a7-281c18d0174c",
   "metadata": {},
   "source": [
    "## Implementation of a min priority queue"
   ]
  },
  {
   "cell_type": "code",
   "execution_count": 5,
   "id": "3f8888d3-9aff-4001-a9e0-f7577a54c7f8",
   "metadata": {},
   "outputs": [],
   "source": [
    "def insert_multiple(elements_to_insert=[]):\n",
    "    for name_input, prio_input in elements_to_insert:\n",
    "        insert_key(name_input, prio_input)\n",
    "        \n",
    "def insert_key(name_input, prio_input):\n",
    "        global elements, heapsize\n",
    "        name_already_exists = False\n",
    "        for element in elements:\n",
    "            if element.name == name_input:\n",
    "                name_already_exists = True\n",
    "        if not name_already_exists:\n",
    "            elements.append(Node(name_input, float('inf'))) # float('inf') = positive infinity\n",
    "            heap_decrease_key(heapsize, prio_input)\n",
    "            heapsize += 1   \n",
    "        else:\n",
    "            print(\"\\nThere is already an element named\", name_input, \"Please choose a different name.\")\n",
    "            \n",
    "def heap_decrease_key(i, prio_input):\n",
    "    global elements \n",
    "    if prio_input >= elements[i].prio:\n",
    "        print(\"\\nERROR: New priority must be smaller than old priority\")\n",
    "        return       \n",
    "    elements[i].prio = prio_input   \n",
    "    while i > 0 and elements[parent(i)].prio > elements[i].prio:\n",
    "        elements[i], elements[parent(i)] = elements[parent(i)], elements[i]\n",
    "        i = parent(i)\n",
    "        \n",
    "def extract_min():\n",
    "    global elements, heapsize\n",
    "    if heapsize < 1:\n",
    "        print(\"\\nERROR: Underflow. Cannot extract from an empty priority queue\")\n",
    "        return      \n",
    "    min_element = elements[0]\n",
    "    heapsize -= 1\n",
    "    elements[0], elements[heapsize] = elements[heapsize], elements[0] # Swaps first element and last element to delete the previous first and bubble down the previous last\n",
    "    elements = elements[:heapsize] # Deletes last element\n",
    "    min_heapify(0)   \n",
    "    print(\"\\nElement\", min_element.name, \"with priority\", min_element.prio, \"has been extracted\")\n",
    "        \n",
    "def min_heapify(i):\n",
    "    global elements, heapsize\n",
    "    l = left(i)\n",
    "    r = right(i)   \n",
    "    if l < heapsize and elements[l].prio < elements[i].prio:\n",
    "        minimum = l\n",
    "    else:\n",
    "        minimum = i       \n",
    "    if r < heapsize and elements[r].prio < elements[minimum].prio:\n",
    "        minimum = r   \n",
    "    if minimum != i:\n",
    "        elements[i], elements[minimum] = elements[minimum], elements[i]\n",
    "        min_heapify(minimum)\n",
    "    \n",
    "def reduce_priority(name_to_be_searched, prio_input):\n",
    "    global elements   \n",
    "    key_found = False  \n",
    "    for index, element in enumerate(elements):\n",
    "        if element.name == name_to_be_searched:\n",
    "            key_found = True\n",
    "            at_index = index\n",
    "            break          \n",
    "    if not key_found:      \n",
    "        print(\"\\nERROR: Element whose priority you want to decrease does not exist\")\n",
    "        return     \n",
    "    if elements[at_index].prio <= prio_input: \n",
    "        print(\"\\nERROR: New priority of\", elements[at_index].name, \n",
    "              \"is not lower than old priority! Priority may only ever decrease. Priority stays unchanged\")\n",
    "        return\n",
    "    heap_decrease_key(at_index, prio_input)\n",
    "    \n",
    "def print_pq(show_name=True, show_prio=True):\n",
    "    if heapsize < 1:\n",
    "        print(\"\\nThe current priority pueue is empty! Nothing to print\")\n",
    "        return \n",
    "    if not show_name and not show_prio:\n",
    "        print(\"\\nYou have to atleast print the names or the priorities\")\n",
    "    printarray = [] \n",
    "    for element in elements:\n",
    "        if show_name and show_prio:\n",
    "            printarray.append((element.name,element.prio))\n",
    "        elif show_name:\n",
    "            printarray.append(element.name)\n",
    "        else:\n",
    "            printarray.append(element.prio)\n",
    "    print(\"\\nThe current priority queue of size\", heapsize, \"is: --> printing names:\",\n",
    "           show_name, \"- printing priorities:\", show_prio)  \n",
    "    print(printarray)"
   ]
  },
  {
   "cell_type": "markdown",
   "id": "b21b2ad0-3a07-4545-b3ff-df2464a5cc48",
   "metadata": {},
   "source": [
    "## Example with explanations on how to use functions"
   ]
  },
  {
   "cell_type": "code",
   "execution_count": 6,
   "id": "008ceaf7-33cf-44fc-b62a-90aa8296b509",
   "metadata": {},
   "outputs": [
    {
     "name": "stdout",
     "output_type": "stream",
     "text": [
      "\n",
      "The current priority queue of size 4 is: --> printing names: True - printing priorities: True\n",
      "[('D', 1), ('B', 2), ('C', 6), ('A', 4)]\n",
      "\n",
      "The current priority queue of size 4 is: --> printing names: True - printing priorities: False\n",
      "['D', 'B', 'C', 'A']\n",
      "\n",
      "Element D with priority 1 has been extracted\n",
      "\n",
      "The current priority queue of size 3 is: --> printing names: True - printing priorities: True\n",
      "[('B', 2), ('A', 4), ('C', 6)]\n",
      "\n",
      "The current priority queue of size 4 is: --> printing names: True - printing priorities: True\n",
      "[('B', 2), ('F', 3), ('C', 6), ('A', 4)]\n",
      "\n",
      "The current priority queue of size 4 is: --> printing names: False - printing priorities: True\n",
      "[2, 2, 6, 4]\n"
     ]
    }
   ],
   "source": [
    "# This list saves the elements you want to enqueue at once. The name of the key is written in Ticks ('') on the left side of each pair\n",
    "# The corresponding priority is written on the right side of each pair\n",
    "# This example initializes the priority queue with a key named 'A' with priority 4, another key named 'B' with priority 2, etc\n",
    "# Note that this is a min priority queue. The lower the number representing priority, the more important the element is\n",
    "\n",
    "# If you dont want to initialize anything, leave the array empty --> \"elements_to_insert = []\"\n",
    "# Alternatively remove elements_to_insert from the insert_multiple-function's parameters --> \"insert_multiple()\"\n",
    "\n",
    "elements_to_insert = [('A', 4), ('B', 2), ('C', 6), ('D', 1)]\n",
    "\n",
    "insert_multiple(elements_to_insert)\n",
    "\n",
    "# Prints the current contents of the priority queue aswell as size.\n",
    "# The boolean values allow you to select what you want to be printed.\n",
    "# In the example below both name and priority of each element will be printed\n",
    "# Calling print_pq without parameters is the same as both booleans being True\n",
    "print_pq(show_name = True, show_prio = True)\n",
    "\n",
    "# If you only want the names to be printed, have \"show_name = True\" and \"show_prio = False\":\n",
    "# Or vice versa\n",
    "print_pq(show_name = True, show_prio = False)\n",
    "\n",
    "# Extracts the element with the lowest priority and prints what its data was\n",
    "extract_min()\n",
    "\n",
    "print_pq(show_name = True, show_prio = True)\n",
    "\n",
    "# Same idea as with insert_multiple but only one element at a time\n",
    "insert_key('F', 3)\n",
    "\n",
    "print_pq(show_name = True, show_prio = True)\n",
    "\n",
    "# Instead of creating a new unique name, give the name of an existing element whose priority you want to change (give new priority as right value)\n",
    "reduce_priority('F', 2)\n",
    "\n",
    "print_pq(show_name = False, show_prio = True)\n",
    "\n",
    "reset_pq() # Resets contents of priority queue (ignore)"
   ]
  },
  {
   "cell_type": "markdown",
   "id": "f57a3595-07ab-44ca-bc4c-1232fab46eb0",
   "metadata": {},
   "source": [
    "## Your tests go here..."
   ]
  },
  {
   "cell_type": "code",
   "execution_count": 7,
   "id": "6089f117-b695-4f76-94a7-ac88c3a662a5",
   "metadata": {},
   "outputs": [
    {
     "name": "stdout",
     "output_type": "stream",
     "text": [
      "\n",
      "The current priority queue of size 4 is: --> printing names: True - printing priorities: True\n",
      "[('D', 1), ('B', 2), ('C', 6), ('A', 4)]\n",
      "\n",
      "The current priority queue of size 4 is: --> printing names: True - printing priorities: True\n",
      "[('D', 1), ('B', 2), ('C', 3), ('A', 4)]\n"
     ]
    }
   ],
   "source": [
    "elements_to_insert = [('A', 4), ('B', 2), ('C', 6), ('D', 1)]\n",
    "\n",
    "insert_multiple(elements_to_insert)\n",
    "\n",
    "print_pq(show_name = True, show_prio = True)\n",
    "\n",
    "reduce_priority('C', 3)\n",
    "\n",
    "print_pq(show_name = True, show_prio = True)\n",
    "\n",
    "reset_pq() # Resets contents of priority queue (ignore)"
   ]
  },
  {
   "cell_type": "markdown",
   "id": "a2c64b24-5ead-456c-940e-6c756fe4a95f",
   "metadata": {},
   "source": [
    "## Create your min priority queue. The result will be visualized as a min-heap at the very bottom"
   ]
  },
  {
   "cell_type": "code",
   "execution_count": 8,
   "id": "71c144fe-9c3b-4033-a990-34543eacbe00",
   "metadata": {},
   "outputs": [],
   "source": [
    "elements_to_insert = [('A', 4), ('B', 2), ('C', 6), ('D', 1)]\n",
    "\n",
    "insert_multiple(elements_to_insert)\n",
    "\n",
    "insert_key('F', 3)\n",
    "\n",
    "reduce_priority('A', 3)"
   ]
  },
  {
   "cell_type": "code",
   "execution_count": 9,
   "id": "dcc621d3-b435-4c69-82b3-5ad11787404c",
   "metadata": {},
   "outputs": [
    {
     "data": {
      "image/svg+xml": [
       "<?xml version=\"1.0\" encoding=\"UTF-8\" standalone=\"no\"?>\n",
       "<!DOCTYPE svg PUBLIC \"-//W3C//DTD SVG 1.1//EN\"\n",
       " \"http://www.w3.org/Graphics/SVG/1.1/DTD/svg11.dtd\">\n",
       "<!-- Generated by graphviz version 2.43.0 (0)\n",
       " -->\n",
       "<!-- Title: %3 Pages: 1 -->\n",
       "<svg width=\"170pt\" height=\"188pt\"\n",
       " viewBox=\"0.00 0.00 170.00 188.00\" xmlns=\"http://www.w3.org/2000/svg\" xmlns:xlink=\"http://www.w3.org/1999/xlink\">\n",
       "<g id=\"graph0\" class=\"graph\" transform=\"scale(1 1) rotate(0) translate(4 184)\">\n",
       "<title>%3</title>\n",
       "<polygon fill=\"white\" stroke=\"transparent\" points=\"-4,4 -4,-184 166,-184 166,4 -4,4\"/>\n",
       "<!-- D,1 -->\n",
       "<g id=\"node1\" class=\"node\">\n",
       "<title>D,1</title>\n",
       "<ellipse fill=\"none\" stroke=\"black\" cx=\"99\" cy=\"-162\" rx=\"27\" ry=\"18\"/>\n",
       "<text text-anchor=\"middle\" x=\"99\" y=\"-158.3\" font-family=\"Times,serif\" font-size=\"14.00\">D,1</text>\n",
       "</g>\n",
       "<!-- B,2 -->\n",
       "<g id=\"node2\" class=\"node\">\n",
       "<title>B,2</title>\n",
       "<ellipse fill=\"none\" stroke=\"black\" cx=\"63\" cy=\"-90\" rx=\"27\" ry=\"18\"/>\n",
       "<text text-anchor=\"middle\" x=\"63\" y=\"-86.3\" font-family=\"Times,serif\" font-size=\"14.00\">B,2</text>\n",
       "</g>\n",
       "<!-- D,1&#45;&#45;B,2 -->\n",
       "<g id=\"edge1\" class=\"edge\">\n",
       "<title>D,1&#45;&#45;B,2</title>\n",
       "<path fill=\"none\" stroke=\"black\" d=\"M90.65,-144.76C84.83,-133.46 77.11,-118.44 71.3,-107.15\"/>\n",
       "</g>\n",
       "<!-- C,6 -->\n",
       "<g id=\"node3\" class=\"node\">\n",
       "<title>C,6</title>\n",
       "<ellipse fill=\"none\" stroke=\"black\" cx=\"135\" cy=\"-90\" rx=\"27\" ry=\"18\"/>\n",
       "<text text-anchor=\"middle\" x=\"135\" y=\"-86.3\" font-family=\"Times,serif\" font-size=\"14.00\">C,6</text>\n",
       "</g>\n",
       "<!-- D,1&#45;&#45;C,6 -->\n",
       "<g id=\"edge2\" class=\"edge\">\n",
       "<title>D,1&#45;&#45;C,6</title>\n",
       "<path fill=\"none\" stroke=\"black\" d=\"M107.35,-144.76C113.17,-133.46 120.89,-118.44 126.7,-107.15\"/>\n",
       "</g>\n",
       "<!-- A,3 -->\n",
       "<g id=\"node4\" class=\"node\">\n",
       "<title>A,3</title>\n",
       "<ellipse fill=\"none\" stroke=\"black\" cx=\"27\" cy=\"-18\" rx=\"27\" ry=\"18\"/>\n",
       "<text text-anchor=\"middle\" x=\"27\" y=\"-14.3\" font-family=\"Times,serif\" font-size=\"14.00\">A,3</text>\n",
       "</g>\n",
       "<!-- B,2&#45;&#45;A,3 -->\n",
       "<g id=\"edge3\" class=\"edge\">\n",
       "<title>B,2&#45;&#45;A,3</title>\n",
       "<path fill=\"none\" stroke=\"black\" d=\"M54.65,-72.76C48.83,-61.46 41.11,-46.44 35.3,-35.15\"/>\n",
       "</g>\n",
       "<!-- F,3 -->\n",
       "<g id=\"node5\" class=\"node\">\n",
       "<title>F,3</title>\n",
       "<ellipse fill=\"none\" stroke=\"black\" cx=\"99\" cy=\"-18\" rx=\"27\" ry=\"18\"/>\n",
       "<text text-anchor=\"middle\" x=\"99\" y=\"-14.3\" font-family=\"Times,serif\" font-size=\"14.00\">F,3</text>\n",
       "</g>\n",
       "<!-- B,2&#45;&#45;F,3 -->\n",
       "<g id=\"edge4\" class=\"edge\">\n",
       "<title>B,2&#45;&#45;F,3</title>\n",
       "<path fill=\"none\" stroke=\"black\" d=\"M71.35,-72.76C77.17,-61.46 84.89,-46.44 90.7,-35.15\"/>\n",
       "</g>\n",
       "</g>\n",
       "</svg>\n"
      ],
      "text/plain": [
       "<graphviz.graphs.Graph at 0x7fb9a41b6f40>"
      ]
     },
     "metadata": {},
     "output_type": "display_data"
    }
   ],
   "source": [
    "import graphviz\n",
    "# In case that the rendering inside GitHub will break again, just like described in this GitHub issue\n",
    "# https://github.com/xflr6/graphviz/issues/182 , then un-comment the line below for a potential fix.\n",
    "# graphviz.set_jupyter_format('png')\n",
    "dot = graphviz.Graph()\n",
    "for index in range(len(elements)):       \n",
    "    if left(index) < heapsize:    \n",
    "        start = elements[index].name + \",\" + str(elements[index].prio) # Concatinating the Name of each Element together with its Priority into a single string\n",
    "        destination = elements[left(index)].name + \",\" + str(elements[left(index)].prio)\n",
    "        dot.edge(start,destination)\n",
    "    if right(index) < heapsize:\n",
    "        start = elements[index].name + \",\" + str(elements[index].prio)\n",
    "        destination = elements[right(index)].name + \",\" + str(elements[right(index)].prio)\n",
    "        dot.edge(start,destination)\n",
    "display(dot)"
   ]
  }
 ],
 "metadata": {
  "kernelspec": {
   "display_name": "Python 3 (ipykernel)",
   "language": "python",
   "name": "python3"
  },
  "language_info": {
   "codemirror_mode": {
    "name": "ipython",
    "version": 3
   },
   "file_extension": ".py",
   "mimetype": "text/x-python",
   "name": "python",
   "nbconvert_exporter": "python",
   "pygments_lexer": "ipython3",
   "version": "3.9.12"
  }
 },
 "nbformat": 4,
 "nbformat_minor": 5
}
