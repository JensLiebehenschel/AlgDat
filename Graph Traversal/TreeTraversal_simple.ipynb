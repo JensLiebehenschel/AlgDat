{
 "cells": [
  {
   "cell_type": "markdown",
   "id": "ef413aa0-90b0-485f-8ab0-a359384856a5",
   "metadata": {},
   "source": [
    "### Copyright 2022 Edward Späth, Frankfurt University of Applied Sciences, FB2, Computer Science\n",
    "### No liability or warranty; only for educational and non-commercial purposes\n",
    "### See some basic hints for working with Jupyter notebooks in README.md"
   ]
  },
  {
   "cell_type": "markdown",
   "id": "eb19c66a-1684-4e5c-a390-ce8f2a84462a",
   "metadata": {},
   "source": [
    "## Tree traversal algorithms (Pre-, In-, Postorder) without visualization"
   ]
  },
  {
   "cell_type": "markdown",
   "id": "f8666c55-88b6-4040-96a1-a9a04607b06f",
   "metadata": {},
   "source": [
    "## Global variables for storing information"
   ]
  },
  {
   "cell_type": "code",
   "execution_count": 1,
   "id": "fe854777-64b2-4674-b9c2-6a4c5f002053",
   "metadata": {},
   "outputs": [],
   "source": [
    "preorder_list = []\n",
    "inorder_list = []\n",
    "postorder_list = []\n",
    "max_index = None"
   ]
  },
  {
   "cell_type": "markdown",
   "id": "d56e9050-11db-458e-ae3d-c740f7173c4f",
   "metadata": {},
   "source": [
    "## Helper functions for easier access to children/parents of a given element in tree (heap)"
   ]
  },
  {
   "cell_type": "code",
   "execution_count": 2,
   "id": "dbf00127-35d4-427b-bb7d-f33e1678e66a",
   "metadata": {},
   "outputs": [],
   "source": [
    "def parent(i):\n",
    "    if i <= 0: # In case parent(0) is called, instead of returning -1, it is safer to return None instead, since -1 is a valid index in python\n",
    "        return None\n",
    "    else:\n",
    "        return (i-1)//2 # '//' means division with floor function (round down)\n",
    "\n",
    "def left(i):\n",
    "    return 2*i+1\n",
    "\n",
    "def right(i):\n",
    "    return 2*i+2"
   ]
  },
  {
   "cell_type": "markdown",
   "id": "9fc006be-17c6-4ee3-9b82-90a7d3eff998",
   "metadata": {},
   "source": [
    "## Tree traversal algorithms"
   ]
  },
  {
   "cell_type": "code",
   "execution_count": 3,
   "id": "64fa038b-d632-4df1-9586-aa9768f3a190",
   "metadata": {},
   "outputs": [],
   "source": [
    "def preorder_treewalk(x, tree):\n",
    "    global preorder_list\n",
    "    # Non-existing nodes are marked as 'x', which can be detected by checking whether it is a string\n",
    "    if not isinstance(tree[x], str):\n",
    "        # Inspect node\n",
    "        preorder_list.append(tree[x])\n",
    "        # Visit left\n",
    "        if left(x) <= max_index:\n",
    "            preorder_treewalk(left(x), tree)\n",
    "        # Visit right\n",
    "        if right(x) <= max_index:\n",
    "            preorder_treewalk(right(x), tree)"
   ]
  },
  {
   "cell_type": "code",
   "execution_count": 4,
   "id": "1d0ff4fb-4415-4f63-8d3c-25d96e0c1bf6",
   "metadata": {},
   "outputs": [],
   "source": [
    "def inorder_treewalk(x, tree):\n",
    "    global inorder_list\n",
    "    if not isinstance(tree[x], str):\n",
    "        # Visit left\n",
    "        if left(x) <= max_index:\n",
    "            inorder_treewalk(left(x), tree)\n",
    "        # Inspect node\n",
    "        inorder_list.append(tree[x])\n",
    "        # Visit right\n",
    "        if right(x) <= max_index:\n",
    "            inorder_treewalk(right(x), tree)"
   ]
  },
  {
   "cell_type": "code",
   "execution_count": 5,
   "id": "54f408ad-03a8-49f7-93ef-23017d12464c",
   "metadata": {},
   "outputs": [],
   "source": [
    "def postorder_treewalk(x, tree):\n",
    "    global postorder_list\n",
    "    if not isinstance(tree[x], str):\n",
    "        # Visit left\n",
    "        if left(x) <= max_index:\n",
    "            postorder_treewalk(left(x), tree)\n",
    "        # Visit right\n",
    "        if right(x) <= max_index:\n",
    "            postorder_treewalk(right(x), tree)\n",
    "        # Inspect node\n",
    "        postorder_list.append(tree[x])"
   ]
  },
  {
   "cell_type": "markdown",
   "id": "888af025-546f-472d-9743-8b4a6ed4b57b",
   "metadata": {},
   "source": [
    "## Functions for turning tree into a list which can be worked with and function to check if tree is valid"
   ]
  },
  {
   "cell_type": "code",
   "execution_count": 6,
   "id": "ee465963-fe94-4eaf-a54f-a501c86f8121",
   "metadata": {},
   "outputs": [],
   "source": [
    "def turn_into_array(tree):\n",
    "    # DIGITS contains Digits 0 through 9 as a list of strings\n",
    "    DIGITS = []\n",
    "    for j in range(0, 10):\n",
    "        DIGITS.append(str(j))\n",
    "    # Characters which are interpreted as a node not existing\n",
    "    EMPTY_SPACES = ['x', 'X']\n",
    "    tree_array = []\n",
    "    index_blacklist = []\n",
    "    for i in range(0, len(tree)):\n",
    "        # If the current index is in the index blacklist, then it is just skipped.\n",
    "        # It is used to skip over parts of a number instead of treating it as its own number.\n",
    "        # Or else the number '123' would result in numbers '123', '23' and '3'.\n",
    "        # This is prevented by blacklisting the index of the digit 2 and 3.\n",
    "        if i in index_blacklist:\n",
    "            continue\n",
    "        index_blacklist = []\n",
    "        # If the current character is one of the possible empty space symbols, then mark it as such\n",
    "        if tree[i] in EMPTY_SPACES:\n",
    "            tree_array.append('x')\n",
    "        if tree[i] in DIGITS:\n",
    "            j = i\n",
    "            current_number = []\n",
    "            # Iterate until the string of digits is interrupted (end of number)\n",
    "            while tree[j] in DIGITS:\n",
    "                current_number.append(tree[j])\n",
    "                j += 1\n",
    "            # Add indices to index blacklist for reasons stated above\n",
    "            index_blacklist = list(range(i+1, i + len(current_number)))\n",
    "            actual_value = 0\n",
    "            # current_number contains each digit of the current number in the right order.\n",
    "            # If the number were 123, then current_number would be [1, 2, 3]\n",
    "            # Now by multiplying first digit with 10 to the power of 2, second with 10 and third with 1 and summing it up, we get the result.\n",
    "            for index, digit in enumerate(current_number):\n",
    "                actual_value += int(digit) * (10 ** (len(current_number) - index - 1))\n",
    "            tree_array.append(actual_value)\n",
    "    # Call a function to check whether the tree is valid (so that every node except for root has a parent)\n",
    "    return check_tree(tree_array)"
   ]
  },
  {
   "cell_type": "code",
   "execution_count": 7,
   "id": "49348db9-4c48-49fc-bbf6-0a89015e6a8d",
   "metadata": {},
   "outputs": [],
   "source": [
    "def check_tree(tree):\n",
    "    # Make sure that every node has a parent (except for the root node of course)\n",
    "    for i in reversed(range(1, len(tree))):\n",
    "        if tree[i] != 'x' and tree[parent(i)] == 'x':\n",
    "            print(\"\\nERROR: Index\", i, \"is supposed to have a parent at index\", parent(i), \", which does not exist\")\n",
    "            return None\n",
    "    return tree"
   ]
  },
  {
   "cell_type": "markdown",
   "id": "03081268-e79b-40a1-bf6e-147d9536ebee",
   "metadata": {},
   "source": [
    "## Functions with does all the function calls and resets data afterwards"
   ]
  },
  {
   "cell_type": "code",
   "execution_count": 8,
   "id": "5d1a568f-adb4-4516-9115-7e96f260c9a1",
   "metadata": {},
   "outputs": [],
   "source": [
    "def execute_algorithms(tree):\n",
    "    global max_index, preorder_list, inorder_list, postorder_list\n",
    "    tree = turn_into_array(tree)\n",
    "    if tree == None:\n",
    "        return\n",
    "    # Calculate maximum index\n",
    "    max_index = len(tree)-1\n",
    "    # Call algorithms\n",
    "    preorder_treewalk(0, tree)\n",
    "    inorder_treewalk(0, tree)\n",
    "    postorder_treewalk(0, tree)\n",
    "    # Print results\n",
    "    print(\"Preorder:\\n\\t\", preorder_list)\n",
    "    print(\"\\nInorder:\\n\\t\", inorder_list)\n",
    "    print(\"\\nPostorder:\\n\\t\", postorder_list)\n",
    "    # Reset data\n",
    "    max_index = None\n",
    "    preorder_list = []\n",
    "    inorder_list = []\n",
    "    postorder_list = []"
   ]
  },
  {
   "cell_type": "markdown",
   "id": "a4a685bb-1b4f-4090-866a-e168ef9998f8",
   "metadata": {},
   "source": [
    "## Example"
   ]
  },
  {
   "cell_type": "code",
   "execution_count": 9,
   "id": "bf8638d1-7ebc-456e-ad22-d8162abcdd9f",
   "metadata": {},
   "outputs": [
    {
     "name": "stdout",
     "output_type": "stream",
     "text": [
      "Preorder:\n",
      "\t [48, 18, 27, 16, 3, 23, 21, 6, 33, 41, 46]\n",
      "\n",
      "Inorder:\n",
      "\t [16, 27, 3, 18, 21, 23, 48, 33, 6, 46, 41]\n",
      "\n",
      "Postorder:\n",
      "\t [16, 3, 27, 21, 23, 18, 33, 46, 41, 6, 48]\n"
     ]
    }
   ],
   "source": [
    "# If you want a visualized version, see \"TreeTraversal.ipynb\" in the same GitHub folder\n",
    "\n",
    "# To input a binary tree, the user has to input numbers for nodes and mark where nodes are not present.\n",
    "# The simplest way is by using a binary heap representation.\n",
    "# Essentially imagine it as a list with an index starting at 0, increasing from top left, to bottom right (level-by-level). See below!\n",
    "# Note that the dashed lines (---) and slashes/backslashes (\\, /) are optional and only serve to make the tree structure more intuitive.\n",
    "# The lowercase x or uppercase X marks a node not being present. They are NOT optional unless you want a full binary tree!\n",
    "# After having input the last number in the lowest level everything to the right and below it can be left out. There is no need to put x's there\n",
    "\n",
    "# tree indices:\n",
    "#\n",
    "#              0\n",
    "#          ---   ---\n",
    "#         /         \\\n",
    "#        1           2\n",
    "#\n",
    "#      /    \\      /    \\\n",
    "#     3     4     5      6\n",
    "#\n",
    "#   /  \\\n",
    "#  7   ...\n",
    "\n",
    "tree = \"\"\"\n",
    "\n",
    "                         48\n",
    "                -------     -------\n",
    "               /                   \\\n",
    "              18                     6\n",
    "\n",
    "           /     \\                /     \\\n",
    "          27     23              33     41\n",
    "\n",
    "       /    \\   /   \\          /   \\    /\n",
    "      16    3  21    x        x     x  46\n",
    "\n",
    "\n",
    "\"\"\"\n",
    "execute_algorithms(tree)"
   ]
  },
  {
   "cell_type": "markdown",
   "id": "20678a07-8034-4215-941c-702637f6bd95",
   "metadata": {},
   "source": [
    "## Yet another example"
   ]
  },
  {
   "cell_type": "code",
   "execution_count": 10,
   "id": "111b082d-a7a7-443f-b351-99ba17250d8a",
   "metadata": {},
   "outputs": [
    {
     "name": "stdout",
     "output_type": "stream",
     "text": [
      "Preorder:\n",
      "\t [12, 31, 3, 9, 14, 26, 18]\n",
      "\n",
      "Inorder:\n",
      "\t [9, 3, 14, 31, 12, 18, 26]\n",
      "\n",
      "Postorder:\n",
      "\t [9, 14, 3, 31, 18, 26, 12]\n"
     ]
    }
   ],
   "source": [
    "tree = \"\"\"\n",
    "\n",
    "              12\n",
    "\n",
    "         /         \\\n",
    "        31          26\n",
    "\n",
    "     /    \\       /   \\\n",
    "    3      x     18    x\n",
    "\n",
    "  /   \\\n",
    " 9     14\n",
    "\n",
    "\n",
    "\"\"\"\n",
    "execute_algorithms(tree)"
   ]
  },
  {
   "cell_type": "markdown",
   "id": "1b26b445-0b71-4c9e-aeae-91efa066665b",
   "metadata": {},
   "source": [
    "## Your tests go here..."
   ]
  },
  {
   "cell_type": "code",
   "execution_count": 11,
   "id": "4d9fec32-1cac-4ea3-a41f-358dc4f77572",
   "metadata": {},
   "outputs": [
    {
     "name": "stdout",
     "output_type": "stream",
     "text": [
      "Preorder:\n",
      "\t [0, 1, 4, 9, 2, 6]\n",
      "\n",
      "Inorder:\n",
      "\t [1, 9, 4, 0, 2, 6]\n",
      "\n",
      "Postorder:\n",
      "\t [9, 4, 1, 6, 2, 0]\n"
     ]
    }
   ],
   "source": [
    "tree = \"\"\"\n",
    "\n",
    "              0\n",
    "\n",
    "         /         \\\n",
    "        1           2\n",
    "\n",
    "     /     \\      /   \\\n",
    "    x       4    x     6\n",
    "\n",
    "  /  \\    /\n",
    " x    x  9\n",
    "\n",
    "\n",
    "\"\"\"\n",
    "execute_algorithms(tree)"
   ]
  }
 ],
 "metadata": {
  "kernelspec": {
   "display_name": "Python 3 (ipykernel)",
   "language": "python",
   "name": "python3"
  },
  "language_info": {
   "codemirror_mode": {
    "name": "ipython",
    "version": 3
   },
   "file_extension": ".py",
   "mimetype": "text/x-python",
   "name": "python",
   "nbconvert_exporter": "python",
   "pygments_lexer": "ipython3",
   "version": "3.9.12"
  }
 },
 "nbformat": 4,
 "nbformat_minor": 5
}
