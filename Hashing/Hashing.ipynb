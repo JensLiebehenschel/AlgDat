{
 "cells": [
  {
   "cell_type": "markdown",
   "metadata": {},
   "source": [
    "### Copyright 2022 Jens Liebehenschel, Frankfurt University of Applied Sciences, FB2, Computer Science\n",
    "### No liability or warranty; only for educational and non-commercial purposes\n",
    "### See some basic hints for working with Jupyter notebooks in README.md\n",
    "## Storing and searching keys in a hash table with collision resolution using open addressing with linear probing"
   ]
  },
  {
   "cell_type": "code",
   "execution_count": 1,
   "metadata": {},
   "outputs": [],
   "source": [
    "# inserts k into the hash table, if a free cell can be found, independent if it was already inserted before\n",
    "# returns True if key was successfully inserted, False if hash table is full\n",
    "def insert_lin_probing(k):\n",
    "    first_hash_value = k % ARRAY_SIZE\n",
    "    if hash_table[first_hash_value] == None:\n",
    "        hash_table[first_hash_value] = k\n",
    "        return True\n",
    "    else:\n",
    "        next_position = (first_hash_value + 1) % ARRAY_SIZE\n",
    "        while (hash_table[next_position] != None and next_position != first_hash_value):\n",
    "            next_position = (next_position + 1) % ARRAY_SIZE\n",
    "        if hash_table[next_position] == None:\n",
    "            hash_table[next_position] = k\n",
    "            return True\n",
    "        else:\n",
    "            return False"
   ]
  },
  {
   "cell_type": "code",
   "execution_count": 2,
   "metadata": {},
   "outputs": [],
   "source": [
    "# returns True if key was found, False if not\n",
    "def search_lin_probing(k):\n",
    "    first_hash_value = k % ARRAY_SIZE\n",
    "    if hash_table[first_hash_value] == None:\n",
    "        return False\n",
    "    else:\n",
    "        next_position = first_hash_value\n",
    "        while (hash_table[next_position] not in [None, k] and next_position != (first_hash_value - 1 + ARRAY_SIZE) % ARRAY_SIZE):\n",
    "            next_position = (next_position + 1) % ARRAY_SIZE\n",
    "        if hash_table[next_position] == k:\n",
    "            return True\n",
    "        else:\n",
    "            return False"
   ]
  },
  {
   "cell_type": "markdown",
   "metadata": {},
   "source": [
    "## Constants"
   ]
  },
  {
   "cell_type": "code",
   "execution_count": 3,
   "metadata": {},
   "outputs": [],
   "source": [
    "# the size of array in tests can be changed here\n",
    "ARRAY_SIZE = 10\n",
    "# some output text\n",
    "TEXT_BEFORE_INSERTING = \"Before inserting keys:\"\n",
    "TEXT_AFTER_INSERTING = \"After  inserting keys:\"\n",
    "TEXT_SUCCESS = \"All operations were successful.\"\n",
    "TEXT_NO_SUCCESS = \"At least one operation was not successful.\""
   ]
  },
  {
   "cell_type": "markdown",
   "metadata": {},
   "source": [
    "## Generate test data and test algorithms"
   ]
  },
  {
   "cell_type": "code",
   "execution_count": 4,
   "metadata": {},
   "outputs": [],
   "source": [
    "# output of success of operations\n",
    "def print_success(s):\n",
    "    if all(success):\n",
    "        print(s, TEXT_SUCCESS)\n",
    "    else:\n",
    "        print(s, TEXT_NO_SUCCESS)"
   ]
  },
  {
   "cell_type": "code",
   "execution_count": 5,
   "metadata": {},
   "outputs": [
    {
     "name": "stdout",
     "output_type": "stream",
     "text": [
      "Before inserting keys: [None, None, None, None, None, None, None, None, None, None]\n",
      "After  inserting keys: [0, 9, 2, 123, 44, 555, 5, 4, 3, 99]\n",
      "insert: All operations were successful.\n"
     ]
    }
   ],
   "source": [
    "# insert some keys into the hash table\n",
    "hash_table = list([None]*ARRAY_SIZE)\n",
    "success = []\n",
    "keys = [0, 123, 44, 555, 5, 4, 3, 99, 9, 2]\n",
    "#keys = [0, 123, 44, 555, 5, 4, 3, 99, 9, 2, 100]\n",
    "\n",
    "print(TEXT_BEFORE_INSERTING, hash_table)\n",
    "for k in keys:\n",
    "    success.append(insert_lin_probing(k))\n",
    "print(TEXT_AFTER_INSERTING, hash_table)\n",
    "\n",
    "print_success(\"insert:\")"
   ]
  },
  {
   "cell_type": "code",
   "execution_count": 6,
   "metadata": {},
   "outputs": [
    {
     "name": "stdout",
     "output_type": "stream",
     "text": [
      "search: All operations were successful.\n"
     ]
    }
   ],
   "source": [
    "# search for all keys\n",
    "success = []\n",
    "for k in keys:\n",
    "    success.append(search_lin_probing(k))\n",
    "print_success(\"search:\")"
   ]
  },
  {
   "cell_type": "code",
   "execution_count": 7,
   "metadata": {},
   "outputs": [
    {
     "name": "stdout",
     "output_type": "stream",
     "text": [
      "Keys: [864, 394, 776, 911, 430, 41, 265, 988, 523, 497]\n",
      "Before inserting keys: [None, None, None, None, None, None, None, None, None, None]\n",
      "After  inserting keys: [430, 911, 41, 523, 864, 394, 776, 265, 988, 497]\n",
      "insert: All operations were successful.\n",
      "Now insert one more key.\n",
      "After  inserting keys: [430, 911, 41, 523, 864, 394, 776, 265, 988, 497]\n",
      "insert: At least one operation was not successful.\n"
     ]
    }
   ],
   "source": [
    "import random\n",
    "# insert random keys\n",
    "hash_table = list([None]*ARRAY_SIZE)\n",
    "success = []\n",
    "random.seed(0)\n",
    "keys = [random.randint(0,999) for i in range(ARRAY_SIZE)]\n",
    "print(\"Keys:\", keys)\n",
    "\n",
    "print(TEXT_BEFORE_INSERTING, hash_table)\n",
    "for k in keys:\n",
    "    success.append(insert_lin_probing(k))\n",
    "print(TEXT_AFTER_INSERTING, hash_table)\n",
    "print_success(\"insert:\")\n",
    "\n",
    "print(\"Now insert one more key.\")\n",
    "success.append(insert_lin_probing(random.randint(0,999)))\n",
    "print(TEXT_AFTER_INSERTING, hash_table)\n",
    "print_success(\"insert:\")"
   ]
  },
  {
   "cell_type": "code",
   "execution_count": 8,
   "metadata": {},
   "outputs": [
    {
     "name": "stdout",
     "output_type": "stream",
     "text": [
      "search: All operations were successful.\n",
      "search: At least one operation was not successful.\n"
     ]
    }
   ],
   "source": [
    "# search for all keys\n",
    "success = []\n",
    "for k in keys:\n",
    "    success.append(search_lin_probing(k))\n",
    "print_success(\"search:\")\n",
    "success.append(search_lin_probing(1000))\n",
    "print_success(\"search:\")"
   ]
  },
  {
   "cell_type": "markdown",
   "metadata": {},
   "source": [
    "### Your tests here ..."
   ]
  },
  {
   "cell_type": "code",
   "execution_count": 9,
   "metadata": {},
   "outputs": [
    {
     "name": "stdout",
     "output_type": "stream",
     "text": [
      "Before inserting keys: [None, None, None, None, None, None, None, None, None, None]\n",
      "After  inserting keys: [None, 1, 2, 3, None, None, None, None, None, None]\n",
      "insert: All operations were successful.\n"
     ]
    }
   ],
   "source": [
    "hash_table = list([None]*ARRAY_SIZE)\n",
    "success = []\n",
    "keys = [1, 3, 2]\n",
    "\n",
    "print(TEXT_BEFORE_INSERTING, hash_table)\n",
    "for k in keys:\n",
    "    success.append(insert_lin_probing(k))\n",
    "print(TEXT_AFTER_INSERTING, hash_table)\n",
    "\n",
    "print_success(\"insert:\")"
   ]
  },
  {
   "cell_type": "code",
   "execution_count": 10,
   "metadata": {},
   "outputs": [
    {
     "name": "stdout",
     "output_type": "stream",
     "text": [
      "search: All operations were successful.\n",
      "search: At least one operation was not successful.\n"
     ]
    }
   ],
   "source": [
    "# search for all keys\n",
    "success = []\n",
    "for k in keys:\n",
    "    success.append(search_lin_probing(k))\n",
    "print_success(\"search:\")\n",
    "success.append(search_lin_probing(1000))\n",
    "print_success(\"search:\")"
   ]
  },
  {
   "cell_type": "code",
   "execution_count": 11,
   "metadata": {},
   "outputs": [],
   "source": [
    "# ... and here ..."
   ]
  }
 ],
 "metadata": {
  "kernelspec": {
   "display_name": "Python 3",
   "language": "python",
   "name": "python3"
  },
  "language_info": {
   "codemirror_mode": {
    "name": "ipython",
    "version": 3
   },
   "file_extension": ".py",
   "mimetype": "text/x-python",
   "name": "python",
   "nbconvert_exporter": "python",
   "pygments_lexer": "ipython3",
   "version": "3.8.5"
  }
 },
 "nbformat": 4,
 "nbformat_minor": 4
}
